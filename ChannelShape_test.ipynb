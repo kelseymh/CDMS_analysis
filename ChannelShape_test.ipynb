{
 "cells": [
  {
   "cell_type": "code",
   "execution_count": 1,
   "id": "d94fe4ec-94ec-4847-8419-424bb35dde1c",
   "metadata": {},
   "outputs": [
    {
     "name": "stdout",
     "output_type": "stream",
     "text": [
      "Welcome to JupyROOT 6.28/10\n"
     ]
    }
   ],
   "source": [
    "from imports import *\n",
    "from ChannelShape import *"
   ]
  },
  {
   "cell_type": "code",
   "execution_count": 2,
   "id": "08aed6ac-e549-4fa1-9150-3f2271cc0956",
   "metadata": {},
   "outputs": [
    {
     "name": "stdout",
     "output_type": "stream",
     "text": [
      "None\n",
      "11\n",
      "{'oZIP': 4, 'iZIP1': 10, 'iZIP2': 12, 'iZIP5': 11, 'CDMSlite1': 21, 'CDMSlite2': 22, 'iZIP7': 700, 'iZIP7Si': 701, 'HV100mm': 710, 'HV100mmSi': 711}\n",
      "HV100mm\n"
     ]
    }
   ],
   "source": [
    "# Confirm that name/type lookups work after first call\n",
    "print(DetectorShape._dtypes)                # Should print \"None\"\n",
    "print(DetectorShape.getDetType(\"iZIP5\"))    # Should print \"11\"\n",
    "print(DetectorShape._dtypes)                # Should now print dictionary\n",
    "print(DetectorShape.getDetName(710))        # Should print \"HV100mm\""
   ]
  },
  {
   "cell_type": "code",
   "execution_count": 3,
   "id": "e59bf4b7-3633-4a80-a490-04f8da23389d",
   "metadata": {},
   "outputs": [],
   "source": [
    "# Files containing detector geometries\n",
    "iZIP5=\"data/GeometryOnly/iZIP5_elog1425.root\"\n",
    "iZIP7=\"data/GeometryOnly/iZIP7_elog1425.root\"\n",
    "HV100mm=\"data/GeometryOnly/HV100mm_elog1425.root\""
   ]
  },
  {
   "cell_type": "code",
   "execution_count": 4,
   "id": "29757149-486f-4df3-b2e1-d79573522a2b",
   "metadata": {},
   "outputs": [
    {
     "data": {
      "text/plain": [
       "{'Qo1': <ChannelShape('Qo1',2,43.26,48.3,-3.141592653589793,3.141592653589793,1.0)>,\n",
       " 'Qi1': <ChannelShape('Qi1',2,0.0,43.26,-3.141592653589793,3.141592653589793,1.0)>,\n",
       " 'Qo2': <ChannelShape('Qo2',2,43.26,48.3,-3.141592653589793,3.141592653589793,-1.0)>,\n",
       " 'Qi2': <ChannelShape('Qi2',2,0.0,43.26,-3.141592653589793,3.141592653589793,-1.0)>,\n",
       " 'PBS1': <ChannelShape('PBS1',1,19.262,44.818,1.5707963267948966,3.141592653589793,1.0)>,\n",
       " 'PAS1': <ChannelShape('PAS1',1,44.818,48.3,-3.141592653589793,3.141592653589793,1.0)>,\n",
       " 'PCS1': <ChannelShape('PCS1',1,19.262,44.818,-3.141592653589793,-1.5707963267948966,1.0)>,\n",
       " 'PFS1': <ChannelShape('PFS1',1,0.0,19.262,-3.141592653589793,3.141592653589793,1.0)>,\n",
       " 'PDS1': <ChannelShape('PDS1',1,19.262,44.818,-1.5707963267948966,0.0,1.0)>,\n",
       " 'PES1': <ChannelShape('PES1',1,19.262,44.818,0.0,1.5707963267948966,1.0)>,\n",
       " 'PBS2': <ChannelShape('PBS2',1,19.262,44.818,0.7853981633974483,2.356194490192345,-1.0)>,\n",
       " 'PFS2': <ChannelShape('PFS2',1,0.0,19.262,-3.141592653589793,3.141592653589793,-1.0)>,\n",
       " 'PES2': <ChannelShape('PES2',1,19.262,44.818,2.356194490192345,-2.356194490192345,-1.0)>,\n",
       " 'PAS2': <ChannelShape('PAS2',1,44.818,48.3,-3.141592653589793,3.141592653589793,-1.0)>,\n",
       " 'PDS2': <ChannelShape('PDS2',1,19.262,44.818,-2.356194490192345,-0.7853981633974483,-1.0)>,\n",
       " 'PCS2': <ChannelShape('PCS2',1,19.262,44.818,-0.7853981633974483,0.7853981633974483,-1.0)>,\n",
       " 'Det': <ChannelShape('Det',None,0.0,50.0,-3.141592653589793,3.141592653589793,1)>}"
      ]
     },
     "execution_count": 4,
     "metadata": {},
     "output_type": "execute_result"
    }
   ],
   "source": [
    "# Load a geometry file\n",
    "Det_iZIP7=DetectorShape().Load(iZIP7)\n",
    "Det_iZIP7"
   ]
  },
  {
   "cell_type": "code",
   "execution_count": 5,
   "id": "3fae6134-2c54-4967-9e9b-1b3eb870d259",
   "metadata": {},
   "outputs": [
    {
     "name": "stdout",
     "output_type": "stream",
     "text": [
      "Channel PCS1 (TES): r[19.262..44.818 mm] phi[-180.0..-90.0 deg] +z\n",
      "  2 flats: Flat @ phi 90.0 [79.94776220335044..100.05223779664956] deg, r 44.13 mm\n",
      "           Flat @ phi -90.0 [-100.05223779664956..-79.94776220335044] deg, r 44.13 mm\n",
      "Channel Qo2 (FET): r[43.26..48.3 mm] phi[-180.0..180.0 deg] -z\n",
      "Channel Det (NA): r[0.0..50.0 mm] phi[-180.0..180.0 deg] +z\n",
      "  2 flats: Flat @ phi 90.0 [79.64087389415656..100.35912610584344] deg, r 49.185 mm\n",
      "           Flat @ phi -90.0 [-100.35912610584344..-79.64087389415656] deg, r 49.185 mm\n"
     ]
    }
   ],
   "source": [
    "print(Det_iZIP7[\"PCS1\"])\n",
    "print(Det_iZIP7[\"Qo2\"])\n",
    "print(Det_iZIP7[\"Det\"])"
   ]
  },
  {
   "cell_type": "code",
   "execution_count": 6,
   "id": "caa051a4-8f47-4393-bc4a-e3ccaede4660",
   "metadata": {},
   "outputs": [
    {
     "name": "stdout",
     "output_type": "stream",
     "text": [
      "{'PBS1': <ChannelShape('PBS1',1,19.262,44.818,1.5707963267948966,3.141592653589793,1.0)>, 'PAS1': <ChannelShape('PAS1',1,44.818,48.3,-3.141592653589793,3.141592653589793,1.0)>, 'PCS1': <ChannelShape('PCS1',1,19.262,44.818,-3.141592653589793,-1.5707963267948966,1.0)>, 'PFS1': <ChannelShape('PFS1',1,0.0,19.262,-3.141592653589793,3.141592653589793,1.0)>, 'PDS1': <ChannelShape('PDS1',1,19.262,44.818,-1.5707963267948966,0.0,1.0)>, 'PES1': <ChannelShape('PES1',1,19.262,44.818,0.0,1.5707963267948966,1.0)>, 'PBS2': <ChannelShape('PBS2',1,19.262,44.818,0.7853981633974483,2.356194490192345,-1.0)>, 'PFS2': <ChannelShape('PFS2',1,0.0,19.262,-3.141592653589793,3.141592653589793,-1.0)>, 'PES2': <ChannelShape('PES2',1,19.262,44.818,2.356194490192345,-2.356194490192345,-1.0)>, 'PAS2': <ChannelShape('PAS2',1,44.818,48.3,-3.141592653589793,3.141592653589793,-1.0)>, 'PDS2': <ChannelShape('PDS2',1,19.262,44.818,-2.356194490192345,-0.7853981633974483,-1.0)>, 'PCS2': <ChannelShape('PCS2',1,19.262,44.818,-0.7853981633974483,0.7853981633974483,-1.0)>}\n"
     ]
    }
   ],
   "source": [
    "print(Det_iZIP7.TES)"
   ]
  },
  {
   "cell_type": "code",
   "execution_count": 7,
   "id": "adbf988d-828a-46e0-bd9b-20b1a1716f5c",
   "metadata": {},
   "outputs": [
    {
     "name": "stdout",
     "output_type": "stream",
     "text": [
      "True\n",
      "False\n"
     ]
    }
   ],
   "source": [
    "print(Det_iZIP7.contains((0,-15,1)))        # Reports True\n",
    "print(Det_iZIP7.contains((45,20,-12)))      # Reports False"
   ]
  },
  {
   "cell_type": "code",
   "execution_count": 8,
   "id": "9fd335ce-7166-4fc3-9ff3-8d75a2666dff",
   "metadata": {},
   "outputs": [
    {
     "name": "stdout",
     "output_type": "stream",
     "text": [
      "['Qi1', 'PFS1']\n",
      "['Qi2', 'PFS2']\n"
     ]
    }
   ],
   "source": [
    "# Reports channel where point is located\n",
    "# FIXME: Reports charge channels because they come first in dictionary\n",
    "# TODO: Have it return a list of all the matches (excluding \"Det\")\n",
    "print(Det_iZIP7.findChannel((0,-15,1)))\n",
    "print(Det_iZIP7.findChannel((0,-15,-1)))"
   ]
  },
  {
   "cell_type": "code",
   "execution_count": 15,
   "id": "bc5680d9-db1d-4a01-9772-ab18901c1cc1",
   "metadata": {},
   "outputs": [
    {
     "name": "stdout",
     "output_type": "stream",
     "text": [
      "['PCS1', 'PDS1']\n",
      "Qi2\n"
     ]
    }
   ],
   "source": [
    "# NOTE: Boundaries between channels on top are at 0, +/-pi/2, pi\n",
    "print(Det_iZIP7.TES.findChannel((0,-25,1)))     # Matches two channels!\n",
    "print(Det_iZIP7.FET.findChannel((0,-25,-1)))"
   ]
  },
  {
   "cell_type": "code",
   "execution_count": 10,
   "id": "8c37298e-4bba-4f6d-b71a-36263e130e32",
   "metadata": {},
   "outputs": [
    {
     "name": "stdout",
     "output_type": "stream",
     "text": [
      "(35.35533905932738, 35.35533905932737)\n",
      "(-35.35533905932737, 35.35533905932738)\n",
      "(3.0117126408031283e-15, 49.185)\n"
     ]
    }
   ],
   "source": [
    "# Get (x,y) point on sidewall closest to specified position\n",
    "print(Det_iZIP7.getPointOnEdge((30,30)))    # Inside detector, reports (35.355,35.355)\n",
    "print(Det_iZIP7.getPointOnEdge((-70,70)))   # Outside detector, reports (-35.355,35.355)\n",
    "print(Det_iZIP7.getPointOnEdge((0,45)))     # Inside detector, near top flat (0,49.185)"
   ]
  },
  {
   "cell_type": "code",
   "execution_count": 11,
   "id": "65ed19bf-4c40-475f-beb0-bef352a084c6",
   "metadata": {},
   "outputs": [
    {
     "name": "stdout",
     "output_type": "stream",
     "text": [
      "(0.7071067811865476, 0.7071067811865475)\n"
     ]
    }
   ],
   "source": [
    "# Get unit normal vector at specified sidewall point\n",
    "edge = Det_iZIP7.getPointOnEdge((30,30))    # Point at phi = 45 degrees\n",
    "print(Det_iZIP7.getOutwardNormal(edge))     # Should be (0.7071,0.7071)"
   ]
  },
  {
   "cell_type": "code",
   "execution_count": 19,
   "id": "e9e80b13-f5ef-4751-b90f-1f25407be44f",
   "metadata": {},
   "outputs": [],
   "source": [
    "# Let's see if I can draw the detector outline\n",
    "phi = np.arange(1000)*2.*pi/1000.\n",
    "rdet = [ChannelShape.cart2pol(Det_iZIP7.getPointAtPhi(f))[0] for f in phi]\n",
    "edge = [Det_iZIP7.getPointAtPhi(f) for f in phi]    # Cartesian points"
   ]
  },
  {
   "cell_type": "code",
   "execution_count": 18,
   "id": "8077341e-c83a-400d-85be-20f5be3a4943",
   "metadata": {},
   "outputs": [
    {
     "data": {
      "text/plain": [
       "[<matplotlib.lines.Line2D at 0x2ab4957c4a60>]"
      ]
     },
     "execution_count": 18,
     "metadata": {},
     "output_type": "execute_result"
    },
    {
     "data": {
      "image/png": "[encoded data removed]",
      "text/plain": [
       "<Figure size 640x480 with 1 Axes>"
      ]
     },
     "metadata": {},
     "output_type": "display_data"
    }
   ],
   "source": [
    "plt.plot(*zip(*edge))"
   ]
  },
  {
   "cell_type": "code",
   "execution_count": null,
   "id": "dd147a8c-7198-488e-8614-d62d2c2364a6",
   "metadata": {},
   "outputs": [],
   "source": []
  }
 ],
 "metadata": {
  "kernelspec": {
   "display_name": "Python 3 (ipykernel)",
   "language": "python",
   "name": "python3"
  },
  "language_info": {
   "codemirror_mode": {
    "name": "ipython",
    "version": 3
   },
   "file_extension": ".py",
   "mimetype": "text/x-python",
   "name": "python",
   "nbconvert_exporter": "python",
   "pygments_lexer": "ipython3",
   "version": "3.10.12"
  }
 },
 "nbformat": 4,
 "nbformat_minor": 5
}
