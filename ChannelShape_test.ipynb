{
 "cells": [
  {
   "cell_type": "code",
   "execution_count": null,
   "id": "d94fe4ec-94ec-4847-8419-424bb35dde1c",
   "metadata": {},
   "outputs": [],
   "source": [
    "from imports import *\n",
    "from ChannelShape import *"
   ]
  },
  {
   "cell_type": "code",
   "execution_count": null,
   "id": "08aed6ac-e549-4fa1-9150-3f2271cc0956",
   "metadata": {},
   "outputs": [],
   "source": [
    "# Confirm that name/type lookups work after first call\n",
    "print(DetectorShape._dtypes)                # Should print \"None\"\n",
    "print(DetectorShape.getDetType(\"iZIP5\"))    # Should print \"11\"\n",
    "print(DetectorShape._dtypes)                # Should now print dictionary\n",
    "print(DetectorShape.getDetName(710))        # Should print \"HV100mm\""
   ]
  },
  {
   "cell_type": "code",
   "execution_count": null,
   "id": "e59bf4b7-3633-4a80-a490-04f8da23389d",
   "metadata": {},
   "outputs": [],
   "source": [
    "# Files containing detector geometries\n",
    "iZIP5=\"data/GeometryOnly/iZIP5_elog1425.root\"\n",
    "iZIP7=\"data/GeometryOnly/iZIP7_elog1425.root\"\n",
    "HV100mm=\"data/GeometryOnly/HV100mm_elog1425.root\""
   ]
  },
  {
   "cell_type": "code",
   "execution_count": null,
   "id": "29757149-486f-4df3-b2e1-d79573522a2b",
   "metadata": {},
   "outputs": [],
   "source": [
    "# Load a geometry file\n",
    "Det_iZIP7=DetectorShape().Load(iZIP7)\n",
    "Det_iZIP7"
   ]
  },
  {
   "cell_type": "code",
   "execution_count": null,
   "id": "3fae6134-2c54-4967-9e9b-1b3eb870d259",
   "metadata": {},
   "outputs": [],
   "source": [
    "print(Det_iZIP7[\"PCS1\"])\n",
    "print(Det_iZIP7[\"Qo2\"])\n",
    "print(Det_iZIP7[\"Det\"])"
   ]
  },
  {
   "cell_type": "code",
   "execution_count": null,
   "id": "caa051a4-8f47-4393-bc4a-e3ccaede4660",
   "metadata": {},
   "outputs": [],
   "source": [
    "print(Det_iZIP7.TES)"
   ]
  },
  {
   "cell_type": "code",
   "execution_count": null,
   "id": "adbf988d-828a-46e0-bd9b-20b1a1716f5c",
   "metadata": {},
   "outputs": [],
   "source": [
    "print(Det_iZIP7.contains((0,-15,1)))        # Reports True\n",
    "print(Det_iZIP7.contains((45,20,-12)))      # Reports False"
   ]
  },
  {
   "cell_type": "code",
   "execution_count": null,
   "id": "9fd335ce-7166-4fc3-9ff3-8d75a2666dff",
   "metadata": {},
   "outputs": [],
   "source": [
    "# Reports channel where point is located\n",
    "# FIXME: Reports charge channels because they come first in dictionary\n",
    "# TODO: Have it return a list of all the matches (excluding \"Det\")\n",
    "print(Det_iZIP7.findChannel((0,-15,1)))\n",
    "print(Det_iZIP7.findChannel((0,-15,-1)))"
   ]
  },
  {
   "cell_type": "code",
   "execution_count": null,
   "id": "bc5680d9-db1d-4a01-9772-ab18901c1cc1",
   "metadata": {},
   "outputs": [],
   "source": [
    "# NOTE: Boundaries between channels on top are at 0, +/-pi/2, pi\n",
    "print(Det_iZIP7.TES.findChannel((0,-25,1)))     # Matches two channels!\n",
    "print(Det_iZIP7.FET.findChannel((0,-25,-1)))"
   ]
  },
  {
   "cell_type": "code",
   "execution_count": null,
   "id": "8c37298e-4bba-4f6d-b71a-36263e130e32",
   "metadata": {},
   "outputs": [],
   "source": [
    "# Get (x,y) point on sidewall closest to specified position\n",
    "print(Det_iZIP7.getPointOnEdge((30,30)))    # Inside detector, reports (35.355,35.355)\n",
    "print(Det_iZIP7.getPointOnEdge((-70,70)))   # Outside detector, reports (-35.355,35.355)\n",
    "print(Det_iZIP7.getPointOnEdge((0,45)))     # Inside detector, near top flat (0,49.185)"
   ]
  },
  {
   "cell_type": "code",
   "execution_count": null,
   "id": "65ed19bf-4c40-475f-beb0-bef352a084c6",
   "metadata": {},
   "outputs": [],
   "source": [
    "# Get unit normal vector at specified sidewall point\n",
    "edge = Det_iZIP7.getPointOnEdge((30,30))    # Point at phi = 45 degrees\n",
    "print(Det_iZIP7.getOutwardNormal(edge))     # Should be (0.7071,0.7071)"
   ]
  },
  {
   "cell_type": "code",
   "execution_count": null,
   "id": "e9e80b13-f5ef-4751-b90f-1f25407be44f",
   "metadata": {},
   "outputs": [],
   "source": [
    "# Let's see if I can draw the detector outline\n",
    "phi = np.arange(1000)*2.*pi/1000.\n",
    "rdet = [ChannelShape.cart2pol(Det_iZIP7.getPointAtPhi(f))[0] for f in phi]\n",
    "edge = [Det_iZIP7.getPointAtPhi(f) for f in phi]    # Cartesian points"
   ]
  },
  {
   "cell_type": "code",
   "execution_count": null,
   "id": "8077341e-c83a-400d-85be-20f5be3a4943",
   "metadata": {},
   "outputs": [],
   "source": [
    "plt.plot(*zip(*edge))"
   ]
  },
  {
   "cell_type": "code",
   "execution_count": null,
   "id": "dd147a8c-7198-488e-8614-d62d2c2364a6",
   "metadata": {},
   "outputs": [],
   "source": []
  }
 ],
 "metadata": {
  "kernelspec": {
   "display_name": "Python 3 (ipykernel)",
   "language": "python",
   "name": "python3"
  },
  "language_info": {
   "codemirror_mode": {
    "name": "ipython",
    "version": 3
   },
   "file_extension": ".py",
   "mimetype": "text/x-python",
   "name": "python",
   "nbconvert_exporter": "python",
   "pygments_lexer": "ipython3",
   "version": "3.10.12"
  }
 },
 "nbformat": 4,
 "nbformat_minor": 5
}
