{
 "cells": [
  {
   "cell_type": "code",
   "execution_count": null,
   "id": "f0a1e65b-5c21-4678-99ec-547740921398",
   "metadata": {},
   "outputs": [],
   "source": [
    "from imports import *\n",
    "import traces_rdf\n",
    "%matplotlib inline"
   ]
  },
  {
   "cell_type": "code",
   "execution_count": null,
   "id": "f531f2b8-969b-43c0-91d2-ab3d92a252f0",
   "metadata": {},
   "outputs": [],
   "source": [
    "# Use traces with large trigger shifts -- P*S1 channels have -100 to -400 us shifts\n",
    "trigShift = 'data/FastDMC/TriggerShift/iZIP5-TrigShift_00241024_0000.root'"
   ]
  },
  {
   "cell_type": "code",
   "execution_count": null,
   "id": "b851a0ae-03f7-48db-b02c-98308e6e4f91",
   "metadata": {},
   "outputs": [],
   "source": [
    "def bestI0(file, sensor, event, iChan):\n",
    "    \"\"\"Compute 'adaptive I0' for trace, scanning the supposed pre-trigger\n",
    "       baseline for the range of values with the smallest RMS.  This\n",
    "       should exclude the region where the real trace starts.  Returns\n",
    "       computed I0 value, along with index of average and RMS value.\"\"\"\n",
    "    bins, trace = traces_rdf.loadTrace(file, event, iChan, sensor)\n",
    "\n",
    "    start = 5                   # Need some bins to compute RMS\n",
    "\n",
    "    rms = [np.std(trace[:i],ddof=1) for i in range(start,len(trace))]\n",
    "    eom = [np.std(trace[:i])/sqrt(i) for i in range(start,len(trace))]\n",
    "    ibest = eom.index(min(eom))+start\n",
    "\n",
    "    return np.mean(trace[:ibest]), ibest, eom[ibest]"
   ]
  },
  {
   "cell_type": "code",
   "execution_count": null,
   "id": "52192bec-977d-44e7-9fcc-16a80181408f",
   "metadata": {},
   "outputs": [],
   "source": [
    "event=0\n",
    "iChan=7\n",
    "adaptiveI0, ibase, err = bestI0(trigShift, \"TES\", event, iChan)"
   ]
  },
  {
   "cell_type": "code",
   "execution_count": null,
   "id": "e0ca134f-8622-4f09-9dbf-709e0fc9691e",
   "metadata": {},
   "outputs": [],
   "source": [
    "print(\"Average from 0 to bin\",ibase,\"=\", adaptiveI0,\"+-\",err)"
   ]
  },
  {
   "cell_type": "code",
   "execution_count": null,
   "id": "4f3cdb73-6df3-465a-bd79-7f94329153ea",
   "metadata": {},
   "outputs": [],
   "source": [
    "chans = traces_rdf.getChannels(trigShift, \"TES\", event)\n",
    "for i in range(len(chans)):\n",
    "    I0, ibase, err = bestI0(trigShift, \"TES\", event, i)\n",
    "    print(chans[i],\": I0 =\",I0,\"+-\",err,\" to bin\",ibase)"
   ]
  },
  {
   "cell_type": "code",
   "execution_count": null,
   "id": "8dc842c3-457f-4a92-95ad-db558903d5b8",
   "metadata": {},
   "outputs": [],
   "source": [
    "bins, trace = traces_rdf.loadTrace(trigShift, event, iChan, \"TES\")\n",
    "eom = [0]*5 + [np.std(trace[:i],ddof=1)/sqrt(i) for i in range(5,len(trace))]\n",
    "runningI0 = [np.mean(trace[:i]) for i in range(1,len(trace))]"
   ]
  },
  {
   "cell_type": "code",
   "execution_count": null,
   "id": "032bae03-0140-457c-b3d7-9fdc87dded86",
   "metadata": {},
   "outputs": [],
   "source": [
    "plt.plot(bins, eom, label=\"EOM [0:time]\")\n",
    "plt.yscale('log')\n",
    "plt.legend()"
   ]
  },
  {
   "cell_type": "code",
   "execution_count": null,
   "id": "47b36b60-1992-4220-8800-088295f463af",
   "metadata": {},
   "outputs": [],
   "source": [
    "plt.plot(bins, runningI0, label=\"Cumulative average\")\n",
    "plt.legend()"
   ]
  },
  {
   "cell_type": "code",
   "execution_count": null,
   "id": "872ebb1e-b478-49bc-a381-0259c76bbbde",
   "metadata": {},
   "outputs": [],
   "source": []
  }
 ],
 "metadata": {
  "kernelspec": {
   "display_name": "Python 3 (ipykernel)",
   "language": "python",
   "name": "python3"
  },
  "language_info": {
   "codemirror_mode": {
    "name": "ipython",
    "version": 3
   },
   "file_extension": ".py",
   "mimetype": "text/x-python",
   "name": "python",
   "nbconvert_exporter": "python",
   "pygments_lexer": "ipython3",
   "version": "3.10.12"
  }
 },
 "nbformat": 4,
 "nbformat_minor": 5
}
