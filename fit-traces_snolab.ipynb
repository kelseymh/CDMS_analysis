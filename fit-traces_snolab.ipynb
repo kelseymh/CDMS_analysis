{
 "cells": [
  {
   "cell_type": "code",
   "execution_count": 1,
   "metadata": {
    "scrolled": true
   },
   "outputs": [
    {
     "name": "stdout",
     "output_type": "stream",
     "text": [
      "Welcome to JupyROOT 6.24/06\n"
     ]
    }
   ],
   "source": [
    "import imports\n",
    "from traces_numpy import *\n",
    "%matplotlib inline"
   ]
  },
  {
   "cell_type": "code",
   "execution_count": 2,
   "metadata": {},
   "outputs": [],
   "source": [
    "iZIP7   = 'data/SNOLAB_TES/iZIP7-TES_51231118_000000.root'\n",
    "iZIP7Si = 'data/SNOLAB_TES/iZIP7Si-TES_51231118_000000.root'\n",
    "HV100mm = 'data/SNOLAB_TES/HV100mm-TES_51231118_000000.root'\n",
    "HVSi    = 'data/SNOLAB_TES/HV100mmSi-TES_51231118_000000.root'"
   ]
  },
  {
   "cell_type": "code",
   "execution_count": 3,
   "metadata": {},
   "outputs": [],
   "source": [
    "# All the SNOLAB channels should have the same baseline and same scaling\n",
    "def TESscaling(file):\n",
    "    chans = getChannels(file, \"TES\")\n",
    "    \n",
    "    # Get channel energy from \"g4dmcEvent\" branch\n",
    "    data = root_numpy.root2array(file, treename=\"G4SimDir/g4dmcEvent\", branches=['PhononE'])\n",
    "    phononE = data['PhononE'][0]         # Pull first event array out of data structure\n",
    "    \n",
    "    # Trace binning, useful for finding average baseline\n",
    "    binning = getBinning(file, \"TES\")\n",
    "    start = int(-binning['T0']/binning['BinWidth'])   # Index of start of signal\n",
    "\n",
    "    traceRaw = getRawTES(file)['PAS1'][0]\n",
    "    traceTES = getTES(file)['PAS1'][0]\n",
    "\n",
    "    I0 = np.mean(traceRaw[10:start])\n",
    "    Ipeak = np.max(traceTES)\n",
    "    IvsE = Ipeak / phononE[chans.index('PAS1')]  # PhononE is just a simple array\n",
    "    \n",
    "    # FIXME:  Get trace units from TTree, instead of assuming them\n",
    "    print(\"Ipeak = {} uA @ {} eV\".format(Ipeak, phononE[chans.index('PAS1')]))\n",
    "    print(f\"I0 = {I0} uA\")\n",
    "    print(f\"I/E = {IvsE} uA/eV\")"
   ]
  },
  {
   "cell_type": "code",
   "execution_count": 13,
   "metadata": {},
   "outputs": [],
   "source": [
    "# All the SNOLAB channels should have the same baseline and same scaling\n",
    "def TESshape(file):\n",
    "    chans = getChannels(file, \"TES\")\n",
    "    \n",
    "    # Trace binning parameters to find index of start of signal\n",
    "    binning = getBinning(file, \"TES\")\n",
    "    start = int(-binning['T0']/binning['BinWidth'])\n",
    "\n",
    "    traceTES = getTES(file)['PAS1'][0][start:]\n",
    "    bins = getBins(file, \"TES\")['PAS1'][start:]/1e6   # Convert to seconds\n",
    "    \n",
    "    def tesShape(t, A, rise, fall):\n",
    "        return A*(np.exp(-t/fall)-np.exp(-t/rise))\n",
    "\n",
    "    tesfit = curve_fit(tesShape, bins, traceTES, p0=[32,100e-6,1000e-6])\n",
    "    print(\"Fit output and covariance matrix\")\n",
    "    print(tesfit[0])\n",
    "    print(tesfit[1])\n",
    "    [A, rise, fall] = tesfit[0]\n",
    "    print(\"Rise time: {} us\".format(rise*1e6))\n",
    "    print(\"Fall time: {} us\".format(fall*1e6))"
   ]
  },
  {
   "cell_type": "code",
   "execution_count": 14,
   "metadata": {},
   "outputs": [
    {
     "name": "stdout",
     "output_type": "stream",
     "text": [
      "Ipeak = 0.030194953101094768 uA @ 66.4674969591778 eV\n",
      "I0 = 31.848067226781648 uA\n",
      "I/E = 0.0004542814831682249 uA/eV\n",
      "Fit output and covariance matrix\n",
      "[177.52247763   0.43907583   0.43913345]\n",
      "[[-1.30398677e+16 -2.11666810e+09  2.11635695e+09]\n",
      " [-2.11666814e+09 -3.43583524e+02  3.43533056e+02]\n",
      " [ 2.11635692e+09  3.43533045e+02 -3.43482506e+02]]\n",
      "Rise time: 439075.8282768904 us\n",
      "Fall time: 439133.45486020064 us\n"
     ]
    },
    {
     "name": "stderr",
     "output_type": "stream",
     "text": [
      "/scratch/group/mitchcomp/eb/x86_64/sw/IPython/7.2.0-foss-2018b-Python-3.6.6-notebook-6.0.3/lib/python3.6/site-packages/ipykernel_launcher.py:13: RuntimeWarning: overflow encountered in exp\n",
      "  del sys.path[0]\n"
     ]
    }
   ],
   "source": [
    "TESscaling(iZIP7)\n",
    "# Shape fitting isn't working yet\n",
    "TESshape(iZIP7)"
   ]
  },
  {
   "cell_type": "code",
   "execution_count": null,
   "metadata": {},
   "outputs": [],
   "source": [
    "TESscaling(iZIP7Si)"
   ]
  },
  {
   "cell_type": "code",
   "execution_count": null,
   "metadata": {},
   "outputs": [],
   "source": [
    "TESscaling(HV100mm)"
   ]
  },
  {
   "cell_type": "code",
   "execution_count": null,
   "metadata": {},
   "outputs": [],
   "source": [
    "TESscaling(HVSi)"
   ]
  },
  {
   "cell_type": "code",
   "execution_count": null,
   "metadata": {},
   "outputs": [],
   "source": []
  }
 ],
 "metadata": {
  "kernelspec": {
   "display_name": "Python 3",
   "language": "python",
   "name": "python3"
  },
  "language_info": {
   "codemirror_mode": {
    "name": "ipython",
    "version": 3
   },
   "file_extension": ".py",
   "mimetype": "text/x-python",
   "name": "python",
   "nbconvert_exporter": "python",
   "pygments_lexer": "ipython3",
   "version": "3.6.6"
  }
 },
 "nbformat": 4,
 "nbformat_minor": 2
}
