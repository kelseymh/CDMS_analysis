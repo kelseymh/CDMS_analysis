{
 "cells": [
  {
   "cell_type": "code",
   "execution_count": null,
   "metadata": {},
   "outputs": [],
   "source": [
    "import numpy as np\n",
    "import pandas as pd\n",
    "import matplotlib.pyplot as plt\n",
    "import glob\n",
    "import ROOT\n",
    "\n",
    "from root_numpy import root2array,fill_profile\n",
    "from scipy.stats import norm as StatsNorm    # for gaussian fitting\n",
    "from ROOT import TProfile"
   ]
  },
  {
   "cell_type": "code",
   "execution_count": null,
   "metadata": {},
   "outputs": [],
   "source": [
    "#Predefine the figure size and font size\n",
    "%matplotlib inline\n",
    "plt.rcParams['figure.figsize'] = [10.7, 6]\n",
    "plt.rcParams['font.size']=20\n",
    "plt.rcParams['axes.labelsize']=16\n",
    "plt.rcParams['axes.titlesize']=20\n",
    "plt.rcParams['figure.dpi']=80\n",
    "plt.rcParams['legend.fontsize']=16"
   ]
  },
  {
   "cell_type": "markdown",
   "metadata": {},
   "source": [
    "# 0. Data File and Quantities"
   ]
  },
  {
   "cell_type": "code",
   "execution_count": null,
   "metadata": {},
   "outputs": [],
   "source": [
    "directory = '/scratch/group/mitchcomp/CDMS/data/nolan/Lei_Samples/CDMSlite_Unifield/samples'\n",
    "# Particle Hits and DMC outputs (combined)\n",
    "SuperSim_dir = directory+'/hits/custom/*Sep25*/output'\n",
    "SuperSimfile = sorted(glob.glob(SuperSim_dir+'/*.root'))\n",
    "# Raw data (combined)\n",
    "#RawData_dir = directory + '/raw/custom/*may15*/combined_Binary_files'\n",
    "#RawDatafile = sorted(glob.glob(RawData_dir+'/*.gz'))\n",
    "# RQ and RRQ\n",
    "#RQRRQ_dir = directory + '/processed/custom/*may15*/output/submerged/all/bg'\n",
    "#RQfile    = sorted(glob.glob(RQRRQ_dir+'/merge*.root'))\n",
    "#RRQfile   = sorted(glob.glob(RQRRQ_dir+'/calib*.root'))\n",
    "\n",
    "Geometry0 = root2array(SuperSimfile[0], treename=\"G4SettingsInfoDir/Geometry\")\n",
    "Geometry0 = Geometry0[0]"
   ]
  },
  {
   "cell_type": "code",
   "execution_count": null,
   "metadata": {},
   "outputs": [],
   "source": [
    "#Versions\n",
    "VersionBranches = root2array(SuperSimfile, treename='G4SettingsInfoDir/Versions')\n",
    "Versions = pd.DataFrame(VersionBranches)\n",
    "Versions.iloc[0]"
   ]
  },
  {
   "cell_type": "code",
   "execution_count": null,
   "metadata": {},
   "outputs": [],
   "source": [
    "#SuperSim Macro\n",
    "f = ROOT.TFile(SuperSimfile[0],'READ')\n",
    "SuperSim_Macro = f.Get('G4SettingsInfoDir/SuperSim_Macro')\n",
    "SuperSim_Macro.Print()"
   ]
  },
  {
   "cell_type": "code",
   "execution_count": null,
   "metadata": {},
   "outputs": [],
   "source": [
    "NumEvts_Gen = root2array(SuperSimfile, treename='G4SettingsInfoDir/runtime', branches='Events')\n",
    "NumEvts_Pro = root2array(SuperSimfile, treename='G4SimDir/g4dmcEvent',       branches='EventNum')\n",
    "NumEvts_Gen = int(sum(NumEvts_Gen))\n",
    "NumEvts_Pro = len(NumEvts_Pro)\n",
    "print('Number of Generaged Events: {}'.format(NumEvts_Gen))\n",
    "print('Number of Processed Events: {}'.format(NumEvts_Pro))"
   ]
  },
  {
   "cell_type": "code",
   "execution_count": null,
   "metadata": {},
   "outputs": [],
   "source": [
    "# recoil energy: energy deposited in the detector\n",
    "EvtNumbers  = root2array(SuperSimfile, treename='G4SimDir/g4dmcHits', branches='EventNum')\n",
    "Edeposit    = root2array(SuperSimfile, treename='G4SimDir/g4dmcHits', branches='trueEnergy')\n",
    "Erecoil     = Edeposit\n",
    "# expected phonon energy collected\n",
    "Y_lindhard  = root2array(SuperSimfile, treename=\"G4SimDir/g4dmcHits\", branches = 'LindhardYield')\n",
    "PhE_exp     = Erecoil*(1+Y_lindhard*70./2.96)/2. # divided by 2, only one side is read out in CDMSlite)\n",
    "PhE_exp     = PhE_exp/1e3  # unit: eV->keV\n",
    "# collected phonon energy in DMC, read out directly from g4dmcEvent\n",
    "PhE_DMC     = root2array(SuperSimfile, treename='G4SimDir/g4dmcEvent', branches='PhononE')\n",
    "PhE_DMC     = PhE_DMC/1e3  # unit: eV->keV\n",
    "# Calculate other further quantities\n",
    "PhEsum_DMC  = np.array([np.sum(i) for i in PhE_DMC])\n",
    "CollectEff  = PhEsum_DMC/PhE_exp\n",
    "PhE_DMC     = np.stack(PhE_DMC, axis=0)  # originally an array of arrays. Convert to a single array"
   ]
  },
  {
   "cell_type": "code",
   "execution_count": null,
   "metadata": {},
   "outputs": [],
   "source": [
    "# Positions\n",
    "PositionX = root2array(SuperSimfile, treename='G4SimDir/g4dmcHits', branches='X')\n",
    "PositionY = root2array(SuperSimfile, treename='G4SimDir/g4dmcHits', branches='Y')\n",
    "PositionZ = root2array(SuperSimfile, treename='G4SimDir/g4dmcHits', branches='Z')\n",
    "X = PositionX*1e3    # unit: m->mm\n",
    "Y = PositionY*1e3    # unit: m->mm\n",
    "Z = PositionZ*1e3    # unit: m->mm\n",
    "R = np.sqrt(X**2+Y**2)"
   ]
  },
  {
   "cell_type": "code",
   "execution_count": null,
   "metadata": {},
   "outputs": [],
   "source": [
    "PhE_A   = PhE_DMC[:,0]\n",
    "PhE_B   = PhE_DMC[:,1]\n",
    "PhE_C   = PhE_DMC[:,2]\n",
    "PhE_D   = PhE_DMC[:,3]\n",
    "PhE_sum = PhEsum_DMC\n",
    "PhE_BCD = PhE_B+PhE_C+PhE_D"
   ]
  },
  {
   "cell_type": "code",
   "execution_count": null,
   "metadata": {},
   "outputs": [],
   "source": [
    "EnergyTotal = 123.24 #keV"
   ]
  },
  {
   "cell_type": "markdown",
   "metadata": {},
   "source": [
    "# 1. Phonon Energy vs R"
   ]
  },
  {
   "cell_type": "code",
   "execution_count": null,
   "metadata": {},
   "outputs": [],
   "source": [
    "cut=CollectEff>=0.98\n",
    "np.count_nonzero(cut)"
   ]
  },
  {
   "cell_type": "code",
   "execution_count": null,
   "metadata": {},
   "outputs": [],
   "source": [
    "fig, axs = plt.subplots(2, 1, sharex=True)\n",
    "fig.suptitle('Phonon Energy in DMC vs R, ColEff≥0.98')\n",
    "axs[0].plot(R[cut], PhE_BCD[cut], '.',markersize=2,label='PB+PC+PD')\n",
    "#axs[0].plot(R[~cut],PhE_BCD[~cut],'.',markersize=2,label='PB+PC+PD'+', ColEff<0.98')\n",
    "axs[0].legend()\n",
    "axs[1].plot(R[cut], PhE_A[cut], '.',markersize=2,label='PA')\n",
    "#axs[1].plot(R[~cut],PhE_A[~cut],'.',markersize=2,label='PA'+', ColEff<0.98')\n",
    "axs[1].legend()\n",
    "\n",
    "for ax in axs.flat:\n",
    "    ax.set(xlabel='R [mm]',ylabel='Phonon Energy [keV]')\n",
    "    ax.label_outer()   \n",
    "    \n",
    "plt.show()"
   ]
  },
  {
   "cell_type": "markdown",
   "metadata": {},
   "source": [
    "# 2. Two Circle Model and its Prediction"
   ]
  },
  {
   "cell_type": "markdown",
   "metadata": {},
   "source": [
    "## 2.1 One Circle for Fast Component"
   ]
  },
  {
   "cell_type": "code",
   "execution_count": null,
   "metadata": {},
   "outputs": [],
   "source": [
    "r1 = 15\n",
    "R1 = 31.3\n",
    "R2 = 36.1\n",
    "R3 = 38.1\n",
    "\n",
    "step = 0.1\n",
    "d    = np.linspace(0,R3,int(R3/step))"
   ]
  },
  {
   "cell_type": "code",
   "execution_count": null,
   "metadata": {},
   "outputs": [],
   "source": [
    "plt.figure(figsize=(10, 8), dpi=100)\n",
    "Rh = 30\n",
    "circle_Det   = plt.Circle(( 0, 0), R3, edgecolor='k',fill=False)\n",
    "circle_PA    = plt.Circle(( 0, 0), R2, edgecolor='k',fill=False)\n",
    "circle_PBCD  = plt.Circle(( 0, 0), R1, edgecolor='k',fill=False)\n",
    "\n",
    "plt.gca().add_patch(circle_Det)\n",
    "plt.gca().add_patch(circle_PA)\n",
    "plt.gca().add_patch(circle_PBCD)\n",
    "\n",
    "plt.text(-3, 31,'PA', fontsize='30')\n",
    "#plt.text( -1,  31, 'A', size='xx-large')\n",
    "plt.text(-6, 20,'PBCD', fontsize='30')\n",
    "\n",
    "\n",
    "plt.xlim(-40-2,40+20+2)\n",
    "plt.ylim(-40+0.5,40-0.5)\n",
    "plt.axis('off')\n",
    "plt.show()"
   ]
  },
  {
   "cell_type": "code",
   "execution_count": null,
   "metadata": {},
   "outputs": [],
   "source": [
    "plt.figure(figsize=(10, 8), dpi=100)\n",
    "Rh = 30\n",
    "circle_Det   = plt.Circle(( 0, 0), R3, edgecolor='k',fill=False)\n",
    "circle_PA    = plt.Circle(( 0, 0), R2, edgecolor='k',fill=False)\n",
    "circle_PBCD  = plt.Circle(( 0, 0), R1, edgecolor='k',fill=False)\n",
    "circle_slow  = plt.Circle(( 0, 0), R2, color='lightblue', alpha=0.5)\n",
    "circle_fast1 = plt.Circle((Rh, 0), r1, color='orange', alpha=0.5)\n",
    "#circle_fast2 = plt.Circle((Rh, 0), r2, color='orange', alpha=0.5)\n",
    "#circle_fast3 = plt.Circle((Rh, 0), r3, color='orange', alpha=0.5)\n",
    "plt.plot(Rh, 0,'*',color='k',markersize=30)\n",
    "plt.gca().add_patch(circle_Det)\n",
    "plt.gca().add_patch(circle_PA)\n",
    "plt.gca().add_patch(circle_PBCD)\n",
    "plt.gca().add_patch(circle_slow)\n",
    "plt.gca().add_patch(circle_fast1)\n",
    "#plt.gca().add_patch(circle_fast2)\n",
    "#plt.gca().add_patch(circle_fast3)\n",
    "\n",
    "plt.text(-3, 31,'PA', fontsize='30')\n",
    "#plt.text( -1,  31, 'A', size='xx-large')\n",
    "plt.text(-6, 20,'PBCD', fontsize='30')\n",
    "\n",
    "\n",
    "plt.xlim(-40-2,40+20+2)\n",
    "plt.ylim(-40+0.5,40-0.5)\n",
    "plt.axis('off')\n",
    "plt.show()"
   ]
  },
  {
   "cell_type": "code",
   "execution_count": null,
   "metadata": {},
   "outputs": [],
   "source": [
    "pi = np.pi\n",
    "Area_r1 = pi*r1**2\n",
    "#Area_r2 = pi*r2**2\n",
    "#Area_r3 = pi*r3**2\n",
    "Area_R1 = pi*R1**2\n",
    "Area_R2 = pi*R2**2\n",
    "Area_R3 = pi*R3**2"
   ]
  },
  {
   "cell_type": "code",
   "execution_count": null,
   "metadata": {},
   "outputs": [],
   "source": [
    "Area_PT   = pi*R2**2\n",
    "Area_PA   = pi*R2**2-pi*R1**2\n",
    "Area_PBCD = pi*R1**2"
   ]
  },
  {
   "cell_type": "code",
   "execution_count": null,
   "metadata": {},
   "outputs": [],
   "source": [
    "Area_slowPBCD  = Area_PBCD\n",
    "Area_slowPA    = Area_PA\n",
    "Ratio_slowPBCD = Area_PBCD/Area_PT\n",
    "Ratio_slowPA   = Area_PA/Area_PT"
   ]
  },
  {
   "cell_type": "code",
   "execution_count": null,
   "metadata": {},
   "outputs": [],
   "source": [
    "EnergyfastRatio1 = 6.00/100\n",
    "#EnergyfastRatio2 = 3.00/100\n",
    "#EnergyfastRatio3 = 2.00/100\n",
    "EnergyslowRatio  = 1-EnergyfastRatio1"
   ]
  },
  {
   "cell_type": "markdown",
   "metadata": {},
   "source": [
    "### 2.1.1 Fraction of Phonon Energy BCD"
   ]
  },
  {
   "cell_type": "code",
   "execution_count": null,
   "metadata": {},
   "outputs": [],
   "source": [
    "step = 0.1\n",
    "## overlap r1R1\n",
    "d1    = np.linspace(R1-r1+step,R3,int((R3-R1+r1)/step))\n",
    "term1 = (r1**2)*np.arccos((d1**2+r1**2-R1**2)/(2*d1*r1))\n",
    "term2 = (R1**2)*np.arccos((d1**2-r1**2+R1**2)/(2*d1*R1))\n",
    "term3 = -0.5*np.sqrt((d1+r1-R1)*(d1-r1+R1)*(-d1+r1+R1)*(d1+r1+R1))\n",
    "Area_overlap_r1R1  = term1+term2+term3\n",
    "Area_lune_r1R1     = Area_r1-Area_overlap_r1R1\n",
    "Ratio_overlap_r1R1 = Area_overlap_r1R1/Area_r1\n",
    "Ratio_lune_r1R1    = 1-Ratio_overlap_r1R1\n",
    "Ratio_r1inBCD = np.concatenate((np.ones(len(d)-len(d1)),Ratio_overlap_r1R1),axis=None)"
   ]
  },
  {
   "cell_type": "code",
   "execution_count": null,
   "metadata": {},
   "outputs": [],
   "source": [
    "Energy_BCD = EnergyTotal*( EnergyfastRatio1*Ratio_r1inBCD\n",
    "                          +EnergyslowRatio*Ratio_slowPBCD)"
   ]
  },
  {
   "cell_type": "code",
   "execution_count": null,
   "metadata": {},
   "outputs": [],
   "source": [
    "plt.plot(R[cut], PhE_BCD[cut]/EnergyTotal, '.',markersize=2,label='SimData')\n",
    "plt.plot(d,Energy_BCD/EnergyTotal,label='2CirModel')\n",
    "\n",
    "plt.title('Phonon Energy Ratio, PBCD'+'\\nSimData and 2CirModel')\n",
    "plt.xlabel('R [mm]')\n",
    "plt.ylabel('Phonon Energy Ratio')\n",
    "plt.legend()\n",
    "plt.show()"
   ]
  },
  {
   "cell_type": "markdown",
   "metadata": {},
   "source": [
    "### 2.1.2 Fraction of Phonon Energy A"
   ]
  },
  {
   "cell_type": "code",
   "execution_count": null,
   "metadata": {},
   "outputs": [],
   "source": [
    "step = 0.1\n",
    "## overlap r1R2\n",
    "d1    = np.linspace(R2-r1+step,R3,int((R3-R2+r1)/step))\n",
    "term1 = (r1**2)*np.arccos((d1**2+r1**2-R2**2)/(2*d1*r1))\n",
    "term2 = (R2**2)*np.arccos((d1**2-r1**2+R2**2)/(2*d1*R2))\n",
    "term3 = -0.5*np.sqrt((d1+r1-R2)*(d1-r1+R2)*(-d1+r1+R2)*(d1+r1+R2))\n",
    "Area_overlap_r1R2  = term1+term2+term3\n",
    "Area_lune_r1R2     = Area_r1-Area_overlap_r1R2\n",
    "Ratio_overlap_r1R2 = Area_overlap_r1R2/Area_r1\n",
    "Ratio_lune_r1R2    = 1-Ratio_overlap_r1R2\n",
    "Ratio_r1inA = 1-Ratio_r1inBCD#-np.concatenate((np.zeros(len(d)-len(d1)),Ratio_lune_r1R2),axis=None)"
   ]
  },
  {
   "cell_type": "code",
   "execution_count": null,
   "metadata": {},
   "outputs": [],
   "source": [
    "Energy_A = EnergyTotal*( EnergyfastRatio1*Ratio_r1inA\n",
    "                        +EnergyslowRatio*Ratio_slowPA)"
   ]
  },
  {
   "cell_type": "code",
   "execution_count": null,
   "metadata": {},
   "outputs": [],
   "source": [
    "plt.plot(R[cut], PhE_A[cut]/EnergyTotal, '.',markersize=2,label='SimData')\n",
    "plt.plot(d,Energy_A/EnergyTotal,label='2CirModel')\n",
    "\n",
    "plt.title('Phonon Energy Ratio, PA'+'\\nSimData and 2CirModel')\n",
    "plt.xlabel('R [mm]')\n",
    "plt.ylabel('Phonon Energy Ratio')\n",
    "plt.legend()\n",
    "plt.show()"
   ]
  },
  {
   "cell_type": "markdown",
   "metadata": {},
   "source": [
    "### 2.2.3 Phonon Energy A2BCD"
   ]
  },
  {
   "cell_type": "code",
   "execution_count": null,
   "metadata": {},
   "outputs": [],
   "source": [
    "PhE_A2BCD = PhE_A/PhE_BCD\n",
    "plt.plot(R[cut], PhE_A2BCD[cut], '.',markersize=2,label='SimData')\n",
    "plt.plot(d,Energy_A/Energy_BCD,label='2CirModel')\n",
    "#plt.plot(R[~cut],PhE_A2BCD[~cut],'.',label='ColEff<0.98')\n",
    "#plt.hlines(0.35,0,38.1,linestyles='dashed',colors='g',lw=2,label='A/BCD=0.35')\n",
    "plt.title('PhE_A/PhE_(B+C+D) vs R'+'\\nSimData and 2CirModel')\n",
    "plt.xlabel('R [mm]')\n",
    "plt.ylabel('PhE_A/PhE_(B+C+D)')\n",
    "plt.legend()\n",
    "plt.show()"
   ]
  },
  {
   "cell_type": "markdown",
   "metadata": {},
   "source": [
    "## 2.2 Two Circles for Fast Component"
   ]
  },
  {
   "cell_type": "code",
   "execution_count": null,
   "metadata": {},
   "outputs": [],
   "source": [
    "r1 = 7\n",
    "r2 = 15\n",
    "#r3 = 25\n",
    "R1 = 31.3\n",
    "R2 = 36.1\n",
    "R3 = 38.1\n",
    "\n",
    "step = 0.1\n",
    "d    = np.linspace(0,R3,int(R3/step))"
   ]
  },
  {
   "cell_type": "code",
   "execution_count": null,
   "metadata": {},
   "outputs": [],
   "source": [
    "plt.figure(figsize=(10, 8), dpi=100)\n",
    "Rh = 20\n",
    "circle_Det   = plt.Circle(( 0, 0), R3, edgecolor='k',fill=False)\n",
    "circle_PA    = plt.Circle(( 0, 0), R2, edgecolor='k',fill=False)\n",
    "circle_PBCD  = plt.Circle(( 0, 0), R1, edgecolor='k',fill=False)\n",
    "circle_slow  = plt.Circle(( 0, 0), R2, color='lightblue', alpha=0.5)\n",
    "circle_fast1 = plt.Circle((Rh, 0), r1, color='orange', alpha=0.5)\n",
    "circle_fast2 = plt.Circle((Rh, 0), r2, color='orange', alpha=0.5)\n",
    "#circle_fast3 = plt.Circle((Rh, 0), r3, color='orange', alpha=0.5)\n",
    "plt.plot(Rh, 0,'*',color='k',markersize=30)\n",
    "plt.gca().add_patch(circle_Det)\n",
    "plt.gca().add_patch(circle_PA)\n",
    "plt.gca().add_patch(circle_PBCD)\n",
    "plt.gca().add_patch(circle_slow)\n",
    "plt.gca().add_patch(circle_fast1)\n",
    "plt.gca().add_patch(circle_fast2)\n",
    "#plt.gca().add_patch(circle_fast3)\n",
    "\n",
    "plt.text(-3, 31,'PA', fontsize='30')\n",
    "#plt.text( -1,  31, 'A', size='xx-large')\n",
    "plt.text(-6, 20,'PBCD', fontsize='30')\n",
    "\n",
    "\n",
    "plt.xlim(-40-2,40+20+2)\n",
    "plt.ylim(-40+0.5,40-0.5)\n",
    "plt.axis('off')\n",
    "plt.show()"
   ]
  },
  {
   "cell_type": "code",
   "execution_count": null,
   "metadata": {},
   "outputs": [],
   "source": [
    "EnergyfastRatio1 = 3.00/100\n",
    "EnergyfastRatio2 = 3.00/100\n",
    "#EnergyfastRatio3 = 2.00/100\n",
    "EnergyslowRatio  = 1-EnergyfastRatio1-EnergyfastRatio2"
   ]
  },
  {
   "cell_type": "code",
   "execution_count": null,
   "metadata": {},
   "outputs": [],
   "source": [
    "pi = np.pi\n",
    "Area_r1 = pi*r1**2\n",
    "Area_r2 = pi*r2**2\n",
    "#Area_r3 = pi*r3**2\n",
    "Area_R1 = pi*R1**2\n",
    "Area_R2 = pi*R2**2\n",
    "Area_R3 = pi*R3**2"
   ]
  },
  {
   "cell_type": "code",
   "execution_count": null,
   "metadata": {},
   "outputs": [],
   "source": [
    "Area_PT   = pi*R2**2\n",
    "Area_PA   = pi*R2**2-pi*R1**2\n",
    "Area_PBCD = pi*R1**2"
   ]
  },
  {
   "cell_type": "code",
   "execution_count": null,
   "metadata": {},
   "outputs": [],
   "source": [
    "Area_slowPBCD  = Area_PBCD\n",
    "Area_slowPA    = Area_PA\n",
    "Ratio_slowPBCD = Area_PBCD/Area_PT\n",
    "Ratio_slowPA   = Area_PA/Area_PT"
   ]
  },
  {
   "cell_type": "markdown",
   "metadata": {},
   "source": [
    "### 2.2.1 Fraction of Phonon Energy BCD"
   ]
  },
  {
   "cell_type": "code",
   "execution_count": null,
   "metadata": {},
   "outputs": [],
   "source": [
    "step = 0.1\n",
    "## overlap r1R1\n",
    "d1    = np.linspace(R1-r1+step,R3,int((R3-R1+r1)/step))\n",
    "term1 = (r1**2)*np.arccos((d1**2+r1**2-R1**2)/(2*d1*r1))\n",
    "term2 = (R1**2)*np.arccos((d1**2-r1**2+R1**2)/(2*d1*R1))\n",
    "term3 = -0.5*np.sqrt((d1+r1-R1)*(d1-r1+R1)*(-d1+r1+R1)*(d1+r1+R1))\n",
    "Area_overlap_r1R1  = term1+term2+term3\n",
    "Area_lune_r1R1     = Area_r1-Area_overlap_r1R1\n",
    "Ratio_overlap_r1R1 = Area_overlap_r1R1/Area_r1\n",
    "Ratio_lune_r1R1    = 1-Ratio_overlap_r1R1\n",
    "Ratio_r1inBCD = np.concatenate((np.ones(len(d)-len(d1)),Ratio_overlap_r1R1),axis=None)"
   ]
  },
  {
   "cell_type": "code",
   "execution_count": null,
   "metadata": {},
   "outputs": [],
   "source": [
    "## overlap r2R1\n",
    "d2    = np.linspace(R1-r2+step,R3,int((R3-R1+r2)/step))\n",
    "term1 = (r2**2)*np.arccos((d2**2+r2**2-R1**2)/(2*d2*r2))\n",
    "term2 = (R1**2)*np.arccos((d2**2-r2**2+R1**2)/(2*d2*R1))\n",
    "term3 = -0.5*np.sqrt((d2+r2-R1)*(d2-r2+R1)*(-d2+r2+R1)*(d2+r2+R1))\n",
    "Area_overlap_r2R1  = term1+term2+term3\n",
    "Area_lune_r2R1     = Area_r2-Area_overlap_r2R1\n",
    "Ratio_overlap_r2R1 = Area_overlap_r2R1/Area_r2\n",
    "Ratio_lune_r2R1    = 1-Ratio_overlap_r2R1\n",
    "Ratio_r2inBCD = np.concatenate((np.ones(len(d)-len(d2)),Ratio_overlap_r2R1),axis=None)"
   ]
  },
  {
   "cell_type": "code",
   "execution_count": null,
   "metadata": {},
   "outputs": [],
   "source": [
    "Energy_BCD = EnergyTotal*( EnergyfastRatio1*Ratio_r1inBCD\n",
    "                          +EnergyfastRatio2*Ratio_r2inBCD\n",
    "                          +EnergyslowRatio*Ratio_slowPBCD)"
   ]
  },
  {
   "cell_type": "code",
   "execution_count": null,
   "metadata": {},
   "outputs": [],
   "source": [
    "plt.plot(R[cut], PhE_BCD[cut]/EnergyTotal, '.',markersize=2,label='SimData')\n",
    "plt.plot(d,Energy_BCD/EnergyTotal,label='2CirModel')\n",
    "\n",
    "plt.title('Phonon Energy Ratio, PBCD'+'\\nSimData and 2CirModel')\n",
    "plt.xlabel('R [mm]')\n",
    "plt.ylabel('Phonon Energy Ratio')\n",
    "plt.legend()\n",
    "plt.show()"
   ]
  },
  {
   "cell_type": "markdown",
   "metadata": {},
   "source": [
    "### 2.2.2 Fraction of Phonon Energy A"
   ]
  },
  {
   "cell_type": "code",
   "execution_count": null,
   "metadata": {},
   "outputs": [],
   "source": [
    "step = 0.1\n",
    "## overlap r1R2\n",
    "d1    = np.linspace(R2-r1+step,R3,int((R3-R2+r1)/step))\n",
    "term1 = (r1**2)*np.arccos((d1**2+r1**2-R2**2)/(2*d1*r1))\n",
    "term2 = (R2**2)*np.arccos((d1**2-r1**2+R2**2)/(2*d1*R2))\n",
    "term3 = -0.5*np.sqrt((d1+r1-R2)*(d1-r1+R2)*(-d1+r1+R2)*(d1+r1+R2))\n",
    "Area_overlap_r1R2  = term1+term2+term3\n",
    "Area_lune_r1R2     = Area_r1-Area_overlap_r1R2\n",
    "Ratio_overlap_r1R2 = Area_overlap_r1R2/Area_r1\n",
    "Ratio_lune_r1R2    = 1-Ratio_overlap_r1R2\n",
    "Ratio_r1inA = 1-Ratio_r1inBCD#-np.concatenate((np.zeros(len(d)-len(d1)),Ratio_lune_r1R2),axis=None)"
   ]
  },
  {
   "cell_type": "code",
   "execution_count": null,
   "metadata": {},
   "outputs": [],
   "source": [
    "step = 0.1\n",
    "## overlap r2R2\n",
    "d2    = np.linspace(R2-r2+step,R3,int((R3-R2+r2)/step))\n",
    "term1 = (r2**2)*np.arccos((d2**2+r2**2-R2**2)/(2*d2*r2))\n",
    "term2 = (R2**2)*np.arccos((d2**2-r2**2+R2**2)/(2*d2*R2))\n",
    "term3 = -0.5*np.sqrt((d2+r2-R2)*(d2-r2+R2)*(-d2+r2+R2)*(d2+r2+R2))\n",
    "Area_overlap_r2R2  = term1+term2+term3\n",
    "Area_lune_r2R2     = Area_r2-Area_overlap_r2R2\n",
    "Ratio_overlap_r2R2 = Area_overlap_r2R2/Area_r2\n",
    "Ratio_lune_r2R2    = 1-Ratio_overlap_r2R2\n",
    "Ratio_r2inA = 1-Ratio_r2inBCD#-np.concatenate((np.zeros(len(d)-len(d2)),Ratio_lune_r2R2),axis=None)"
   ]
  },
  {
   "cell_type": "code",
   "execution_count": null,
   "metadata": {},
   "outputs": [],
   "source": [
    "Energy_A = EnergyTotal*( EnergyfastRatio1*Ratio_r1inA\n",
    "                        +EnergyfastRatio2*Ratio_r2inA\n",
    "                        +EnergyslowRatio*Ratio_slowPA)"
   ]
  },
  {
   "cell_type": "code",
   "execution_count": null,
   "metadata": {},
   "outputs": [],
   "source": [
    "plt.plot(R[cut], PhE_A[cut]/EnergyTotal, '.',markersize=2,label='SimData')\n",
    "plt.plot(d,Energy_A/EnergyTotal,label='2CirModel')\n",
    "\n",
    "plt.title('Phonon Energy Ratio, PA'+'\\nSimData and 2CirModel')\n",
    "plt.xlabel('R [mm]')\n",
    "plt.ylabel('Phonon Energy Ratio')\n",
    "plt.legend()\n",
    "plt.show()"
   ]
  },
  {
   "cell_type": "markdown",
   "metadata": {},
   "source": [
    "### 2.2.3 Phonon Energy A2BCD"
   ]
  },
  {
   "cell_type": "code",
   "execution_count": null,
   "metadata": {},
   "outputs": [],
   "source": [
    "PhE_A2BCD = PhE_A/PhE_BCD\n",
    "plt.plot(R[cut], PhE_A2BCD[cut], '.',markersize=2,label='SimData')\n",
    "plt.plot(d,Energy_A/Energy_BCD,label='2CirModel')\n",
    "#plt.plot(R[~cut],PhE_A2BCD[~cut],'.',label='ColEff<0.98')\n",
    "#plt.hlines(0.35,0,38.1,linestyles='dashed',colors='g',lw=2,label='A/BCD=0.35')\n",
    "plt.title('PhE_A/PhE_(B+C+D) vs R'+'\\nSimData and 2CirModel')\n",
    "plt.xlabel('R [mm]')\n",
    "plt.ylabel('PhE_A/PhE_(B+C+D)')\n",
    "plt.legend()\n",
    "plt.show()"
   ]
  },
  {
   "cell_type": "markdown",
   "metadata": {},
   "source": [
    "## 2.3 Three Circles for Fast Component"
   ]
  },
  {
   "cell_type": "code",
   "execution_count": null,
   "metadata": {},
   "outputs": [],
   "source": [
    "r1 = 7\n",
    "r2 = 15\n",
    "r3 = 25\n",
    "R1 = 31.3\n",
    "R2 = 36.1\n",
    "R3 = 38.1\n",
    "\n",
    "step = 0.1\n",
    "d    = np.linspace(0,R3,int(R3/step))"
   ]
  },
  {
   "cell_type": "code",
   "execution_count": null,
   "metadata": {},
   "outputs": [],
   "source": [
    "plt.figure(figsize=(10, 8), dpi=100)\n",
    "Rh = 20\n",
    "circle_Det   = plt.Circle(( 0, 0), R3, edgecolor='k',fill=False)\n",
    "circle_PA    = plt.Circle(( 0, 0), R2, edgecolor='k',fill=False)\n",
    "circle_PBCD  = plt.Circle(( 0, 0), R1, edgecolor='k',fill=False)\n",
    "circle_slow  = plt.Circle(( 0, 0), R2, color='lightblue', alpha=0.5)\n",
    "circle_fast1 = plt.Circle((Rh, 0), r1, color='orange', alpha=0.5)\n",
    "circle_fast2 = plt.Circle((Rh, 0), r2, color='orange', alpha=0.5)\n",
    "circle_fast3 = plt.Circle((Rh, 0), r3, color='orange', alpha=0.5)\n",
    "plt.plot(Rh, 0,'*',color='k',markersize=30)\n",
    "plt.gca().add_patch(circle_Det)\n",
    "plt.gca().add_patch(circle_PA)\n",
    "plt.gca().add_patch(circle_PBCD)\n",
    "plt.gca().add_patch(circle_slow)\n",
    "plt.gca().add_patch(circle_fast1)\n",
    "plt.gca().add_patch(circle_fast2)\n",
    "plt.gca().add_patch(circle_fast3)\n",
    "\n",
    "plt.text(-3, 31,'PA', fontsize='30')\n",
    "#plt.text( -1,  31, 'A', size='xx-large')\n",
    "plt.text(-6, 20,'PBCD', fontsize='30')\n",
    "\n",
    "\n",
    "plt.xlim(-40-2,40+20+2)\n",
    "plt.ylim(-40+0.5,40-0.5)\n",
    "plt.axis('off')\n",
    "plt.show()"
   ]
  },
  {
   "cell_type": "code",
   "execution_count": null,
   "metadata": {},
   "outputs": [],
   "source": [
    "EnergyfastRatio1 = 2.00/100\n",
    "EnergyfastRatio2 = 2.00/100\n",
    "EnergyfastRatio3 = 2.00/100\n",
    "EnergyslowRatio  = 1-EnergyfastRatio1-EnergyfastRatio2-EnergyfastRatio3"
   ]
  },
  {
   "cell_type": "code",
   "execution_count": null,
   "metadata": {},
   "outputs": [],
   "source": [
    "pi = np.pi\n",
    "Area_r1 = pi*r1**2\n",
    "Area_r2 = pi*r2**2\n",
    "Area_r3 = pi*r3**2\n",
    "Area_R1 = pi*R1**2\n",
    "Area_R2 = pi*R2**2\n",
    "Area_R3 = pi*R3**2"
   ]
  },
  {
   "cell_type": "code",
   "execution_count": null,
   "metadata": {},
   "outputs": [],
   "source": [
    "Area_PT   = pi*R2**2\n",
    "Area_PA   = pi*R2**2-pi*R1**2\n",
    "Area_PBCD = pi*R1**2"
   ]
  },
  {
   "cell_type": "code",
   "execution_count": null,
   "metadata": {},
   "outputs": [],
   "source": [
    "Area_slowPBCD  = Area_PBCD\n",
    "Area_slowPA    = Area_PA\n",
    "Ratio_slowPBCD = Area_PBCD/Area_PT\n",
    "Ratio_slowPA   = Area_PA/Area_PT"
   ]
  },
  {
   "cell_type": "markdown",
   "metadata": {},
   "source": [
    "### 2.3.1 Fraction of Phonon Energy BCD"
   ]
  },
  {
   "cell_type": "code",
   "execution_count": null,
   "metadata": {},
   "outputs": [],
   "source": [
    "step = 0.1\n",
    "## overlap r1R1\n",
    "d1    = np.linspace(R1-r1+step,R3,int((R3-R1+r1)/step))\n",
    "term1 = (r1**2)*np.arccos((d1**2+r1**2-R1**2)/(2*d1*r1))\n",
    "term2 = (R1**2)*np.arccos((d1**2-r1**2+R1**2)/(2*d1*R1))\n",
    "term3 = -0.5*np.sqrt((d1+r1-R1)*(d1-r1+R1)*(-d1+r1+R1)*(d1+r1+R1))\n",
    "Area_overlap_r1R1  = term1+term2+term3\n",
    "Area_lune_r1R1     = Area_r1-Area_overlap_r1R1\n",
    "Ratio_overlap_r1R1 = Area_overlap_r1R1/Area_r1\n",
    "Ratio_lune_r1R1    = 1-Ratio_overlap_r1R1\n",
    "Ratio_r1inBCD = np.concatenate((np.ones(len(d)-len(d1)),Ratio_overlap_r1R1),axis=None)"
   ]
  },
  {
   "cell_type": "code",
   "execution_count": null,
   "metadata": {},
   "outputs": [],
   "source": [
    "## overlap r2R1\n",
    "d2    = np.linspace(R1-r2+step,R3,int((R3-R1+r2)/step))\n",
    "term1 = (r2**2)*np.arccos((d2**2+r2**2-R1**2)/(2*d2*r2))\n",
    "term2 = (R1**2)*np.arccos((d2**2-r2**2+R1**2)/(2*d2*R1))\n",
    "term3 = -0.5*np.sqrt((d2+r2-R1)*(d2-r2+R1)*(-d2+r2+R1)*(d2+r2+R1))\n",
    "Area_overlap_r2R1  = term1+term2+term3\n",
    "Area_lune_r2R1     = Area_r2-Area_overlap_r2R1\n",
    "Ratio_overlap_r2R1 = Area_overlap_r2R1/Area_r2\n",
    "Ratio_lune_r2R1    = 1-Ratio_overlap_r2R1\n",
    "Ratio_r2inBCD = np.concatenate((np.ones(len(d)-len(d2)),Ratio_overlap_r2R1),axis=None)"
   ]
  },
  {
   "cell_type": "code",
   "execution_count": null,
   "metadata": {},
   "outputs": [],
   "source": [
    "## overlap r3R1\n",
    "d3    = np.linspace(R1-r3+step,R3,int((R3-R1+r3)/step))\n",
    "term1 = (r3**2)*np.arccos((d3**2+r3**2-R1**2)/(2*d3*r3))\n",
    "term2 = (R1**2)*np.arccos((d3**2-r3**2+R1**2)/(2*d3*R1))\n",
    "term3 = -0.5*np.sqrt((d3+r3-R1)*(d3-r3+R1)*(-d3+r3+R1)*(d3+r3+R1))\n",
    "Area_overlap_r3R1  = term1+term2+term3\n",
    "Area_lune_r3R1     = Area_r3-Area_overlap_r3R1\n",
    "Ratio_overlap_r3R1 = Area_overlap_r3R1/Area_r3\n",
    "Ratio_lune_r3R1    = 1-Ratio_overlap_r3R1\n",
    "Ratio_r3inBCD = np.concatenate((np.ones(len(d)-len(d3)),Ratio_overlap_r3R1),axis=None)"
   ]
  },
  {
   "cell_type": "code",
   "execution_count": null,
   "metadata": {},
   "outputs": [],
   "source": [
    "Energy_BCD = EnergyTotal*( EnergyfastRatio1*Ratio_r1inBCD\n",
    "                          +EnergyfastRatio2*Ratio_r2inBCD\n",
    "                          +EnergyfastRatio3*Ratio_r3inBCD\n",
    "                          +EnergyslowRatio*Ratio_slowPBCD)"
   ]
  },
  {
   "cell_type": "code",
   "execution_count": null,
   "metadata": {},
   "outputs": [],
   "source": [
    "plt.plot(R[cut], PhE_BCD[cut]/EnergyTotal, '.',markersize=2,label='SimData')\n",
    "plt.plot(d,Energy_BCD/EnergyTotal,label='2CirModel')\n",
    "\n",
    "plt.title('Phonon Energy Ratio, PBCD'+'\\nSimData and 2CirModel')\n",
    "plt.xlabel('R [mm]')\n",
    "plt.ylabel('Phonon Energy Ratio')\n",
    "plt.legend()\n",
    "plt.show()"
   ]
  },
  {
   "cell_type": "markdown",
   "metadata": {},
   "source": [
    "### 2.3.2 Fraction of Phonon Energy A"
   ]
  },
  {
   "cell_type": "code",
   "execution_count": null,
   "metadata": {},
   "outputs": [],
   "source": [
    "step = 0.1\n",
    "## overlap r1R2\n",
    "d1    = np.linspace(R2-r1+step,R3,int((R3-R2+r1)/step))\n",
    "term1 = (r1**2)*np.arccos((d1**2+r1**2-R2**2)/(2*d1*r1))\n",
    "term2 = (R2**2)*np.arccos((d1**2-r1**2+R2**2)/(2*d1*R2))\n",
    "term3 = -0.5*np.sqrt((d1+r1-R2)*(d1-r1+R2)*(-d1+r1+R2)*(d1+r1+R2))\n",
    "Area_overlap_r1R2  = term1+term2+term3\n",
    "Area_lune_r1R2     = Area_r1-Area_overlap_r1R2\n",
    "Ratio_overlap_r1R2 = Area_overlap_r1R2/Area_r1\n",
    "Ratio_lune_r1R2    = 1-Ratio_overlap_r1R2\n",
    "Ratio_r1inA = 1-Ratio_r1inBCD#-np.concatenate((np.zeros(len(d)-len(d1)),Ratio_lune_r1R2),axis=None)"
   ]
  },
  {
   "cell_type": "code",
   "execution_count": null,
   "metadata": {},
   "outputs": [],
   "source": [
    "step = 0.1\n",
    "## overlap r2R2\n",
    "d2    = np.linspace(R2-r2+step,R3,int((R3-R2+r2)/step))\n",
    "term1 = (r2**2)*np.arccos((d2**2+r2**2-R2**2)/(2*d2*r2))\n",
    "term2 = (R2**2)*np.arccos((d2**2-r2**2+R2**2)/(2*d2*R2))\n",
    "term3 = -0.5*np.sqrt((d2+r2-R2)*(d2-r2+R2)*(-d2+r2+R2)*(d2+r2+R2))\n",
    "Area_overlap_r2R2  = term1+term2+term3\n",
    "Area_lune_r2R2     = Area_r2-Area_overlap_r2R2\n",
    "Ratio_overlap_r2R2 = Area_overlap_r2R2/Area_r2\n",
    "Ratio_lune_r2R2    = 1-Ratio_overlap_r2R2\n",
    "Ratio_r2inA = 1-Ratio_r2inBCD#-np.concatenate((np.zeros(len(d)-len(d2)),Ratio_lune_r2R2),axis=None)"
   ]
  },
  {
   "cell_type": "code",
   "execution_count": null,
   "metadata": {},
   "outputs": [],
   "source": [
    "step = 0.1\n",
    "## overlap r3R2\n",
    "d3    = np.linspace(R2-r3+step,R3,int((R3-R2+r3)/step))\n",
    "term1 = (r3**2)*np.arccos((d3**2+r3**2-R2**2)/(2*d3*r3))\n",
    "term2 = (R2**2)*np.arccos((d3**2-r3**2+R2**2)/(2*d3*R2))\n",
    "term3 = -0.5*np.sqrt((d3+r3-R2)*(d3-r3+R2)*(-d3+r3+R2)*(d3+r3+R2))\n",
    "Area_overlap_r3R2  = term1+term2+term3\n",
    "Area_lune_r3R2     = Area_r3-Area_overlap_r3R2\n",
    "Ratio_overlap_r3R2 = Area_overlap_r3R2/Area_r3\n",
    "Ratio_lune_r3R2    = 1-Ratio_overlap_r3R2\n",
    "Ratio_r3inA = 1-Ratio_r3inBCD#-np.concatenate((np.zeros(len(d)-len(d3)),Ratio_lune_r3R2),axis=None)"
   ]
  },
  {
   "cell_type": "code",
   "execution_count": null,
   "metadata": {},
   "outputs": [],
   "source": [
    "Energy_A = EnergyTotal*( EnergyfastRatio1*Ratio_r1inA\n",
    "                        +EnergyfastRatio2*Ratio_r2inA\n",
    "                        +EnergyfastRatio3*Ratio_r3inA\n",
    "                        +EnergyslowRatio*Ratio_slowPA)"
   ]
  },
  {
   "cell_type": "code",
   "execution_count": null,
   "metadata": {},
   "outputs": [],
   "source": [
    "plt.plot(R[cut], PhE_A[cut]/EnergyTotal, '.',markersize=2,label='SimData')\n",
    "plt.plot(d,Energy_A/EnergyTotal,label='2CirModel')\n",
    "\n",
    "plt.title('Phonon Energy Ratio, PA'+'\\nSimData and 2CirModel')\n",
    "plt.xlabel('R [mm]')\n",
    "plt.ylabel('Phonon Energy Ratio')\n",
    "plt.legend()\n",
    "plt.show()"
   ]
  },
  {
   "cell_type": "markdown",
   "metadata": {},
   "source": [
    "### 2.3.3 Phonon Energy A2BCD"
   ]
  },
  {
   "cell_type": "code",
   "execution_count": null,
   "metadata": {},
   "outputs": [],
   "source": [
    "PhE_A2BCD = PhE_A/PhE_BCD\n",
    "plt.plot(R[cut], PhE_A2BCD[cut], '.',markersize=2,label='SimData')\n",
    "plt.plot(d,Energy_A/Energy_BCD,label='2CirModel')\n",
    "#plt.plot(R[~cut],PhE_A2BCD[~cut],'.',label='ColEff<0.98')\n",
    "#plt.hlines(0.35,0,38.1,linestyles='dashed',colors='g',lw=2,label='A/BCD=0.35')\n",
    "plt.title('PhE_A/PhE_(B+C+D) vs R'+'\\nSimData and 2CirModel')\n",
    "plt.xlabel('R [mm]')\n",
    "plt.ylabel('PhE_A/PhE_(B+C+D)')\n",
    "plt.legend()\n",
    "plt.show()"
   ]
  },
  {
   "cell_type": "markdown",
   "metadata": {},
   "source": [
    "## 2.4 Four Circles for Fast Component"
   ]
  },
  {
   "cell_type": "code",
   "execution_count": null,
   "metadata": {},
   "outputs": [],
   "source": [
    "r1 = 7\n",
    "r2 = 15\n",
    "r3 = 22\n",
    "r4 = 29.9\n",
    "R1 = 31.3\n",
    "R2 = 36.1\n",
    "R3 = 38.1\n",
    "\n",
    "step = 0.1\n",
    "d    = np.linspace(0,R3,int(R3/step))"
   ]
  },
  {
   "cell_type": "code",
   "execution_count": null,
   "metadata": {},
   "outputs": [],
   "source": [
    "plt.figure(figsize=(10, 8), dpi=100)\n",
    "Rh = 20\n",
    "circle_Det   = plt.Circle(( 0, 0), R3, edgecolor='k',fill=False)\n",
    "circle_PA    = plt.Circle(( 0, 0), R2, edgecolor='k',fill=False)\n",
    "circle_PBCD  = plt.Circle(( 0, 0), R1, edgecolor='k',fill=False)\n",
    "circle_slow  = plt.Circle(( 0, 0), R2, color='lightblue', alpha=0.5)\n",
    "circle_fast1 = plt.Circle((Rh, 0), r1, color='orange', alpha=0.5)\n",
    "circle_fast2 = plt.Circle((Rh, 0), r2, color='orange', alpha=0.5)\n",
    "circle_fast3 = plt.Circle((Rh, 0), r3, color='orange', alpha=0.5)\n",
    "circle_fast4 = plt.Circle((Rh, 0), r4, color='orange', alpha=0.5)\n",
    "plt.plot(Rh, 0,'*',color='k',markersize=30)\n",
    "plt.gca().add_patch(circle_Det)\n",
    "plt.gca().add_patch(circle_PA)\n",
    "plt.gca().add_patch(circle_PBCD)\n",
    "plt.gca().add_patch(circle_slow)\n",
    "plt.gca().add_patch(circle_fast1)\n",
    "plt.gca().add_patch(circle_fast2)\n",
    "plt.gca().add_patch(circle_fast3)\n",
    "plt.gca().add_patch(circle_fast4)\n",
    "\n",
    "plt.text(-3, 31,'PA', fontsize='30')\n",
    "#plt.text( -1,  31, 'A', size='xx-large')\n",
    "plt.text(-6, 20,'PBCD', fontsize='30')\n",
    "\n",
    "\n",
    "plt.xlim(-40-2,40+20+2)\n",
    "plt.ylim(-40+0.5,40-0.5)\n",
    "plt.axis('off')\n",
    "plt.show()"
   ]
  },
  {
   "cell_type": "code",
   "execution_count": null,
   "metadata": {},
   "outputs": [],
   "source": [
    "EnergyfastRatio1 = 1.50/100\n",
    "EnergyfastRatio2 = 1.50/100\n",
    "EnergyfastRatio3 = 1.50/100\n",
    "EnergyfastRatio4 = 1.50/100\n",
    "EnergyslowRatio  = 1-EnergyfastRatio1-EnergyfastRatio2-EnergyfastRatio3-EnergyfastRatio4"
   ]
  },
  {
   "cell_type": "code",
   "execution_count": null,
   "metadata": {},
   "outputs": [],
   "source": [
    "pi = np.pi\n",
    "Area_r1 = pi*r1**2\n",
    "Area_r2 = pi*r2**2\n",
    "Area_r3 = pi*r3**2\n",
    "Area_r4 = pi*r4**2\n",
    "Area_R1 = pi*R1**2\n",
    "Area_R2 = pi*R2**2\n",
    "Area_R3 = pi*R3**2"
   ]
  },
  {
   "cell_type": "code",
   "execution_count": null,
   "metadata": {},
   "outputs": [],
   "source": [
    "Area_PT   = pi*R2**2\n",
    "Area_PA   = pi*R2**2-pi*R1**2\n",
    "Area_PBCD = pi*R1**2"
   ]
  },
  {
   "cell_type": "code",
   "execution_count": null,
   "metadata": {},
   "outputs": [],
   "source": [
    "Area_slowPBCD  = Area_PBCD\n",
    "Area_slowPA    = Area_PA\n",
    "Ratio_slowPBCD = Area_PBCD/Area_PT\n",
    "Ratio_slowPA   = Area_PA/Area_PT"
   ]
  },
  {
   "cell_type": "markdown",
   "metadata": {},
   "source": [
    "### 2.4.1 Fraction of Phonon Energy BCD"
   ]
  },
  {
   "cell_type": "code",
   "execution_count": null,
   "metadata": {},
   "outputs": [],
   "source": [
    "step = 0.1\n",
    "## overlap r1R1\n",
    "d1    = np.linspace(R1-r1+step,R3,int((R3-R1+r1)/step))\n",
    "term1 = (r1**2)*np.arccos((d1**2+r1**2-R1**2)/(2*d1*r1))\n",
    "term2 = (R1**2)*np.arccos((d1**2-r1**2+R1**2)/(2*d1*R1))\n",
    "term3 = -0.5*np.sqrt((d1+r1-R1)*(d1-r1+R1)*(-d1+r1+R1)*(d1+r1+R1))\n",
    "Area_overlap_r1R1  = term1+term2+term3\n",
    "Area_lune_r1R1     = Area_r1-Area_overlap_r1R1\n",
    "Ratio_overlap_r1R1 = Area_overlap_r1R1/Area_r1\n",
    "Ratio_lune_r1R1    = 1-Ratio_overlap_r1R1\n",
    "Ratio_r1inBCD = np.concatenate((np.ones(len(d)-len(d1)),Ratio_overlap_r1R1),axis=None)"
   ]
  },
  {
   "cell_type": "code",
   "execution_count": null,
   "metadata": {},
   "outputs": [],
   "source": [
    "## overlap r2R1\n",
    "d2    = np.linspace(R1-r2+step,R3,int((R3-R1+r2)/step))\n",
    "term1 = (r2**2)*np.arccos((d2**2+r2**2-R1**2)/(2*d2*r2))\n",
    "term2 = (R1**2)*np.arccos((d2**2-r2**2+R1**2)/(2*d2*R1))\n",
    "term3 = -0.5*np.sqrt((d2+r2-R1)*(d2-r2+R1)*(-d2+r2+R1)*(d2+r2+R1))\n",
    "Area_overlap_r2R1  = term1+term2+term3\n",
    "Area_lune_r2R1     = Area_r2-Area_overlap_r2R1\n",
    "Ratio_overlap_r2R1 = Area_overlap_r2R1/Area_r2\n",
    "Ratio_lune_r2R1    = 1-Ratio_overlap_r2R1\n",
    "Ratio_r2inBCD = np.concatenate((np.ones(len(d)-len(d2)),Ratio_overlap_r2R1),axis=None)"
   ]
  },
  {
   "cell_type": "code",
   "execution_count": null,
   "metadata": {},
   "outputs": [],
   "source": [
    "## overlap r3R1\n",
    "d3    = np.linspace(R1-r3+step,R3,int((R3-R1+r3)/step))\n",
    "term1 = (r3**2)*np.arccos((d3**2+r3**2-R1**2)/(2*d3*r3))\n",
    "term2 = (R1**2)*np.arccos((d3**2-r3**2+R1**2)/(2*d3*R1))\n",
    "term3 = -0.5*np.sqrt((d3+r3-R1)*(d3-r3+R1)*(-d3+r3+R1)*(d3+r3+R1))\n",
    "Area_overlap_r3R1  = term1+term2+term3\n",
    "Area_lune_r3R1     = Area_r3-Area_overlap_r3R1\n",
    "Ratio_overlap_r3R1 = Area_overlap_r3R1/Area_r3\n",
    "Ratio_lune_r3R1    = 1-Ratio_overlap_r3R1\n",
    "Ratio_r3inBCD = np.concatenate((np.ones(len(d)-len(d3)),Ratio_overlap_r3R1),axis=None)"
   ]
  },
  {
   "cell_type": "code",
   "execution_count": null,
   "metadata": {},
   "outputs": [],
   "source": [
    "d4    = np.linspace(R1-r4+step,R3,int((R3-R1+r4)/step))\n",
    "term1 = (r4**2)*np.arccos((d4**2+r4**2-R1**2)/(2*d4*r4))\n",
    "term2 = (R1**2)*np.arccos((d4**2-r4**2+R1**2)/(2*d4*R1))\n",
    "term3 = -0.5*np.sqrt((d4+r4-R1)*(d4-r4+R1)*(-d4+r4+R1)*(d4+r4+R1))\n",
    "Area_overlap_r4R1  = term1+term2+term3\n",
    "Area_lune_r4R1     = Area_r4-Area_overlap_r4R1\n",
    "Ratio_overlap_r4R1 = Area_overlap_r4R1/Area_r4\n",
    "Ratio_lune_r4R1    = 1-Ratio_overlap_r4R1\n",
    "Ratio_r4inBCD = np.concatenate((np.ones(len(d)-len(d4)),Ratio_overlap_r4R1),axis=None)"
   ]
  },
  {
   "cell_type": "code",
   "execution_count": null,
   "metadata": {},
   "outputs": [],
   "source": [
    "Energy_BCD = EnergyTotal*( EnergyfastRatio1*Ratio_r1inBCD\n",
    "                          +EnergyfastRatio2*Ratio_r2inBCD\n",
    "                          +EnergyfastRatio3*Ratio_r3inBCD\n",
    "                          +EnergyfastRatio3*Ratio_r4inBCD\n",
    "                          +EnergyslowRatio*Ratio_slowPBCD)"
   ]
  },
  {
   "cell_type": "code",
   "execution_count": null,
   "metadata": {},
   "outputs": [],
   "source": [
    "plt.plot(R[cut], PhE_BCD[cut]/EnergyTotal, '.',markersize=2,label='SimData')\n",
    "plt.plot(d,Energy_BCD/EnergyTotal,label='2CirModel')\n",
    "plt.title('Phonon Energy Ratio, PBCD'+'\\nSimData and 2CirModel')\n",
    "plt.xlabel('R [mm]')\n",
    "plt.ylabel('Phonon Energy Ratio')\n",
    "plt.legend()\n",
    "plt.show()"
   ]
  },
  {
   "cell_type": "markdown",
   "metadata": {},
   "source": [
    "### 2.3.2 Fraction of Phonon Energy A"
   ]
  },
  {
   "cell_type": "code",
   "execution_count": null,
   "metadata": {},
   "outputs": [],
   "source": [
    "step = 0.1\n",
    "## overlap r1R2\n",
    "d1    = np.linspace(R2-r1+step,R3,int((R3-R2+r1)/step))\n",
    "term1 = (r1**2)*np.arccos((d1**2+r1**2-R2**2)/(2*d1*r1))\n",
    "term2 = (R2**2)*np.arccos((d1**2-r1**2+R2**2)/(2*d1*R2))\n",
    "term3 = -0.5*np.sqrt((d1+r1-R2)*(d1-r1+R2)*(-d1+r1+R2)*(d1+r1+R2))\n",
    "Area_overlap_r1R2  = term1+term2+term3\n",
    "Area_lune_r1R2     = Area_r1-Area_overlap_r1R2\n",
    "Ratio_overlap_r1R2 = Area_overlap_r1R2/Area_r1\n",
    "Ratio_lune_r1R2    = 1-Ratio_overlap_r1R2\n",
    "Ratio_r1inA = 1-Ratio_r1inBCD#-np.concatenate((np.zeros(len(d)-len(d1)),Ratio_lune_r1R2),axis=None)"
   ]
  },
  {
   "cell_type": "code",
   "execution_count": null,
   "metadata": {},
   "outputs": [],
   "source": [
    "step = 0.1\n",
    "## overlap r2R2\n",
    "d2    = np.linspace(R2-r2+step,R3,int((R3-R2+r2)/step))\n",
    "term1 = (r2**2)*np.arccos((d2**2+r2**2-R2**2)/(2*d2*r2))\n",
    "term2 = (R2**2)*np.arccos((d2**2-r2**2+R2**2)/(2*d2*R2))\n",
    "term3 = -0.5*np.sqrt((d2+r2-R2)*(d2-r2+R2)*(-d2+r2+R2)*(d2+r2+R2))\n",
    "Area_overlap_r2R2  = term1+term2+term3\n",
    "Area_lune_r2R2     = Area_r2-Area_overlap_r2R2\n",
    "Ratio_overlap_r2R2 = Area_overlap_r2R2/Area_r2\n",
    "Ratio_lune_r2R2    = 1-Ratio_overlap_r2R2\n",
    "Ratio_r2inA = 1-Ratio_r2inBCD#-np.concatenate((np.zeros(len(d)-len(d2)),Ratio_lune_r2R2),axis=None)"
   ]
  },
  {
   "cell_type": "code",
   "execution_count": null,
   "metadata": {},
   "outputs": [],
   "source": [
    "step = 0.1\n",
    "## overlap r3R2\n",
    "d3    = np.linspace(R2-r3+step,R3,int((R3-R2+r3)/step))\n",
    "term1 = (r3**2)*np.arccos((d3**2+r3**2-R2**2)/(2*d3*r3))\n",
    "term2 = (R2**2)*np.arccos((d3**2-r3**2+R2**2)/(2*d3*R2))\n",
    "term3 = -0.5*np.sqrt((d3+r3-R2)*(d3-r3+R2)*(-d3+r3+R2)*(d3+r3+R2))\n",
    "Area_overlap_r3R2  = term1+term2+term3\n",
    "Area_lune_r3R2     = Area_r3-Area_overlap_r3R2\n",
    "Ratio_overlap_r3R2 = Area_overlap_r3R2/Area_r3\n",
    "Ratio_lune_r3R2    = 1-Ratio_overlap_r3R2\n",
    "Ratio_r3inA = 1-Ratio_r3inBCD#-np.concatenate((np.zeros(len(d)-len(d3)),Ratio_lune_r3R2),axis=None)"
   ]
  },
  {
   "cell_type": "code",
   "execution_count": null,
   "metadata": {},
   "outputs": [],
   "source": [
    "step = 0.1\n",
    "## overlap r4R2\n",
    "d4    = np.linspace(R2-r4+step,R3,int((R3-R2+r4)/step))\n",
    "term1 = (r4**2)*np.arccos((d4**2+r4**2-R2**2)/(2*d4*r4))\n",
    "term2 = (R2**2)*np.arccos((d4**2-r4**2+R2**2)/(2*d4*R2))\n",
    "term3 = -0.5*np.sqrt((d4+r4-R2)*(d4-r4+R2)*(-d4+r4+R2)*(d4+r4+R2))\n",
    "Area_overlap_r4R2  = term1+term2+term3\n",
    "Area_lune_r4R2     = Area_r4-Area_overlap_r4R2\n",
    "Ratio_overlap_r4R2 = Area_overlap_r4R2/Area_r4\n",
    "Ratio_lune_r4R2    = 1-Ratio_overlap_r4R2\n",
    "Ratio_r4inA = 1-Ratio_r4inBCD#-np.concatenate((np.zeros(len(d)-len(d4)),Ratio_lune_r4R2),axis=None)"
   ]
  },
  {
   "cell_type": "code",
   "execution_count": null,
   "metadata": {},
   "outputs": [],
   "source": [
    "Energy_A = EnergyTotal*( EnergyfastRatio1*Ratio_r1inA\n",
    "                        +EnergyfastRatio2*Ratio_r2inA\n",
    "                        +EnergyfastRatio3*Ratio_r3inA\n",
    "                        +EnergyfastRatio4*Ratio_r4inA\n",
    "                        +EnergyslowRatio*Ratio_slowPA)"
   ]
  },
  {
   "cell_type": "code",
   "execution_count": null,
   "metadata": {},
   "outputs": [],
   "source": [
    "plt.plot(R[cut], PhE_A[cut]/EnergyTotal, '.',markersize=2,label='SimData')\n",
    "plt.plot(d,Energy_A/EnergyTotal,label='2CirModel')\n",
    "plt.title('Phonon Energy Ratio, PA'+'\\nSimData and 2CirModel')\n",
    "plt.xlabel('R [mm]')\n",
    "plt.ylabel('Phonon Energy Ratio')\n",
    "plt.show()"
   ]
  },
  {
   "cell_type": "markdown",
   "metadata": {},
   "source": [
    "### 2.3.3 Phonon Energy A2BCD"
   ]
  },
  {
   "cell_type": "code",
   "execution_count": null,
   "metadata": {},
   "outputs": [],
   "source": [
    "PhE_A2BCD = PhE_A/PhE_BCD\n",
    "plt.plot(R[cut], PhE_A2BCD[cut], '.',markersize=2,label='SimData')\n",
    "plt.plot(d,Energy_A/Energy_BCD,label='2CirModel')\n",
    "#plt.plot(R[~cut],PhE_A2BCD[~cut],'.',label='ColEff<0.98')\n",
    "#plt.hlines(0.35,0,38.1,linestyles='dashed',colors='g',lw=2,label='A/BCD=0.35')\n",
    "plt.title('PhE_A/PhE_(B+C+D) vs R'+'\\nSimData and 2CirModel')\n",
    "plt.xlabel('R [mm]')\n",
    "plt.ylabel('PhE_A/PhE_(B+C+D)')\n",
    "plt.legend()\n",
    "plt.show()"
   ]
  },
  {
   "cell_type": "code",
   "execution_count": null,
   "metadata": {},
   "outputs": [],
   "source": []
  }
 ],
 "metadata": {
  "kernelspec": {
   "display_name": "Python 3",
   "language": "python",
   "name": "python3"
  },
  "language_info": {
   "codemirror_mode": {
    "name": "ipython",
    "version": 3
   },
   "file_extension": ".py",
   "mimetype": "text/x-python",
   "name": "python",
   "nbconvert_exporter": "python",
   "pygments_lexer": "ipython3",
   "version": "3.6.6"
  }
 },
 "nbformat": 4,
 "nbformat_minor": 2
}
