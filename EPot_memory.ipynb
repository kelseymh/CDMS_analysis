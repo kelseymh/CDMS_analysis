{
 "cells": [
  {
   "cell_type": "code",
   "execution_count": null,
   "id": "2282aea9-da13-4ed1-b53c-27a90f65ce69",
   "metadata": {},
   "outputs": [],
   "source": [
    "from imports import *\n",
    "%matplotlib inline"
   ]
  },
  {
   "cell_type": "code",
   "execution_count": null,
   "id": "c6ed7f5d-e501-4f7a-b167-78da9379822a",
   "metadata": {},
   "outputs": [],
   "source": [
    "memfile = 'data/EPot_global/epot-memory.dat'\n",
    "epotmem = pd.read_csv(memfile)\n",
    "epotmem"
   ]
  },
  {
   "cell_type": "code",
   "execution_count": null,
   "id": "a0d4f155-4331-48b1-98e7-a935b95c6d12",
   "metadata": {},
   "outputs": [],
   "source": [
    "plt.scatter(epotmem[\"Threads\"][epotmem[\"Field\"]==\"Uniform\"],epotmem[\"VMSize\"][epotmem[\"Field\"]==\"Uniform\"])"
   ]
  },
  {
   "cell_type": "code",
   "execution_count": null,
   "id": "1e9cfca6-d413-4aa1-a4f9-0ae3e9c340be",
   "metadata": {},
   "outputs": [],
   "source": [
    "plt.scatter(epotmem[\"Threads\"][epotmem[\"Field\"]==\"EPot\"],epotmem[\"VMSize\"][epotmem[\"Field\"]==\"EPot\"])"
   ]
  },
  {
   "cell_type": "code",
   "execution_count": null,
   "id": "f8ca8b70-e986-4aac-9aed-c514081c5422",
   "metadata": {},
   "outputs": [],
   "source": []
  }
 ],
 "metadata": {
  "kernelspec": {
   "display_name": "Python 3 (ipykernel)",
   "language": "python",
   "name": "python3"
  },
  "language_info": {
   "codemirror_mode": {
    "name": "ipython",
    "version": 3
   },
   "file_extension": ".py",
   "mimetype": "text/x-python",
   "name": "python",
   "nbconvert_exporter": "python",
   "pygments_lexer": "ipython3",
   "version": "3.10.12"
  }
 },
 "nbformat": 4,
 "nbformat_minor": 5
}
