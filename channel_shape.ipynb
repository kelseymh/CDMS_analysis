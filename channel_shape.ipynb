{
 "cells": [
  {
   "cell_type": "code",
   "execution_count": null,
   "metadata": {},
   "outputs": [],
   "source": [
    "import matplotlib\n",
    "import matplotlib.pyplot as plt\n",
    "%matplotlib inline\n",
    "\n",
    "from ChannelShape import *     # Jupyter includes '.' in import search path"
   ]
  },
  {
   "cell_type": "code",
   "execution_count": null,
   "metadata": {},
   "outputs": [],
   "source": [
    "import random\n",
    "\n",
    "# Generate 30000 positions, identify which channel they're in\n",
    "position = []\n",
    "for i in range(30000):\n",
    "    polar = (38.1*sqrt(random.uniform(0.,1.)), random.uniform(0.,2.*pi))\n",
    "    pos = ChannelShape.pol2cart(polar) \n",
    "    position.append(pos)"
   ]
  },
  {
   "cell_type": "code",
   "execution_count": null,
   "metadata": {},
   "outputs": [],
   "source": [
    "# Assign colors to each position, for drawing the detector\n",
    "colors = {'PA':'yellow', 'PB':'red', 'PC':'green', 'PD':'blue', 'Det':'grey', None:'white'}\n",
    "color = [colors[inChannel(ipos)] for ipos in position]"
   ]
  },
  {
   "cell_type": "code",
   "execution_count": null,
   "metadata": {},
   "outputs": [],
   "source": [
    "# plt.scatter() needs separate X, Y, arrays; with Numpy could use transpose()\n",
    "x,y = map(list, zip(*position))\n",
    "plt.subplots(figsize=(5,5),dpi=300)\n",
    "plt.scatter(x,y,c=color,s=1)\n",
    "detrad = plt.Circle((0.,0.), 38.1, color='purple', fill=False, clip_on=True)  # Detector radius\n",
    "plt.gca().add_patch(detrad)\n",
    "plt.savefig(\"CDMSlite_ChannelShape.png\")"
   ]
  },
  {
   "cell_type": "code",
   "execution_count": null,
   "metadata": {},
   "outputs": [],
   "source": [
    "nearflat = [(random.uniform(15.,35.),random.uniform(15.,35.)) for i in range(30000)]\n",
    "color = [colors[inChannel(ipos)] for ipos in nearflat]"
   ]
  },
  {
   "cell_type": "code",
   "execution_count": null,
   "metadata": {},
   "outputs": [],
   "source": [
    "# plt.scatter() needs separate X, Y, arrays; with Numpy could use transpose()\n",
    "x,y = map(list, zip(*nearflat))\n",
    "plt.subplots(figsize=(5,5),dpi=300)\n",
    "plt.scatter(x,y,c=color,s=1)\n",
    "detrad = plt.Circle((0.,0.), 38.1, color='purple', fill=False, clip_on=True)  # Detector radius\n",
    "plt.gca().add_patch(detrad)\n",
    "plt.savefig(\"CDMSlite_near45flat.png\")"
   ]
  },
  {
   "cell_type": "code",
   "execution_count": null,
   "metadata": {},
   "outputs": [],
   "source": []
  }
 ],
 "metadata": {
  "kernelspec": {
   "display_name": "Python 3 (ipykernel)",
   "language": "python",
   "name": "python3"
  },
  "language_info": {
   "codemirror_mode": {
    "name": "ipython",
    "version": 3
   },
   "file_extension": ".py",
   "mimetype": "text/x-python",
   "name": "python",
   "nbconvert_exporter": "python",
   "pygments_lexer": "ipython3",
   "version": "3.10.12"
  }
 },
 "nbformat": 4,
 "nbformat_minor": 4
}
