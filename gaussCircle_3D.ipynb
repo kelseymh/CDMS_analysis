{
 "cells": [
  {
   "cell_type": "code",
   "execution_count": null,
   "metadata": {},
   "outputs": [],
   "source": [
    "from imports import *\n",
    "%matplotlib inline"
   ]
  },
  {
   "cell_type": "code",
   "execution_count": null,
   "metadata": {},
   "outputs": [],
   "source": [
    "def genGauss(x, scale=1, alpha=1, beta=2, mu=0):\n",
    "    return np.exp(-(abs(x-mu)/alpha)**beta)\n",
    "\n",
    "def genGauss2D(pos, **kwargs):\n",
    "    if \"x0\" in kwargs and \"y0\" in kwargs:    # There's probably a better way\n",
    "        kwargs[\"mu\"] = sqrt(kwargs[\"x0\"]**2 + kwargs[\"y0\"]**2)\n",
    "\n",
    "    return genGauss(np.sqrt(pos[0]**2+pos[1]**2), kwargs)"
   ]
  },
  {
   "cell_type": "code",
   "execution_count": null,
   "metadata": {},
   "outputs": [],
   "source": [
    "# Generate a 3D plot of the generalized Gaussian, with surface lines in r,phi\n",
    "# ***WARNING*** Requires matplotlib 3.9.0, or something later than 3.0.0!\n",
    "\n",
    "alpha=3.5\n",
    "beta=0.8\n",
    "x0,y0 = (0,0)      # This will be center point later\n",
    "\n",
    "# Create the mesh in polar coordinates (R is millimeters for CDMSlite)\n",
    "r = np.linspace(0., 38., 50)\n",
    "p = np.linspace(0., 2*np.pi, 50)\n",
    "R,P = np.meshgrid(r, p)\n",
    "\n",
    "Z = genGauss(R, alpha=alpha, beta=beta)\n",
    "\n",
    "# Convert the mesh to cartesian for drawing\n",
    "X,Y = R*np.cos(P), R*np.sin(P)\n",
    "\n",
    "# This plot will show a surface grid, and a shaded surface shape\n",
    "ax = plt.figure(figsize=(9,6)).add_subplot(projection='3d')\n",
    "ax.plot_surface(X, Y, Z, cmap=plt.cm.plasma)\n",
    "\n",
    "ax.set_zlim(0, 1.05)\n",
    "ax.set_xlabel(\"x [mm]\")\n",
    "ax.set_ylabel(\"y [mm]\")\n",
    "ax.set_zlabel(\"GG(x,y)\")\n",
    "ax.set_title(r\"GG = $\\exp((|r-0|/\\alpha)^\\beta), \\alpha={0}, \\beta={1}$\".format(alpha,beta))\n",
    "\n",
    "plt.savefig(\"genGauss_3D.png\")"
   ]
  },
  {
   "cell_type": "code",
   "execution_count": null,
   "metadata": {},
   "outputs": [],
   "source": []
  }
 ],
 "metadata": {
  "kernelspec": {
   "display_name": "Python 3 (ipykernel)",
   "language": "python",
   "name": "python3"
  },
  "language_info": {
   "codemirror_mode": {
    "name": "ipython",
    "version": 3
   },
   "file_extension": ".py",
   "mimetype": "text/x-python",
   "name": "python",
   "nbconvert_exporter": "python",
   "pygments_lexer": "ipython3",
   "version": "3.10.12"
  }
 },
 "nbformat": 4,
 "nbformat_minor": 4
}
