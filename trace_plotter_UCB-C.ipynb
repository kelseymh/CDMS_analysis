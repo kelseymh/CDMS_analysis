{
 "cells": [
  {
   "cell_type": "code",
   "execution_count": null,
   "metadata": {},
   "outputs": [],
   "source": [
    "from rawio.IO import *\n",
    "import ROOT \n",
    "import root_numpy\n",
    "\n",
    "import matplotlib\n",
    "import matplotlib.pyplot as plt\n",
    "%matplotlib inline\n",
    "import pandas as pd\n",
    "pd.set_option(\"display.max_row\", 100)\n",
    "import numpy as np\n",
    "\n",
    "import sys\n",
    "import os, os.path \n",
    "import fnmatch\n",
    "import glob"
   ]
  },
  {
   "cell_type": "code",
   "execution_count": null,
   "metadata": {},
   "outputs": [],
   "source": [
    "# Will want to get binning in getTraces() to eliminate this hardcoding\n",
    "phononBins = np.arange(-409600.0, 2867200, 800) * 1e-3     # For UCB-C chip\n",
    "\n",
    "# Will want to get channel names from G4SettingsInfo/Geometry.ChanName list\n",
    "phononChans = ['Ch1']"
   ]
  },
  {
   "cell_type": "code",
   "execution_count": null,
   "metadata": {},
   "outputs": [],
   "source": [
    "# Generic function used by getTES() and getFET() below\n",
    "# tree=\"g4dmcTES\" or \"g4dmcFET\"; function will take care of directory\n",
    "def getTraces(file, tree, chans, dtype=0):\n",
    "    traces = { chan: list() for chan in chans }      # Separate empty lists for each key\n",
    "\n",
    "    data = root_numpy.root2array(file, treename=\"G4SimDir/\"+tree, \n",
    "                                 branches = ['EventNum','Trace','ChanName'],\n",
    "                                 selection=f\"DataType=={dtype}\")\n",
    "    \n",
    "    # Copy traces for each event into new array indexed by event number\n",
    "    for i in range(len(data)):\n",
    "        for ch in traces.keys():\n",
    "            if data['ChanName'][i] == bytes(ch, \"ascii\"):\n",
    "                traces[ch].append(data['Trace'][i])\n",
    "    \n",
    "    for ch in traces.keys():\n",
    "        traces[ch] = np.array(traces[ch])\n",
    "\n",
    "    return traces"
   ]
  },
  {
   "cell_type": "code",
   "execution_count": null,
   "metadata": {},
   "outputs": [],
   "source": [
    "def getTES(file, dtype=0):\n",
    "    tes = getTraces(file, \"g4dmcTES\", phononChans, dtype)\n",
    "\n",
    "    # Convert TES traces from downward to upward going, remove baseline offset\n",
    "    for ch in tes.keys():\n",
    "        tes[ch] = np.array([max(tr)-tr for tr in tes[ch]])\n",
    "        \n",
    "    return tes"
   ]
  },
  {
   "cell_type": "code",
   "execution_count": null,
   "metadata": {},
   "outputs": [],
   "source": [
    "UCBC = 'data/HVeV_fits/UCB-C-1.95eV_51231212_000000.root'\n",
    "event = 0\n",
    "TES_UCBC = getTES(UCBC)"
   ]
  },
  {
   "cell_type": "code",
   "execution_count": null,
   "metadata": {},
   "outputs": [],
   "source": [
    "#### Only one channel to be plotted for UCB-C\n",
    "fig1, axes = plt.subplots(1,1,figsize=(4,3), dpi=500)\n",
    "axes.plot(phononBins, TES_UCBC[phononChans[0]][event])\n",
    "axes.set_xlabel(\"Time [\\u03BCs]\")\n",
    "axes.set_ylabel(\"TESSim [\\u03BCA]\")\n",
    "axes.set_title(f\"Trace for UCB-C {phononChans[0]} in Event {event}\")"
   ]
  },
  {
   "cell_type": "code",
   "execution_count": null,
   "metadata": {},
   "outputs": [],
   "source": [
    "fig1.savefig(\"UCBC_trace.eps\")\n",
    "fig1.savefig(\"UCBS_trace.png\")"
   ]
  }
 ],
 "metadata": {
  "kernelspec": {
   "display_name": "Python 3",
   "language": "python",
   "name": "python3"
  },
  "language_info": {
   "codemirror_mode": {
    "name": "ipython",
    "version": 3
   },
   "file_extension": ".py",
   "mimetype": "text/x-python",
   "name": "python",
   "nbconvert_exporter": "python",
   "pygments_lexer": "ipython3",
   "version": "3.6.6"
  }
 },
 "nbformat": 4,
 "nbformat_minor": 2
}
