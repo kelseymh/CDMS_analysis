{
 "cells": [
  {
   "cell_type": "code",
   "execution_count": null,
   "metadata": {},
   "outputs": [],
   "source": [
    "import matplotlib\n",
    "import matplotlib.pyplot as plt\n",
    "%matplotlib inline\n",
    "import pandas as pd\n",
    "pd.set_option(\"display.max_row\", 100)\n",
    "import numpy as np\n",
    "\n",
    "import math\n",
    "import random"
   ]
  },
  {
   "cell_type": "code",
   "execution_count": null,
   "metadata": {},
   "outputs": [],
   "source": [
    "### NOTE:  ChannelShape.py is in ~kelsey/jupyter directory\n",
    "### Right now, this also imports the CDMSlite channel shapes; that will change!\n",
    "from ChannelShape import *"
   ]
  },
  {
   "cell_type": "code",
   "execution_count": null,
   "metadata": {},
   "outputs": [],
   "source": [
    "# Uniform disk of specified radius\n",
    "def diskWt(pos, rDisk):\n",
    "    r,phi = ChannelShape.cart2pol(pos)\n",
    "    return 1. if r<=rDisk else 0.\n",
    "\n",
    "# Circular Gaussian distribution, integrated over disk radius\n",
    "gaussRMS = 6\n",
    "gaussDisk = 20\n",
    "def gaussWt(pos, rDisk):\n",
    "    r,phi = ChannelShape.cart2pol(pos)\n",
    "    Rsq = gaussRMS**2\n",
    "    return 0.5*gaussDisk**2/Rsq * exp(-0.5*r**2/Rsq)"
   ]
  },
  {
   "cell_type": "code",
   "execution_count": null,
   "metadata": {},
   "outputs": [],
   "source": [
    "def getOverlap(hitpos, rFast, chan, **kwargs):\n",
    "    \"\"\"Return integral of weighted \"fast circle\" within channel area\n",
    "       hitpos: two-vector (x,y) of hit in detector\n",
    "       rFast: radius of fast circle to be integrated\n",
    "       chan: instance of ChannelShape\n",
    "       wtfunc: (optional) function to return weight at position\n",
    "               weight should be normalized to average 1. over \"fast circle\"\n",
    "    \"\"\"\n",
    "    \n",
    "    wtfunc = kwargs['wtfunc'] if 'wtfunc' in kwargs else diskWt\n",
    "\n",
    "    chanSum = 0.\n",
    "    Nthrow = 100000\n",
    "    for i in range(Nthrow):\n",
    "        rThrow = rFast * math.sqrt(random.random())\n",
    "        phiThrow = random.uniform(0.,2.*math.pi)\n",
    "        posThrow = ChannelShape.pol2cart((rThrow,phiThrow))\n",
    "        \n",
    "        posFull = tuple(map(sum, zip(posThrow,hitpos)))   # ??Easier way to add coordiates??\n",
    "        if chan.contains(posFull): chanSum += wtfunc(posThrow, rFast)\n",
    "            \n",
    "    chanSum /= float(Nthrow)\n",
    "    \n",
    "    return chanSum"
   ]
  },
  {
   "cell_type": "code",
   "execution_count": null,
   "metadata": {},
   "outputs": [],
   "source": [
    "def getAllOverlaps(hitpos, rFast, chanset, **kwargs):\n",
    "    \"\"\"Return dictionary of integrals of weighted \"fast circle\" within\n",
    "       multiple channel areas at once.\n",
    "       hitpos: two-vector (x,y) of hit in detector\n",
    "       rFast: radius of fast circle to be integrated\n",
    "       chanset: dictionary of ChannelShape objects by name\n",
    "       wtfunc: (optional) function to return weight at position\n",
    "               weight should be normalized to average 1. over \"fast circle\"\n",
    "    \"\"\"\n",
    "    \n",
    "    wtfunc = kwargs['wtfunc'] if 'wtfunc' in kwargs else diskWt\n",
    "\n",
    "    chanSum = {ch: 0. for ch in chanset}           # Initialize set of all overlaps\n",
    "    Nthrow = 100000\n",
    "    for i in range(Nthrow):\n",
    "        rThrow = rFast * math.sqrt(random.random())\n",
    "        phiThrow = random.uniform(0.,2.*math.pi)\n",
    "        posThrow = pol2cart((rThrow,phiThrow))      # Random point chosen within fast circle\n",
    "        \n",
    "        posFull = tuple(map(sum, zip(posThrow,hitpos)))   # ??Easier way to add coordiates??\n",
    "        for ch in chanset:\n",
    "            if chanset[ch].contains(posFull): chanSum[ch] += wtfunc(posThrow, rFast)\n",
    "    \n",
    "    for ch in chanset:\n",
    "        chanSum[ch] /= float(Nthrow)\n",
    "    \n",
    "    return chanSum"
   ]
  },
  {
   "cell_type": "code",
   "execution_count": null,
   "metadata": {},
   "outputs": [],
   "source": [
    "# Compute outer/inner ratio for specified channel fractions\n",
    "def outVsIn(frac):\n",
    "    \"\"\"Compute outer/inner ratio: frac must be dictionary indexed on channel names.\"\"\"\n",
    "    return frac['PA']/(frac['PB']+frac['PC']+frac['PD'])"
   ]
  },
  {
   "cell_type": "code",
   "execution_count": null,
   "metadata": {},
   "outputs": [],
   "source": [
    "# Generate points from 0 out to detector radius (38.1 mm)\n",
    "# Sum up three inner channels, and make a plot of A/BCD vs. radius\n",
    "# WARNING: getAllOverlaps() throws 100k points for each integration,\n",
    "#          so this loop can take noticeable time.\n",
    "\n",
    "def ratioA_BCD(fastTot=0.07):\n",
    "    global gaussRMS \n",
    "    global gaussDisk\n",
    "    gaussDisk = 4.*gaussRMS\n",
    "    \n",
    "    fastRatio = np.array([])\n",
    "    fullRatio = np.array([])\n",
    "\n",
    "    radii = np.arange(0., 38.1, 0.5)\n",
    "    for r in radii:\n",
    "        fast = getAllOverlaps((r,0.), gaussDisk, chanset, wtfunc=gaussWt)\n",
    "        # Assign everything outside PA to fast['PA']\n",
    "        ### fast['PA'] = fastTot - (fast['PB']+fast['PC']+fast['PD'])\n",
    "        slowTot = 1 - fastTot*sum(fast.values())\n",
    "        slow = {k: slowTot/len(fast) for k in fast.keys()}\n",
    "        frac = {k: (fastTot*fast[k]+slow[k]) for k in fast.keys()}\n",
    "        fastRatio = np.append(fastRatio, outVsIn(fast))\n",
    "        fullRatio = np.append(fullRatio, outVsIn(frac))\n",
    "\n",
    "    plt.scatter(radii,fullRatio)"
   ]
  },
  {
   "cell_type": "code",
   "execution_count": null,
   "metadata": {},
   "outputs": [],
   "source": [
    "gaussRMS = 4\n",
    "ratioA_BCD(0.06)"
   ]
  },
  {
   "cell_type": "code",
   "execution_count": null,
   "metadata": {},
   "outputs": [],
   "source": [
    "gaussRMS = 6\n",
    "ratioA_BCD(0.06)"
   ]
  },
  {
   "cell_type": "code",
   "execution_count": null,
   "metadata": {},
   "outputs": [],
   "source": [
    "gaussRMS = 10\n",
    "ratioA_BCD(0.06)"
   ]
  },
  {
   "cell_type": "code",
   "execution_count": null,
   "metadata": {},
   "outputs": [],
   "source": []
  }
 ],
 "metadata": {
  "kernelspec": {
   "display_name": "Python 3 (ipykernel)",
   "language": "python",
   "name": "python3"
  },
  "language_info": {
   "codemirror_mode": {
    "name": "ipython",
    "version": 3
   },
   "file_extension": ".py",
   "mimetype": "text/x-python",
   "name": "python",
   "nbconvert_exporter": "python",
   "pygments_lexer": "ipython3",
   "version": "3.10.12"
  }
 },
 "nbformat": 4,
 "nbformat_minor": 4
}
