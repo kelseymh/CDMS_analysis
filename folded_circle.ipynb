{
 "cells": [
  {
   "cell_type": "code",
   "execution_count": null,
   "id": "eacf5b4f-00f8-4aa2-862a-014d4d80251b",
   "metadata": {},
   "outputs": [],
   "source": [
    "from imports import *\n",
    "from ChannelShape import *\n",
    "%matplotlib inline"
   ]
  },
  {
   "cell_type": "code",
   "execution_count": null,
   "id": "f7bced4e-f20b-400c-ab30-08634bc71bbf",
   "metadata": {},
   "outputs": [],
   "source": [
    "# Define channel shapes for CDMSlite detector\n",
    "litechan = DetectorShape(\"CDMSlite1\")\n",
    "litechan.Add(ChannelShape(\"PA\",1,31.3,36.1,-pi,pi,+1.,0., 0., 29.60, 34.75))\n",
    "litechan.Add(ChannelShape(\"PB\",1,0.,31.3,radians(90.),radians(210.),+1., 0., 0., 0., 29.60))\n",
    "litechan.Add(ChannelShape(\"PC\",1,0.,31.3,radians(210.),radians(330.),+1., 0., 0., 0., 29.60))\n",
    "litechan.Add(ChannelShape(\"PD\",1,0.,31.3,radians(-30.),radians(90.),+1., 0., 0., 0., 29.60))\n",
    "litechan.Add(ChannelShape(\"Det\",None,0.,38.1,-pi,pi,+1., 0., 75.4888/2., 0., 72.1868/2.).addFlat(37.7444,radians(45.)))\n",
    "# NOTE: In CDMSZipInfo, X and Y flats are given by diameter, not radius"
   ]
  },
  {
   "cell_type": "code",
   "execution_count": null,
   "id": "c13634e6-8ec7-4080-bfe3-c5e46fe7ee5b",
   "metadata": {},
   "outputs": [],
   "source": [
    "print(litechan[\"Det\"])"
   ]
  },
  {
   "cell_type": "code",
   "execution_count": null,
   "id": "f61e1fee-69cc-4fae-9e60-af3288d489d6",
   "metadata": {},
   "outputs": [],
   "source": [
    "# Draw detector outline, including flats\n",
    "def drawDet(detShape):\n",
    "    phi = np.arange(1000)*2.*pi/1000.\n",
    "    edge = [detShape.getPointAtPhi(f) for f in phi]\n",
    "    rlim = 1.1*detShape[\"Det\"].rmax\n",
    "    plt.figure(figsize=(6,6))    # Units are inches\n",
    "    plt.plot(*zip(*edge))\n",
    "    plt.axis('square')"
   ]
  },
  {
   "cell_type": "code",
   "execution_count": null,
   "id": "d06c01a3-5f7f-47c9-a9ad-423dc479ae7d",
   "metadata": {},
   "outputs": [],
   "source": [
    "# Overlay circle at point on existing plot\n",
    "def addCircle(center, radius):\n",
    "    phi = np.arange(1000)*2.*pi/1000.\n",
    "    circ = np.array([ChannelShape.pol2cart((radius,f)) for f in phi])\n",
    "    circ += center\n",
    "    plt.plot(*zip(*circ))\n",
    "    plt.plot(*center,'*')"
   ]
  },
  {
   "cell_type": "code",
   "execution_count": null,
   "id": "64359c0b-d2a6-44bb-8d49-a650f4c807e3",
   "metadata": {},
   "outputs": [],
   "source": [
    "drawDet(litechan)\n",
    "addCircle((15,15), 25)"
   ]
  },
  {
   "cell_type": "code",
   "execution_count": null,
   "id": "65eeb3ac-a81c-4307-a8b0-167652ab9e19",
   "metadata": {},
   "outputs": [],
   "source": [
    "# Need some basic 2D vector operations\n",
    "def vlen(vec):\n",
    "    return sqrt(vec[0]**2+vec[1]**2)\n",
    "\n",
    "def vdot(v1,v2):\n",
    "    return (v1[0]*v2[0]+v1[1]*v2[1])\n",
    "\n",
    "def vsum(v1,v2):\n",
    "    return (v1[0]+v2[0], v1[1]+v2[1])\n",
    "\n",
    "def vdiff(v1,v2):\n",
    "    return (v1[0]-v2[0], v1[1]-v2[1])\n",
    "\n",
    "def vmult(vec, val):\n",
    "    return (val*vec[0],val*vec[1])\n",
    "    \n",
    "def reflectPoint(pos, center, detShape):\n",
    "    if (detShape.contains(pos)): return pos     # No action if inside\n",
    "        \n",
    "    fromPos = vdiff(center, pos)\n",
    "    edge = detShape.getPointOnEdge(center, fromPos)   # Intersection\n",
    "    norm = detShape.getOutwardNormal(edge)            # Unit vector\n",
    "    fromEdge = vdiff(pos, edge)\n",
    "    reflEdge = vsum(fromEdge, vmult(norm, -2*vdot(fromEdge,norm)))\n",
    "\n",
    "    return vsum(edge, reflEdge)"
   ]
  },
  {
   "cell_type": "code",
   "execution_count": null,
   "id": "d1db4155-3f61-4b29-965a-2cb17c5c5cce",
   "metadata": {},
   "outputs": [],
   "source": [
    "# Need some basic 2D vector operations\n",
    "def vlen(vec):\n",
    "    return sqrt(vec[0]**2+vec[1]**2)\n",
    "\n",
    "def vdot(v1,v2):\n",
    "    return (v1[0]*v2[0]+v1[1]*v2[1])\n",
    "\n",
    "def vsum(v1,v2):\n",
    "    return (v1[0]+v2[0], v1[1]+v2[1])\n",
    "\n",
    "def vdiff(v1,v2):\n",
    "    return (v1[0]-v2[0], v1[1]-v2[1])\n",
    "\n",
    "def vmult(vec, val):\n",
    "    return (val*vec[0],val*vec[1])\n",
    "    \n",
    "def reflectPoint(pos, center, detShape):\n",
    "    if (detShape.contains(pos)): return pos     # No action if inside\n",
    "        \n",
    "    fromPos = vdiff(center, pos)\n",
    "    edge = detShape.getPointOnEdge(center, fromPos)   # Intersection\n",
    "    norm = detShape.getOutwardNormal(edge)            # Unit vector\n",
    "    fromEdge = vdiff(pos, edge)\n",
    "    reflEdge = vsum(fromEdge, vmult(norm, -2*vdot(fromEdge,norm)))\n",
    "\n",
    "    return vsum(edge, reflEdge)"
   ]
  },
  {
   "cell_type": "code",
   "execution_count": null,
   "id": "bee947ea-c583-4062-ad24-ddba4b3a212b",
   "metadata": {},
   "outputs": [],
   "source": [
    "def foldedCircle(detShape, center, radius):\n",
    "    phi = np.arange(1000)*2.*pi/1000.\n",
    "    \n",
    "    # Do this old school with a loop, then make it better\n",
    "    fold = []\n",
    "    for f in phi:\n",
    "        cpos = vsum(ChannelShape.pol2cart((radius,f)), center)\n",
    "        refl = reflectPoint(cpos, center, detShape)\n",
    "        fold.append(refl)\n",
    "\n",
    "    return fold"
   ]
  },
  {
   "cell_type": "code",
   "execution_count": null,
   "id": "80b8b381-a32a-465b-9b68-1f35f26906d4",
   "metadata": {},
   "outputs": [],
   "source": [
    "hit = (15,15)\n",
    "dist = 25\n",
    "\n",
    "drawDet(litechan)\n",
    "addCircle(hit, dist)\n",
    "fold = foldedCircle(litechan, hit, dist)\n",
    "plt.plot(*zip(*fold))\n",
    "plt.savefig(\"CDMSlite_folded-circle.png\")"
   ]
  },
  {
   "cell_type": "code",
   "execution_count": null,
   "id": "54650360-6941-4787-8b72-6904d7f8f222",
   "metadata": {},
   "outputs": [],
   "source": [
    "def genGauss(x, scale=1, alpha=1, beta=2, mu=0):\n",
    "    return np.exp(-(abs(x-mu)/alpha)**beta)\n",
    "\n",
    "def genGauss2D(pos, **kwargs):\n",
    "    \"\"\"Pass position as (x,y), additional for genGauss as:\n",
    "       alpha = width of distribution\n",
    "       beta = exponent for power expression\n",
    "       mu = offset of \"radius\" in power expression\n",
    "       x0, y0 = coordinates of offset center (mu = sqrt(x0^2+y0^2))\n",
    "       center = coordinates of offset as tuple (x0,y0)\n",
    "    \"\"\"\n",
    "    # If center point specified, subtract it off, don't use mu\n",
    "    if \"x0\" in kwargs and \"y0\" in kwargs:\n",
    "        kwargs[\"mu\"] = 0.\n",
    "    elif \"center\" in kwargs:\n",
    "        x0,y0, = center\n",
    "        kwargs[\"mu\"] = 0.\n",
    "    else:\n",
    "        x0,y0 = (0.,0.)\n",
    "\n",
    "    r = np.sqrt((pos[0]-x0)**2+(pos[1]-y0)**2)\n",
    "    return genGauss(r, kwargs)\n",
    "    \n",
    "def foldedGauss(detShape, center, radius, **kwargs):\n",
    "    \"\"\"Pass detector outline, center and radius of full disk.\n",
    "       Additional arguments alpha, beta are for the generalized Gaussian.\"\"\"\n",
    "\n",
    "    # Create a mesh in polar coordinates around center\n",
    "    r = np.linspace(0., radius, 50)\n",
    "    p = np.linspace(0., 2*np.pi, 1000)\n",
    "    R,P = np.meshgrid(r,p)\n",
    "    Z = genGauss(R, alpha=alpha, beta=beta)    # Simpler than genGauss2D \n",
    "\n",
    "    # Convert the mesh to Cartesian with offset for drawing\n",
    "    X,Y = R*np.cos(P)+center[0], R*np.sin(P)+center[1]\n",
    "\n",
    "    # Process all the Cartesian points through the folding\n",
    "    foldX,foldY = np.zeros_like(X),np.zeros_like(Y)\n",
    "    for i in np.ndindex(X.shape):\n",
    "        foldX[i],foldY[i] = reflectPoint((X[i],Y[i]),center,detShape)\n",
    "\n",
    "    return foldX,foldY,Z"
   ]
  },
  {
   "cell_type": "code",
   "execution_count": null,
   "id": "478c905e-c7f8-487f-856e-6eccb5e3a59d",
   "metadata": {},
   "outputs": [],
   "source": [
    "hit = (15,15)\n",
    "dist = 25\n",
    "\n",
    "alpha=3.5\n",
    "beta=0.8\n",
    "gx,gy,gz = foldedGauss(litechan, hit, dist, alpha=alpha, beta=beta)\n",
    "\n",
    "drawDet(litechan)\n",
    "addCircle((15,15), 25)\n",
    "plt.scatter(gx,gy,c=gz, cmap=plt.cm.plasma, alpha=0.05, s=9)\n",
    "plt.savefig(\"CDMSlite_folded-gaussian.png\")"
   ]
  },
  {
   "cell_type": "code",
   "execution_count": null,
   "id": "23c17231-41d8-402a-aac8-0e15a064c03a",
   "metadata": {},
   "outputs": [],
   "source": []
  }
 ],
 "metadata": {
  "kernelspec": {
   "display_name": "Python 3 (ipykernel)",
   "language": "python",
   "name": "python3"
  },
  "language_info": {
   "codemirror_mode": {
    "name": "ipython",
    "version": 3
   },
   "file_extension": ".py",
   "mimetype": "text/x-python",
   "name": "python",
   "nbconvert_exporter": "python",
   "pygments_lexer": "ipython3",
   "version": "3.10.12"
  }
 },
 "nbformat": 4,
 "nbformat_minor": 5
}
