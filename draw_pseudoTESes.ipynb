{
 "cells": [
  {
   "cell_type": "code",
   "execution_count": null,
   "metadata": {},
   "outputs": [],
   "source": [
    "import os\n",
    "import sys\n",
    "import pandas as pd\n",
    "import matplotlib\n",
    "import matplotlib.pyplot as plt\n",
    "%matplotlib inline\n",
    "import numpy as np\n",
    "from numpy import pi, arccos, cos, sin, tan, mean\n",
    "import ROOT"
   ]
  },
  {
   "cell_type": "code",
   "execution_count": null,
   "metadata": {},
   "outputs": [],
   "source": [
    "supersim = os.environ[\"CDMS_SUPERSIM\"]\n",
    "# Pull in Warren's detector-channel drawing utility from SuperSim\n",
    "sys.path.append(os.path.join(supersim,\"CDMSscripts\",\"validation\"))\n",
    "import detectorLayout"
   ]
  },
  {
   "cell_type": "code",
   "execution_count": null,
   "metadata": {},
   "outputs": [],
   "source": [
    "detname = {11: 'iZIP5',\n",
    "           21: 'CDMSlite1',\n",
    "           22: 'CDMSlite2',\n",
    "           700: 'iZIP7',\n",
    "           701: 'iZIP7Si',\n",
    "           710: 'HV100mm',\n",
    "           711: 'HV100mmSi'}\n",
    "N_TES = 49\n",
    "N_trueTES = {11: 455, \n",
    "             21: 455,\n",
    "             22: 455,\n",
    "             700: 1590,\n",
    "             701: 1590,\n",
    "             710: 1833,\n",
    "             711: 1833}"
   ]
  },
  {
   "cell_type": "code",
   "execution_count": null,
   "metadata": {},
   "outputs": [],
   "source": [
    "dmcfile = 'CDMSlite_10keV.root'\n",
    "Geometry = ROOT.RDataFrame(\"G4SettingsInfoDir/Geometry\", dmcfile).AsNumpy()\n",
    "chaninfo = detectorLayout.loadGeometry(dmcfile)"
   ]
  },
  {
   "cell_type": "code",
   "execution_count": null,
   "metadata": {},
   "outputs": [],
   "source": [
    "dettype = Geometry[\"DetType\"][0]      # Need [0] to select row from Geometry TTree\n",
    "detname = detname[dettype]\n",
    "side = 'top'\n",
    "maskfile = os.path.join(supersim,\"CDMSgeometry\",\"data\",\"dmc\",detname,side+\"_mask.dat\")"
   ]
  },
  {
   "cell_type": "code",
   "execution_count": null,
   "metadata": {},
   "outputs": [],
   "source": [
    "mask = pd.read_csv(maskfile,names=['x','y','phirot'],header=None,delim_whitespace=True)\n",
    "mask['pseudoTES'] = mask.index % N_TES"
   ]
  },
  {
   "cell_type": "code",
   "execution_count": null,
   "metadata": {},
   "outputs": [],
   "source": [
    "cmap = plt.get_cmap('jet')\n",
    "ptcolor = [cmap(i) for i in np.linspace(0, 1, N_TES+1)]\n",
    "mask['QETcolor'] = [ptcolor[x] for x in mask['pseudoTES']]"
   ]
  },
  {
   "cell_type": "code",
   "execution_count": null,
   "metadata": {},
   "outputs": [],
   "source": [
    "detectorLayout.draw(chaninfo)\n",
    "plt.scatter(mask['x'],mask['y'],c=mask['QETcolor'],s=0.7)"
   ]
  },
  {
   "cell_type": "code",
   "execution_count": null,
   "metadata": {},
   "outputs": [],
   "source": [
    "detectorLayout.draw(chaninfo)\n",
    "onePseudo = mask[mask[\"pseudoTES\"]==20]\n",
    "plt.scatter(mask['x'],mask['y'],c='lightgrey',s=1)\n",
    "plt.scatter(onePseudo['x'],onePseudo['y'],c=onePseudo['QETcolor'],s=5)"
   ]
  },
  {
   "cell_type": "code",
   "execution_count": null,
   "metadata": {},
   "outputs": [],
   "source": []
  }
 ],
 "metadata": {
  "kernelspec": {
   "display_name": "Python 3 (ipykernel)",
   "language": "python",
   "name": "python3"
  },
  "language_info": {
   "codemirror_mode": {
    "name": "ipython",
    "version": 3
   },
   "file_extension": ".py",
   "mimetype": "text/x-python",
   "name": "python",
   "nbconvert_exporter": "python",
   "pygments_lexer": "ipython3",
   "version": "3.10.12"
  }
 },
 "nbformat": 4,
 "nbformat_minor": 4
}
