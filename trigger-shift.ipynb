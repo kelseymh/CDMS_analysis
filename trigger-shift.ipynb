{
 "cells": [
  {
   "cell_type": "code",
   "execution_count": null,
   "metadata": {},
   "outputs": [],
   "source": [
    "from imports import *\n",
    "import traces_rdf\n",
    "%matplotlib inline"
   ]
  },
  {
   "cell_type": "code",
   "execution_count": null,
   "metadata": {},
   "outputs": [],
   "source": [
    "withShift = 'data/FastDMC/TriggerShift/iZIP5-TrigShift_00241023_0000.root'\n",
    "noShift = 'data/FastDMC/TriggerShift/iZIP5-NoShift_00241023_0000.root'\n",
    "fixShift = 'data/FastDMC/TriggerShift/iZIP5-TrigShift_00241024_0000.root'\n",
    "\n",
    "# --------------------------------------------------------------------------\n",
    "# Event Number of Interest\n",
    "event = 0"
   ]
  },
  {
   "cell_type": "code",
   "execution_count": null,
   "metadata": {},
   "outputs": [],
   "source": [
    "file = withShift\n",
    "# All twelve iZIP5 traces\n",
    "fig, axes = subplots(3,4,figsize=(9,6), dpi = 1000)\n",
    "fig.set_tight_layout(True)\n",
    "chans = traces_rdf.getChannels(file, \"TES\", event)\n",
    "\n",
    "for plot in range(8):\n",
    "    currentAxis = axes.flatten()[plot]\n",
    "    \n",
    "    # Get TES trace for plotting\n",
    "    bins, trace, _,_ = traces_rdf.getTES(file, event, plot)\n",
    "    currentAxis.plot(bins, trace, lw=1, color = 'C0', label='TESSim Trace')\n",
    "    \n",
    "    currentAxis.set_xlim([-500.,3000.])\n",
    "    currentAxis.set_xlabel(\"Time [\\u03BCs]\")\n",
    "    currentAxis.set_ylabel(\"Trace [\\u03BCA]\")\n",
    "    currentAxis.set_title('SuperSim elog/1884\\nTrace for ' + chans[plot] + ' in Event ' + str(event))\n",
    "\n",
    "for plot in range(4):\n",
    "    currentAxis = axes.flatten()[plot+8]\n",
    "    \n",
    "    # Get TES trace for plotting\n",
    "    bins, trace, _ = traces_rdf.getFET(file, event, plot)\n",
    "    currentAxis.plot(bins, trace, lw=1, color = 'C0', label='FETSim Trace')\n",
    "    \n",
    "    currentAxis.set_xlim([-500.,1000.])\n",
    "    currentAxis.set_xlabel(\"Time [\\u03BCs]\")\n",
    "    currentAxis.set_ylabel(\"Trace [\\u03BCA]\")\n",
    "    currentAxis.set_title('SuperSim elog/1884\\nTrace for ' + chans[plot])\n",
    "    \n",
    "fig.savefig(\"iZIP5_TrigShift-tile.png\")"
   ]
  },
  {
   "cell_type": "code",
   "execution_count": null,
   "metadata": {},
   "outputs": [],
   "source": [
    "def bestI0(trace):\n",
    "    \"\"\"Compute 'adaptive I0' for trace, scanning the supposed pre-trigger\n",
    "       baseline for the range of values with the smallest RMS.  This\n",
    "       should exclude the region where the real trace starts.  Returns\n",
    "       computed I0 value, along with index of average and RMS value.\"\"\"\n",
    "    start = 5                   # Need some bins to compute RMS\n",
    "\n",
    "    rms = [np.std(trace[:i],ddof=1) for i in range(start,len(trace))]\n",
    "    eom = [np.std(trace[:i])/sqrt(i) for i in range(start,len(trace))]\n",
    "    ibest = eom.index(min(eom))+start\n",
    "\n",
    "    return np.mean(trace[:ibest]), ibest, eom[ibest]"
   ]
  },
  {
   "cell_type": "code",
   "execution_count": null,
   "metadata": {},
   "outputs": [],
   "source": [
    "def overlayTraces(thePlot, file, sensor, event):\n",
    "    \"\"\"Extract traces for all channels (see getPlottableTraces), and put\n",
    "       them on the specified plot (\"currentAxis\" from matplotlib) as\n",
    "       colored overlay.\"\"\"\n",
    "    chans, bins, traces = getPlottableTraces(file, sensor, event)\n",
    "    thePlot.plot(bins, traces, lw=1, label=chans)\n",
    "    thePlot.set_xlim([-500., 3000. if sensor==\"TES\" else 1000.])\n",
    "    thePlot.set_xlabel(\"Time [\\u03BCs]\")\n",
    "    thePlot.set_ylabel(\"Trace [\\u03BCA]\")\n",
    "    thePlot.set_title(f\"SuperSim elog/1884 {sensor} Traces\")\n",
    "    thePlot.legend()\n",
    "    return"
   ]
  },
  {
   "cell_type": "code",
   "execution_count": null,
   "metadata": {},
   "outputs": [],
   "source": [
    "def overlayPlots(file, name):\n",
    "    \"\"\"Make a two-panel figure, named 'iZIP5_{name}.png', with\n",
    "       overlays of the TES traces on one side, and FET traces on\n",
    "       the other side.\"\"\"\n",
    "    fig, axes = subplots(1,2,figsize=(9,4), dpi = 300)\n",
    "    fig.set_tight_layout(True)\n",
    "    overlayTraces(axes.flatten()[0], file, \"TES\", event)\n",
    "    overlayTraces(axes.flatten()[1], file, \"FET\", event)\n",
    "\n",
    "    fig.savefig(f\"iZIP5_{name}.png\")\n",
    "    return"
   ]
  },
  {
   "cell_type": "code",
   "execution_count": null,
   "metadata": {},
   "outputs": [],
   "source": [
    "overlayPlots(withShift, \"TrigShift\")"
   ]
  },
  {
   "cell_type": "code",
   "execution_count": null,
   "metadata": {},
   "outputs": [],
   "source": [
    "overlayPlots(noShift, \"NoShift\")"
   ]
  },
  {
   "cell_type": "code",
   "execution_count": null,
   "metadata": {},
   "outputs": [],
   "source": [
    "overlayPlots(fixShift, \"TrigShift-fixed\")"
   ]
  },
  {
   "cell_type": "code",
   "execution_count": null,
   "metadata": {},
   "outputs": [],
   "source": []
  }
 ],
 "metadata": {
  "kernelspec": {
   "display_name": "Python 3 (ipykernel)",
   "language": "python",
   "name": "python3"
  },
  "language_info": {
   "codemirror_mode": {
    "name": "ipython",
    "version": 3
   },
   "file_extension": ".py",
   "mimetype": "text/x-python",
   "name": "python",
   "nbconvert_exporter": "python",
   "pygments_lexer": "ipython3",
   "version": "3.10.12"
  }
 },
 "nbformat": 4,
 "nbformat_minor": 4
}
