{
 "cells": [
  {
   "cell_type": "code",
   "execution_count": null,
   "metadata": {},
   "outputs": [],
   "source": [
    "import numpy as np\n",
    "import pandas as pd\n",
    "import matplotlib.pyplot as plt\n",
    "%matplotlib inline\n",
    "from scipy.optimize import curve_fit\n",
    "import os\n",
    "\n",
    "global CDMS_SUPERSIM\n",
    "CDMS_SUPERSIM = os.environ['CDMS_SUPERSIM']"
   ]
  },
  {
   "cell_type": "code",
   "execution_count": null,
   "metadata": {},
   "outputs": [],
   "source": [
    "def traceFit(detname, file, event, chan, plot=False):\n",
    "    bins, I0, trace, PhononE = getTraces(file, event, chan)\n",
    "    \n",
    "    #### Obtain figures of merit measurements for trace and template ####\n",
    "    a, t_r, t_f, offset = trace_fitting(bins, trace)\n",
    "\n",
    "    titleName = detname if detname else \"Trace\"\n",
    "    print(f'# {titleName} Trace shape parameters (to generate templates)')\n",
    "    print(f'I0\\t\\t{I0:.4e} microampere')\n",
    "    print(f'IversusE\\t{max(trace)/PhononE:.4e} microampere/eV')\n",
    "    print(f'riseTime\\t{t_r:.4e} us')\n",
    "    print(f'fallTime\\t{t_f:.4e} us')\n",
    "\n",
    "    template = getTemplate(detname, chan)\n",
    "    if plot: trace_overlay(bins, trace, template, a, t_r, t_f, offset)"
   ]
  },
  {
   "cell_type": "code",
   "execution_count": null,
   "metadata": {},
   "outputs": [],
   "source": [
    "def getTraces(file, event, chan):\n",
    "    import ROOT #imported later so that ROOT does not display its own usage function\n",
    "\n",
    "    # User gives absolute path of ROOT file and the g4dmcTES tree is opened\n",
    "    g4dmcTES = ROOT.RDataFrame('G4SimDir/g4dmcTES', file, ['Trace', 'BinWidth', 'T0'])\\\n",
    "    .Filter(\"DataType=={} & EventNum=={} & ChanNum=={}\".format(0, event, chan))\\\n",
    "    .AsNumpy(['Trace', 'BinWidth', 'T0'])\n",
    "    \n",
    "    g4dmcEvent = ROOT.RDataFrame('G4SimDir/g4dmcEvent', file, ['PhononE'])\\\n",
    "    .Filter(\"EventNum=={}\".format(event))\\\n",
    "    .AsNumpy(['PhononE'])\n",
    "    trace = np.array([np.array(v).tolist() for v in g4dmcTES['Trace'][0]])\n",
    "    PhononE  = g4dmcEvent['PhononE'][0][chan]   # Single channel collected energy\n",
    "    T0       = g4dmcTES['T0'][0]                # start time of trace\n",
    "    numBins  = len(trace)                       # number of bins\n",
    "    BinWidth = g4dmcTES['BinWidth'][0]          # width of bin in nanoseconds\n",
    "\n",
    "    # use those three values with the np.arange() function to create binning array\n",
    "    bins      = np.arange(T0, T0 + numBins * BinWidth, BinWidth) * 1e-3 #ns -> us\n",
    "    start     = bins.tolist().index(0)\n",
    "    I0        = np.mean(trace[0: start])\n",
    "    trace     = max(trace) - trace\n",
    "    \n",
    "    return bins, I0, trace, PhononE"
   ]
  },
  {
   "cell_type": "code",
   "execution_count": null,
   "metadata": {},
   "outputs": [],
   "source": [
    "def getTemplate(detname, chan):\n",
    "    templatePath = CDMS_SUPERSIM + \"/CDMSgeometry/data/dmc/\" + detname + \"/TESTemplates\"\n",
    "    if not os.path.isfile(templatePath): return None\n",
    "    \n",
    "    HVeV_TEStemp = pd.read_csv(templatePath,sep=\"\\t\")\n",
    "    template = HVeV_TEStemp.loc[chan,\"Traces\"].split()\n",
    "    template = np.array([float(i) for i in template])\n",
    "    \n",
    "    return template"
   ]
  },
  {
   "cell_type": "code",
   "execution_count": null,
   "metadata": {},
   "outputs": [],
   "source": [
    "def fittingRange(trace, cut=0.2):\n",
    "    \"\"\"Return starting and ending points for pulse fit, corresponding to 'cut' height\n",
    "       on either side of peak.  Assumes trace is baseline-subtracted and flipped!\"\"\"\n",
    "    peak = max(trace)          # Peak Height\n",
    "    ipeak = list(trace).index(peak)\n",
    "\n",
    "    ilo = np.nonzero(trace[:ipeak]<=cut*peak)[0][-1]          # End of rising edge\n",
    "    ihi = ipeak+np.nonzero(trace[ipeak:]<=cut*peak)[0][0]     # Start of falling tail\n",
    "    return ilo, ihi"
   ]
  },
  {
   "cell_type": "code",
   "execution_count": null,
   "metadata": {},
   "outputs": [],
   "source": [
    "def pulseShape(x, a, t_r, t_f, offset):\n",
    "    return a*(np.exp(-(x-offset)/t_f)-np.exp(-(x-offset)/t_r))"
   ]
  },
  {
   "cell_type": "code",
   "execution_count": null,
   "metadata": {},
   "outputs": [],
   "source": [
    "def fittingGuess(bins, trace):\n",
    "    \"\"\"Returns initial guesses for the rise and fall times to feed into curve_fit\"\"\"\n",
    "    peak = max(trace)\n",
    "    ipeak = list(trace).index(peak)\n",
    "    \n",
    "    # Rise time: look for two e-foldings on rising side\n",
    "    rlo = np.nonzero(trace[:ipeak]<=0.1*peak)[0][-1]    # End of rising edge\n",
    "    rhi = np.nonzero(trace[:ipeak]<=0.2*peak*np.e)[0][-1]\n",
    "    riseGuess = (bins[rhi]-bins[rlo])\n",
    "    \n",
    "    # Fall time: look for two e-foldings on falling side\n",
    "    flo = np.nonzero(trace[ipeak:]<=0.8*peak)[0][0]     # Start of falling tail\n",
    "    fhi = np.nonzero(trace[ipeak:]<=0.4*peak/np.e)[0][0]\n",
    "    fallGuess = (bins[fhi]-bins[flo])/2\n",
    "\n",
    "    # Analytic peak position is where d/dt of pulse shape is zero\n",
    "    # ==> t_peak = tR * ln[(tF+tR)/tR]\n",
    "    tpeak = riseGuess * np.log((fallGuess+riseGuess)/riseGuess)\n",
    "    offsetGuess = bins[ipeak] - tpeak\n",
    "    \n",
    "    # Scale factor should be max of shape scaled by actual peak value\n",
    "    pmax = pulseShape(tpeak, 1., riseGuess, fallGuess, 0.)\n",
    "    scaleGuess = peak / pmax\n",
    "\n",
    "    return scaleGuess, riseGuess, fallGuess, offsetGuess"
   ]
  },
  {
   "cell_type": "code",
   "execution_count": null,
   "metadata": {},
   "outputs": [],
   "source": [
    "def trace_fitting(bins, trace):\n",
    "    start, end = fittingRange(trace)\n",
    "    guess = fittingGuess(bins, trace)     # List of parameters in order [a,t_r,t_f,offset]\n",
    "    \n",
    "    lower = 0.1*np.array(guess)\n",
    "    upper = 5.*np.array(guess)\n",
    "    bounds = (lower, upper)\n",
    "    \n",
    "    params, _ = curve_fit(pulseShape, bins[start:end], trace[start:end], p0=guess, bounds=bounds)\n",
    "    a, t_r, t_f, offset = params\n",
    "    \n",
    "    return a, t_r, t_f, offset"
   ]
  },
  {
   "cell_type": "code",
   "execution_count": null,
   "metadata": {},
   "outputs": [],
   "source": [
    "def trace_overlay(bins, trace, template, a, t_r, t_f, offset):\n",
    "    start, end = fittingRange(trace)\n",
    "    \n",
    "    fig, axes = plt.subplots(1, 2, figsize=(12*0.7, 4*0.7), dpi=200)\n",
    "    for plot in range(2):\n",
    "        currentAxis = axes.flatten()[plot]\n",
    "\n",
    "        if template is not None:\n",
    "            currentAxis.plot(bins, template*max(trace), lw=1, ls='--', color='black', label='Template')\n",
    "\n",
    "        currentAxis.plot(bins, trace, lw=1, ls='-', color='red', label='Simulation')       \n",
    "        currentAxis.plot(bins[start:end], pulseShape(bins[start:end], a, t_r, t_f, offset), label='Fit')\n",
    "        currentAxis.set_xlabel(r\"Time [$\\mathrm{\\mu s}$]\")\n",
    "        currentAxis.set_ylabel(r\"Amplitude [$\\mathrm{\\mu A}$]\")\n",
    "        currentAxis.legend()\n",
    "        currentAxis.set_xlim([-100, -10][plot], [1000, 300][plot])\n",
    "        currentAxis.set_yscale(['log', 'linear'][plot])\n",
    "        \n",
    "    plt.tight_layout()"
   ]
  },
  {
   "cell_type": "code",
   "execution_count": null,
   "metadata": {},
   "outputs": [],
   "source": [
    "file = 'data/HVeV_fits/NF-C-1.95eV_51231210_000000.root'\n",
    "event = 0\n",
    "chanID = 1\n",
    "bins, I0, trace, PhononE = getTraces(file, event, chanID)\n",
    "scale,rise,fall,offset = fittingGuess(bins, trace)\n",
    "print(\"scale \",scale,\" rise \",rise,\" fall \",fall,\" offset \",offset)"
   ]
  },
  {
   "cell_type": "code",
   "execution_count": null,
   "metadata": {},
   "outputs": [],
   "source": [
    "###file = 'HVeV_TraceMeasurement/HVeV_Laser_1_51231204_000000.root'\n",
    "file = 'data/HVeV_fits/NF-C-1.95eV_51231210_000000.root'\n",
    "event = 0\n",
    "chanID = 1\n",
    "\n",
    "traceFit('NF-C', file, event, chanID, plot=True)"
   ]
  },
  {
   "cell_type": "code",
   "execution_count": null,
   "metadata": {},
   "outputs": [],
   "source": [
    "plt.savefig(\"NF-C_traceFit.eps\", format='eps')\n",
    "plt.savefig(\"NF-C_traceFit.png\")"
   ]
  }
 ],
 "metadata": {
  "kernelspec": {
   "display_name": "Python 3",
   "language": "python",
   "name": "python3"
  },
  "language_info": {
   "codemirror_mode": {
    "name": "ipython",
    "version": 3
   },
   "file_extension": ".py",
   "mimetype": "text/x-python",
   "name": "python",
   "nbconvert_exporter": "python",
   "pygments_lexer": "ipython3",
   "version": "3.6.6"
  }
 },
 "nbformat": 4,
 "nbformat_minor": 4
}
