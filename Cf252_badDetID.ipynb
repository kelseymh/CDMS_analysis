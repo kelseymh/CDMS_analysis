{
 "cells": [
  {
   "cell_type": "code",
   "execution_count": 1,
   "id": "57618219-0a9a-46a8-a195-412c7a063ae9",
   "metadata": {},
   "outputs": [
    {
     "name": "stdout",
     "output_type": "stream",
     "text": [
      "Welcome to JupyROOT 6.28/10\n"
     ]
    }
   ],
   "source": [
    "from imports import *\n",
    "from cats.cdataframe import CDataFrame\n",
    "%matplotlib inline"
   ]
  },
  {
   "cell_type": "code",
   "execution_count": 2,
   "id": "6f21f5c5-b96c-470f-a555-55795a812e2c",
   "metadata": {},
   "outputs": [],
   "source": [
    "# Generate filename for DC3 production Cf252 ROOT file from components\n",
    "def cf252File(detName, dmcrun):\n",
    "    \"\"\"Construct absolute path on Grace (not using DataCatalog) for desired Cf-252\n",
    "       readback (DMC) file [dmcrun], containing events from specified detector type\n",
    "       [detName] (iZIP7, iZIP7Si, HV100mm, HV100mmSi).  All vents in the file should\n",
    "       be from the same DetNum.\"\"\"\n",
    "    basepath=\"/scratch/group/mitchcomp/CDMS/data/nolan/DC3_Production/V2.1.0/Cf252/\"\n",
    "    dmcpath=f\"{detName}/hits/snolab/{detName}_DC3Prod-V2.1.0_Cf252-Cryo_10kEvents_Sep9/output/\"\n",
    "    file=\"Cf252_snolab_cryo_24240921_%06d.root\" % dmcrun\n",
    "\n",
    "    return basepath+dmcpath+file"
   ]
  },
  {
   "cell_type": "code",
   "execution_count": 29,
   "id": "50bca0e1-6d33-4f90-b328-13f2de2876dc",
   "metadata": {},
   "outputs": [],
   "source": [
    "# Events with multiple g4dmcEvent entries, reported by Stefan in e-Log #1976\n",
    "events = [{\"det\": \"iZIP7\", \"run\": 7, \"event\": 566461, \"hit\": 20},\n",
    "          {\"det\": \"iZIP7\", \"run\": 24, \"event\":\t1813079, \"hit\": 0},\n",
    "          {\"det\": \"iZIP7Si\", \"run\": 37, \"event\": 5961901, \"hit\": 47},\n",
    "          {\"det\": \"HV100mm\", \"run\": 38, \"event\": 3139437, \"hit\": 0},\n",
    "          {\"det\": \"HV100mmSi\", \"run\": 43, \"event\": 7497320, \"hit\": 76},\n",
    "         ]"
   ]
  },
  {
   "cell_type": "code",
   "execution_count": 30,
   "id": "c73be860-6fd5-47af-8c17-30e69029bd02",
   "metadata": {},
   "outputs": [],
   "source": [
    "def getHits(record):\n",
    "    \"\"\"Extract g4dmcEvent and g4dmcHits records for specified file/event.\"\"\"\n",
    "    file  = cf252File(record[\"det\"], record[\"run\"])\n",
    "    evnum = record[\"event\"]\n",
    "\n",
    "    g4dmcHits = CDataFrame(\"G4SimDir/g4dmcHits\", file).Filter(f\"EventNum=={evnum}\").AsNumpy()\n",
    "    \n",
    "    return g4dmcHits"
   ]
  },
  {
   "cell_type": "code",
   "execution_count": 31,
   "id": "c10ba42c-c3be-43f5-93f1-f3ca63624443",
   "metadata": {},
   "outputs": [],
   "source": [
    "g4dmcHits = getHits(events[4])"
   ]
  },
  {
   "cell_type": "code",
   "execution_count": 32,
   "id": "77a1d713-804e-4873-a9cc-f5ea1fc03ddc",
   "metadata": {},
   "outputs": [
    {
     "data": {
      "text/plain": [
       "ndarray([14., 14., 14., 14., 14., 14., 14., 14., 14., 14., 14., 14., 14.,\n",
       "         14., 14., 14., 14., 14., 14., 14., 14., 14., 14., 14., 14., 14.,\n",
       "         14., 14., 14., 14., 14., 14., 14., 14., 14., 14., 14., 14., 14.,\n",
       "         14., 14., 14., 14., 14., 14., 14., 14., 14., 14., 14., 14., 14.,\n",
       "         14., 14., 14., 14., 14., 14., 14., 14., 14., 14., 14., 14., 14.,\n",
       "         14., 14., 14., 14., 14., 14., 14., 14., 14., 14., 14., 29., 14.,\n",
       "         14., 14., 14., 14., 14., 14., 14., 14., 14., 14., 14., 14., 14.,\n",
       "         14., 14., 14.])"
      ]
     },
     "execution_count": 32,
     "metadata": {},
     "output_type": "execute_result"
    }
   ],
   "source": [
    "g4dmcHits['DetNum']"
   ]
  },
  {
   "cell_type": "code",
   "execution_count": 33,
   "id": "f7a23eed-83f1-45e3-b6d5-dd6a31f514c4",
   "metadata": {},
   "outputs": [],
   "source": [
    "def getDetHit(event, ihit):\n",
    "    return event[\"Xdet\"][ihit], event[\"Ydet\"][ihit], event[\"Zdet\"][ihit]\n",
    "\n",
    "def getAbsHit(event, ihit):\n",
    "    return event[\"X\"][ihit], event[\"Y\"][ihit], event[\"Z\"][ihit]"
   ]
  },
  {
   "cell_type": "code",
   "execution_count": 46,
   "id": "961316d2-7d72-4073-9915-f066e03930e2",
   "metadata": {},
   "outputs": [
    {
     "name": "stdout",
     "output_type": "stream",
     "text": [
      "\n",
      "*** iZIP7 000007, event 566461, G4DMC hit #20, claimed DetNum 8\n",
      "    Absolute position around hit\n",
      "    (0.07825229599060342, 0.16301476215574376, -1.3850628193100816)\n",
      "*** (0.08123817773853693, 0.1598691583210524, -1.3850589164641234)\n",
      "    (0.08123866960384897, 0.15986892310431042, -1.3850592226021647)\n",
      "    Detector position around hit\n",
      "    (-0.02867298637409192, -0.03241867722345053, 0.0166604978751368)\n",
      "*** (-0.029686033903152945, -0.028201563518399298, -2.9927890477665643e-07)\n",
      "    (-0.029686342262637423, -0.02820111388206932, 0.01666409458305361)\n",
      "\n",
      "*** iZIP7 000024, event 1813079, G4DMC hit #0, claimed DetNum 1\n",
      "    Absolute position around hit\n",
      "*** (0.04929287189236203, 0.0749257614054561, -1.4077587671254317)\n",
      "    (0.04929308380866602, 0.07492589540815214, -1.407758603702094)\n",
      "    Detector position around hit\n",
      "*** (-0.0404511109490962, -0.02938892317116438, -0.024200449940213274)\n",
      "    (0.04045086042284544, 0.029388913079577427, -0.006035286516875658)\n",
      "\n",
      "*** iZIP7Si 000037, event 5961901, G4DMC hit #47, claimed DetNum 4\n",
      "    Absolute position around hit\n",
      "    (0.05282241888380377, -0.12535017835169002, -1.3194672734138169)\n",
      "*** (0.02548322931013818, -0.14407740744173306, -1.338463808794665)\n",
      "    (0.025483271035901797, -0.14407728894343794, -1.3384638871590742)\n",
      "    Detector position around hit\n",
      "    (-0.004747307415588352, 0.01680768111619624, 0.009596043771401582)\n",
      "*** (-0.04996957976782268, 0.0017438903889889445, 0.0450945083905533)\n",
      "    (-0.02347441800733628, 0.04414682896409822, -0.009400569973855681)\n",
      "\n",
      "*** HV100mm 000038, event 3139437, G4DMC hit #0, claimed DetNum 14\n",
      "    Absolute position around hit\n",
      "*** (-0.03698403173676186, -0.013077445166955802, -1.2760689167306338)\n",
      "    (-0.0369839862326876, -0.013077324400258978, -1.276068993397878)\n",
      "    Detector position around hit\n",
      "*** (-0.038567833601883594, 0.007166616137199176, -2.99545415373359e-07)\n",
      "    (-0.038567733810850886, 0.007166697972189423, 0.016664323787340438)\n",
      "\n",
      "*** HV100mmSi 000043, event 7497320, G4DMC hit #76, claimed DetNum 29\n",
      "    Absolute position around hit\n",
      "    (0.10710179973284306, -0.013965809820941864, -1.3457277036906934)\n",
      "*** (0.10677129415337981, -0.013180970282793502, -1.3457277173991211)\n",
      "    (0.10677130868312401, -0.013180963719153817, -1.3457276925305433)\n",
      "    Detector position around hit\n",
      "    (-0.013965809820941871, 0.03215840026715693, -0.016664386505475023)\n",
      "*** (-0.01318097028279351, 0.03248890584662018, 2.997860974573996e-07)\n",
      "    (-0.013180963719153825, 0.03248889131687599, -0.016664375345324743)\n"
     ]
    }
   ],
   "source": [
    "for record in events:\n",
    "    g4dmcHits = getHits(record)\n",
    "    ihit = record[\"hit\"]\n",
    "    print(\"\\n*** %s %06d, event %d, G4DMC hit #%d, claimed DetNum %d\" %\n",
    "          (record[\"det\"], record[\"run\"], record[\"event\"], record[\"hit\"], g4dmcHits[\"DetNum\"][ihit]))\n",
    "    print(\"    Absolute position around hit\")\n",
    "    if ihit>0: print(\"   \",getAbsHit(g4dmcHits, ihit-1))\n",
    "    print(\"***\",getAbsHit(g4dmcHits, ihit))\n",
    "    print(\"   \",getAbsHit(g4dmcHits, ihit+1))\n",
    "    print(\"    Detector position around hit\")          \n",
    "    if ihit>0: print(\"   \",getDetHit(g4dmcHits, ihit-1))\n",
    "    print(\"***\",getDetHit(g4dmcHits, ihit))\n",
    "    print(\"   \",getDetHit(g4dmcHits, ihit+1))"
   ]
  },
  {
   "cell_type": "code",
   "execution_count": 47,
   "id": "90773cb1-7226-42fa-a747-5674e171402e",
   "metadata": {},
   "outputs": [
    {
     "data": {
      "text/plain": [
       "0.04999990808360046"
      ]
     },
     "execution_count": 47,
     "metadata": {},
     "output_type": "execute_result"
    }
   ],
   "source": [
    "sqrt(0.02347441800733628**2+0.04414682896409822**2)"
   ]
  },
  {
   "cell_type": "code",
   "execution_count": 48,
   "id": "2c6cac45-9402-4409-93b6-c5fa6e596e34",
   "metadata": {},
   "outputs": [
    {
     "data": {
      "text/plain": [
       "0.04999980320908754"
      ]
     },
     "execution_count": 48,
     "metadata": {},
     "output_type": "execute_result"
    }
   ],
   "source": [
    "sqrt(0.04045086042284544**2+0.029388913079577427**2)"
   ]
  },
  {
   "cell_type": "code",
   "execution_count": null,
   "id": "ec5a91ef-7fee-40f4-a4d1-31b1a672e725",
   "metadata": {},
   "outputs": [],
   "source": []
  }
 ],
 "metadata": {
  "kernelspec": {
   "display_name": "Python 3 (ipykernel)",
   "language": "python",
   "name": "python3"
  },
  "language_info": {
   "codemirror_mode": {
    "name": "ipython",
    "version": 3
   },
   "file_extension": ".py",
   "mimetype": "text/x-python",
   "name": "python",
   "nbconvert_exporter": "python",
   "pygments_lexer": "ipython3",
   "version": "3.10.12"
  }
 },
 "nbformat": 4,
 "nbformat_minor": 5
}
