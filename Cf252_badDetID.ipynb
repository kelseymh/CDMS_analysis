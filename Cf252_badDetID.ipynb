{
 "cells": [
  {
   "cell_type": "code",
   "execution_count": null,
   "id": "57618219-0a9a-46a8-a195-412c7a063ae9",
   "metadata": {},
   "outputs": [],
   "source": [
    "from imports import *\n",
    "from cats.cdataframe import CDataFrame\n",
    "%matplotlib inline"
   ]
  },
  {
   "cell_type": "code",
   "execution_count": null,
   "id": "6f21f5c5-b96c-470f-a555-55795a812e2c",
   "metadata": {},
   "outputs": [],
   "source": [
    "# Generate filename for DC3 production Cf252 ROOT file from components\n",
    "def cf252File(detName, dmcrun):\n",
    "    \"\"\"Construct absolute path on Grace (not using DataCatalog) for desired Cf-252\n",
    "       readback (DMC) file [dmcrun], containing events from specified detector type\n",
    "       [detName] (iZIP7, iZIP7Si, HV100mm, HV100mmSi).  All vents in the file should\n",
    "       be from the same DetNum.\"\"\"\n",
    "    basepath=\"/scratch/group/mitchcomp/CDMS/data/nolan/DC3_Production/V2.1.0/Cf252/\"\n",
    "    dmcpath=f\"{detName}/hits/snolab/{detName}_DC3Prod-V2.1.0_Cf252-Cryo_10kEvents_Sep9/output/\"\n",
    "    file=\"Cf252_snolab_cryo_24240921_%06d.root\" % dmcrun\n",
    "\n",
    "    return basepath+dmcpath+file"
   ]
  },
  {
   "cell_type": "code",
   "execution_count": null,
   "id": "50bca0e1-6d33-4f90-b328-13f2de2876dc",
   "metadata": {},
   "outputs": [],
   "source": [
    "# Events with multiple g4dmcEvent entries, reported by Stefan in e-Log #1976\n",
    "events = [{\"det\": \"iZIP7\", \"run\": 7, \"event\": 566461, \"hit\": 20},\n",
    "          {\"det\": \"iZIP7\", \"run\": 24, \"event\":\t1813079, \"hit\": 0},\n",
    "          {\"det\": \"iZIP7Si\", \"run\": 37, \"event\": 5961901, \"hit\": 47},\n",
    "          {\"det\": \"HV100mm\", \"run\": 38, \"event\": 3139437, \"hit\": 0},\n",
    "          {\"det\": \"HV100mmSi\", \"run\": 43, \"event\": 7497320, \"hit\": 76},\n",
    "         ]"
   ]
  },
  {
   "cell_type": "code",
   "execution_count": null,
   "id": "c73be860-6fd5-47af-8c17-30e69029bd02",
   "metadata": {},
   "outputs": [],
   "source": [
    "def getHits(record):\n",
    "    \"\"\"Extract g4dmcEvent and g4dmcHits records for specified file/event.\"\"\"\n",
    "    file  = cf252File(record[\"det\"], record[\"run\"])\n",
    "    evnum = record[\"event\"]\n",
    "\n",
    "    g4dmcHits = CDataFrame(\"G4SimDir/g4dmcHits\", file).Filter(f\"EventNum=={evnum}\").AsNumpy()\n",
    "    \n",
    "    return g4dmcHits"
   ]
  },
  {
   "cell_type": "code",
   "execution_count": null,
   "id": "c10ba42c-c3be-43f5-93f1-f3ca63624443",
   "metadata": {},
   "outputs": [],
   "source": [
    "g4dmcHits = getHits(events[4])"
   ]
  },
  {
   "cell_type": "code",
   "execution_count": null,
   "id": "77a1d713-804e-4873-a9cc-f5ea1fc03ddc",
   "metadata": {},
   "outputs": [],
   "source": [
    "g4dmcHits['DetNum']"
   ]
  },
  {
   "cell_type": "code",
   "execution_count": null,
   "id": "f7a23eed-83f1-45e3-b6d5-dd6a31f514c4",
   "metadata": {},
   "outputs": [],
   "source": [
    "def getDetHit(event, ihit):\n",
    "    return event[\"Xdet\"][ihit], event[\"Ydet\"][ihit], event[\"Zdet\"][ihit]\n",
    "\n",
    "def getAbsHit(event, ihit):\n",
    "    return event[\"X\"][ihit], event[\"Y\"][ihit], event[\"Z\"][ihit]"
   ]
  },
  {
   "cell_type": "code",
   "execution_count": null,
   "id": "961316d2-7d72-4073-9915-f066e03930e2",
   "metadata": {},
   "outputs": [],
   "source": [
    "for record in events:\n",
    "    g4dmcHits = getHits(record)\n",
    "    ihit = record[\"hit\"]\n",
    "    print(\"\\n*** %s %06d, event %d, G4DMC hit #%d, claimed DetNum %d\" %\n",
    "          (record[\"det\"], record[\"run\"], record[\"event\"], record[\"hit\"], g4dmcHits[\"DetNum\"][ihit]))\n",
    "    print(\"    Absolute position around hit\")\n",
    "    if ihit>0: print(\"   \",getAbsHit(g4dmcHits, ihit-1))\n",
    "    print(\"***\",getAbsHit(g4dmcHits, ihit))\n",
    "    print(\"   \",getAbsHit(g4dmcHits, ihit+1))\n",
    "    print(\"    Detector position around hit\")          \n",
    "    if ihit>0: print(\"   \",getDetHit(g4dmcHits, ihit-1))\n",
    "    print(\"***\",getDetHit(g4dmcHits, ihit))\n",
    "    print(\"   \",getDetHit(g4dmcHits, ihit+1))"
   ]
  },
  {
   "cell_type": "code",
   "execution_count": null,
   "id": "90773cb1-7226-42fa-a747-5674e171402e",
   "metadata": {},
   "outputs": [],
   "source": [
    "sqrt(0.02347441800733628**2+0.04414682896409822**2)"
   ]
  },
  {
   "cell_type": "code",
   "execution_count": null,
   "id": "2c6cac45-9402-4409-93b6-c5fa6e596e34",
   "metadata": {},
   "outputs": [],
   "source": [
    "sqrt(0.04045086042284544**2+0.029388913079577427**2)"
   ]
  },
  {
   "cell_type": "code",
   "execution_count": null,
   "id": "ec5a91ef-7fee-40f4-a4d1-31b1a672e725",
   "metadata": {},
   "outputs": [],
   "source": []
  }
 ],
 "metadata": {
  "kernelspec": {
   "display_name": "Python 3 (ipykernel)",
   "language": "python",
   "name": "python3"
  },
  "language_info": {
   "codemirror_mode": {
    "name": "ipython",
    "version": 3
   },
   "file_extension": ".py",
   "mimetype": "text/x-python",
   "name": "python",
   "nbconvert_exporter": "python",
   "pygments_lexer": "ipython3",
   "version": "3.10.12"
  }
 },
 "nbformat": 4,
 "nbformat_minor": 5
}
