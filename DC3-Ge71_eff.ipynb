{
 "cells": [
  {
   "cell_type": "code",
   "execution_count": null,
   "id": "081b9365-4596-42da-9cf0-659f671a00ad",
   "metadata": {},
   "outputs": [],
   "source": [
    "from imports import *\n",
    "import phonon_eff\n",
    "%matplotlib inline"
   ]
  },
  {
   "cell_type": "code",
   "execution_count": null,
   "id": "0e963555-2e0d-4a17-9449-fbc49ead5718",
   "metadata": {},
   "outputs": [],
   "source": [
    "# One of the DC3 samples, which is showing efficiencies up to 1.5\n",
    "ba133dc3 = 'data/DC3-Ge71_eff/Ba133_snolab_top_24240725_000000.root'\n",
    "\n",
    "title = \"iZIP7, Ba-133 calibration events (DC3)\"\n",
    "figfile = \"DC3-Ba133_eff.png\"\n",
    "phonon_eff.plotEfficiency(ba133dc3, title, figfile)"
   ]
  },
  {
   "cell_type": "code",
   "execution_count": null,
   "id": "c39f68b0-041d-4537-8ac0-971dea97a875",
   "metadata": {},
   "outputs": [],
   "source": [
    "# Generated sample using personal macro\n",
    "ba133 = 'data/DC3-Ge71_eff/iZIP7-Ba133-center_51240728_000000.root'\n",
    "\n",
    "title = \"iZIP7, Ba-133 calibration events\"\n",
    "figfile = \"iZIP7-Ba133_eff.png\"\n",
    "phonon_eff.plotEfficiency(ba133, title, figfile)"
   ]
  },
  {
   "cell_type": "code",
   "execution_count": null,
   "id": "dbd4c462-9daa-49ee-9061-825636db33b1",
   "metadata": {},
   "outputs": [],
   "source": [
    "# One of the DC3 samples, which is showing efficiencies > 2.4\n",
    "ge71dc3 = 'data/DC3-Ge71_eff/Ge71_zip_Zip_iZIP7_51240724_000000.root'\n",
    "\n",
    "title = \"iZIP7, Ge-71 contaminant events (DC3)\"\n",
    "figfile = \"DC3-Ge71_eff.png\"\n",
    "phonon_eff.plotEfficiency(ge71dc3, title, figfile)"
   ]
  },
  {
   "cell_type": "code",
   "execution_count": null,
   "id": "3a6c2292-dcdd-4814-a927-476c8cfed070",
   "metadata": {},
   "outputs": [],
   "source": [
    "# Generated sample using personal macro\n",
    "ge71 = 'data/DC3-Ge71_eff/iZIP7-Ge71-center_51240725_000000.root'\n",
    "\n",
    "title = \"iZIP7, Ge-71 contaminant events\"\n",
    "figfile = \"iZIP7-Ge71_eff.png\"\n",
    "phonon_eff.plotEfficiency(ge71, title, figfile)"
   ]
  },
  {
   "cell_type": "code",
   "execution_count": null,
   "id": "865498f0",
   "metadata": {},
   "outputs": [],
   "source": [
    "# Generated sample using personal macro\n",
    "izip10keV = 'data/DC3-Ge71_eff/iZIP7-10keV-center_51240726_000000.root'\n",
    "\n",
    "title = \"iZIP7, 10 keV DMCER events\"\n",
    "figfile = \"iZIP7-10keV_eff.png\"\n",
    "phonon_eff.plotEfficiency(izip10keV, title, figfile, xlim=(0.95,1.0))"
   ]
  },
  {
   "cell_type": "code",
   "execution_count": null,
   "id": "8461cb97",
   "metadata": {},
   "outputs": [],
   "source": [
    "# Generated sample using personal macro\n",
    "multi2keV = 'data/DC3-Ge71_eff/iZIP7-5x2keV-center_51240726_000000.root'\n",
    "\n",
    "title = \"iZIP7, 5 x 2 keV DMCER events\"\n",
    "figfile = \"iZIP7-5x2keV_eff.png\"\n",
    "phonon_eff.plotEfficiency(multi2keV, title, figfile, xlim=(0.95,1.0))"
   ]
  },
  {
   "cell_type": "code",
   "execution_count": null,
   "id": "a4424468-9038-45c9-82d8-2d3922fbc154",
   "metadata": {},
   "outputs": [],
   "source": [
    "# Generated sample using personal macro\n",
    "rangekeV = 'data/DC3-Ge71_eff/iZIP7-1-10keV-center_51240727_000000.root'\n",
    "\n",
    "title = \"iZIP7, 1 to 10 keV DMCER events\"\n",
    "figfile = \"iZIP7-1-10keV_eff.png\"\n",
    "phonon_eff.plotEfficiency(rangekeV, title, figfile, xlim=(0.95,1.0))"
   ]
  }
 ],
 "metadata": {
  "kernelspec": {
   "display_name": "Python 3 (ipykernel)",
   "language": "python",
   "name": "python3"
  },
  "language_info": {
   "codemirror_mode": {
    "name": "ipython",
    "version": 3
   },
   "file_extension": ".py",
   "mimetype": "text/x-python",
   "name": "python",
   "nbconvert_exporter": "python",
   "pygments_lexer": "ipython3",
   "version": "3.10.12"
  }
 },
 "nbformat": 4,
 "nbformat_minor": 5
}
