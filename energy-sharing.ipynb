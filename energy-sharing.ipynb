{
 "cells": [
  {
   "cell_type": "code",
   "execution_count": null,
   "metadata": {},
   "outputs": [],
   "source": [
    "from rawio.IO import *\n",
    "import ROOT \n",
    "import root_numpy\n",
    "\n",
    "import matplotlib\n",
    "import matplotlib.pyplot as plt\n",
    "%matplotlib inline\n",
    "import pandas as pd\n",
    "pd.set_option(\"display.max_row\", 100)\n",
    "import numpy as np\n",
    "\n",
    "import sys\n",
    "import os, os.path \n",
    "import fnmatch\n",
    "import glob"
   ]
  },
  {
   "cell_type": "code",
   "execution_count": null,
   "metadata": {},
   "outputs": [],
   "source": [
    "supersim = os.environ[\"CDMS_SUPERSIM\"]\n",
    "# Pull in Warren's detector-channel drawing utility from SuperSim\n",
    "sys.path.append(os.path.join(supersim,\"CDMSscripts\",\"validation\"))\n",
    "import detectorLayout"
   ]
  },
  {
   "cell_type": "code",
   "execution_count": null,
   "metadata": {},
   "outputs": [],
   "source": [
    "# Function to convert our C-style char[] strings to RDataFrame std::strings\n",
    "# Why doesn't ROOT do this automatically (or have an option to do so)?\n",
    "ROOT.gInterpreter.Declare(\"\"\"\n",
    "std::string convertToString(const ROOT::VecOps::RVec<Char_t>& vec) {\n",
    "    std::string s;\n",
    "    size_t length = vec.size();\n",
    "    for (size_t i = 0; vec[i]!='\\\\0'; ++i) {   // Takes care of arrays with extra NUL at end\n",
    "        s += vec[i];\n",
    "        }\n",
    "    return s;\n",
    "    }\n",
    " \"\"\")"
   ]
  },
  {
   "cell_type": "code",
   "execution_count": null,
   "metadata": {},
   "outputs": [],
   "source": [
    "## NOTE: This version is for ROOT 6.24 and earlier; in ROOT 6.26, use rdf.Redefine() \n",
    "def cast_columns(rdf):\n",
    "    \"\"\"Convert char[] (C-style string) TBranches to strings, with new column names\n",
    "       Usage: fixed_rdf = cast_columns(ROOT::RDataFrame(.....))\n",
    "       After calling data = fixed_rdf.AsNumpy(), the original column name can be restored with\n",
    "       data['Branch'] = data.pop('Branch_cast')\n",
    "    \"\"\"\n",
    "    for column in rdf.GetColumnNames():\n",
    "        if rdf.GetColumnType(column) == \"ROOT::VecOps::RVec<Char_t>\":\n",
    "            rdf = rdf.Define(f\"{column}_cast\", f\"convertToString({column})\")\n",
    "            # NOTE: No way to rename or delete a column before 6.26; do it later via Numpy \n",
    "    return rdf"
   ]
  },
  {
   "cell_type": "code",
   "execution_count": null,
   "metadata": {},
   "outputs": [],
   "source": [
    "def cast_array(data):\n",
    "    \"\"\"Convert RDataFrame array columns to Numpy arrays, can replace in situ\n",
    "       Usage: numpy['Branch'] = cast_array(numpy['Branch'])\n",
    "    \"\"\"\n",
    "    casted_row = []\n",
    "    for row in data:\n",
    "        casted_row.append([i for i in row])\n",
    "    return np.array(casted_row)"
   ]
  },
  {
   "cell_type": "code",
   "execution_count": null,
   "metadata": {},
   "outputs": [],
   "source": [
    "def getSharingData(file):\n",
    "    \"\"\"Extract useful hit and energy-sharing information from specified file\n",
    "       Usage: numpyData = getSharingData('myRootFile.root')\n",
    "    \"\"\"\n",
    "    branches = ['EventNum','TrkStep','PName','X3','Y3','Z3','Edep','PhononE','ChargeQ']\n",
    "    rdf = cast_columns(ROOT.RDataFrame(\"G4SimDir/mczip0\", file, branches))\n",
    "    data = rdf.AsNumpy(branches+['PName_cast'])\n",
    "    data['PName'] = data.pop('PName_cast')\n",
    "    data['PhononE'] = cast_array(data['PhononE'])\n",
    "    data['ChargeQ'] = cast_array(data['ChargeQ'])\n",
    "    return data"
   ]
  },
  {
   "cell_type": "code",
   "execution_count": null,
   "metadata": {},
   "outputs": [],
   "source": [
    "iZIP5File = 'data/FastDMC/FastDMC-356keV_00230930_0000.root'\n",
    "HV100mmFile = 'data/FastDMC/HV100mmSi-Sharing-10keV_00230928_000000.root'"
   ]
  },
  {
   "cell_type": "code",
   "execution_count": null,
   "metadata": {},
   "outputs": [],
   "source": [
    "iZIP5data = getSharingData(iZIP5File)\n",
    "HV100mmData = getSharingData(HV100mmFile)"
   ]
  },
  {
   "cell_type": "code",
   "execution_count": null,
   "metadata": {},
   "outputs": [],
   "source": [
    "# Will want to get channel names from G4SettingsInfo/Geometry.ChanName list\n",
    "iZIP5qChans = ['Qo1','Qi1','Qo2','Qi2']\n",
    "iZIP5phChans = ['PAS1','PBS1','PCS1','PDS1','PAS2','PBS2','PCS2','PDS2']\n",
    "HVqChans = []\n",
    "HVphChans = ['PAS1','PBS1','PCS1','PDS1','PES1','PFS1','PAS2','PBS2','PCS2','PDS2','PES2','PFS2']"
   ]
  },
  {
   "cell_type": "code",
   "execution_count": null,
   "metadata": {},
   "outputs": [],
   "source": [
    "fig,axes = plt.subplots()\n",
    "axes.hist(iZIP5data['PhononE']/1e3,bins=100,histtype='step',fill=False,log=True)\n",
    "axes.legend(iZIP5phChans,loc=\"upper right\",ncol=2)\n",
    "axes.set_xlabel(\"PhononE per channel [keV]\")\n",
    "axes.set_title(\"iZIP5 356 keV gamma, Uniform Energy Sharing\")\n",
    "fig.savefig(\"iZIP5_sharing-phChans.png\")"
   ]
  },
  {
   "cell_type": "code",
   "execution_count": null,
   "metadata": {},
   "outputs": [],
   "source": [
    "fig,axes = plt.subplots()\n",
    "axes.hist(iZIP5data['ChargeQ'],bins=200,histtype='step',fill=False,log=True)\n",
    "axes.legend(iZIP5qChans,loc=\"upper right\")\n",
    "axes.set_xlabel(\"ChargeQ per channel [e+ (2.96 eV)]\")\n",
    "axes.set_title(\"iZIP5 356 keV gamma, Simple Charge Sharing\")\n",
    "fig.savefig(\"iZIP5_sharing-qChans.png\")"
   ]
  },
  {
   "cell_type": "code",
   "execution_count": null,
   "metadata": {},
   "outputs": [],
   "source": [
    "fig,axes = plt.subplots()\n",
    "axes.hist(iZIP5data['Edep']/1e3,bins=100,histtype='step',fill=False,log=True)\n",
    "axes.set_xlabel(\"Energy deposit [keV]\")\n",
    "axes.set_title(\"iZIP5 356 keV gamma, Geant4 Hits\")\n",
    "fig.savefig(\"iZIP5_sharing-Edep.png\")"
   ]
  },
  {
   "cell_type": "code",
   "execution_count": null,
   "metadata": {},
   "outputs": [],
   "source": [
    "fig,axes = plt.subplots()\n",
    "axes.hist(HV100mmData['PhononE']/1e3,bins=100,histtype='step',fill=False,log=True)\n",
    "axes.legend(HVphChans,loc=\"upper center\",ncol=2)\n",
    "axes.set_xlabel(\"PhononE per channel [keV]\")\n",
    "axes.set_title(\"HV100mmSi 10 keV gamma, Uniform Energy Sharing\")\n",
    "fig.savefig(\"HV100mm_sharing-phChans.png\")"
   ]
  },
  {
   "cell_type": "code",
   "execution_count": null,
   "metadata": {},
   "outputs": [],
   "source": [
    "fig,axes = plt.subplots()\n",
    "axes.hist(HV100mmData['Edep']/1e3,bins=100,histtype='step',fill=False,log=True)\n",
    "axes.set_xlabel(\"Energy deposit [keV]\")\n",
    "axes.set_title(\"HV100mmSi 10 keV gamma, Geant4 Hits\")\n",
    "fig.savefig(\"HV100mm_sharing-Edep.png\")"
   ]
  },
  {
   "cell_type": "code",
   "execution_count": null,
   "metadata": {},
   "outputs": [],
   "source": [
    "chaninfo = detectorLayout.loadGeometry(iZIP5File)"
   ]
  },
  {
   "cell_type": "code",
   "execution_count": null,
   "metadata": {},
   "outputs": [],
   "source": [
    "plt.subplots(figsize=(8,8))\n",
    "plt.scatter(iZIP5data['X3']*1e3,iZIP5data['Y3']*1e3,c=iZIP5data['Edep']/1e3)\n",
    "plt.title(\"iZIP5 356 keV gamma, Energy Deposit Positions\")\n",
    "plt.xlabel(\"[mm]\")\n",
    "cax = plt.axes([0.91, 0.12, 0.025, 0.76])\n",
    "bar = plt.colorbar(cax=cax)\n",
    "bar.set_label(\"Energy deposit [keV]\")\n",
    "plt.savefig(\"iZIP5_sharing-hits.png\")"
   ]
  },
  {
   "cell_type": "code",
   "execution_count": null,
   "metadata": {},
   "outputs": [],
   "source": [
    "plt.subplots(figsize=(8,8))\n",
    "plt.scatter(HV100mmData['X3']*1e3,HV100mmData['Y3']*1e3,c=HV100mmData['Edep']/1e3)\n",
    "plt.title(\"HV100mmSi 10 keV gamma, Energy Deposit Positions\")\n",
    "plt.xlabel(\"[mm]\")\n",
    "cax = plt.axes([0.91, 0.12, 0.025, 0.76])\n",
    "bar = plt.colorbar(cax=cax)\n",
    "bar.set_label(\"Energy deposit [keV]\")\n",
    "plt.savefig(\"HV100mm_sharing-hits.png\")"
   ]
  },
  {
   "cell_type": "code",
   "execution_count": null,
   "metadata": {},
   "outputs": [],
   "source": [
    "detectorLayout.draw(chaninfo)\n",
    "plt.scatter(iZIP5data['X3']*1e3,iZIP5data['Y3']*1e3,c=iZIP5data['Edep']/1e3,s=1)\n",
    "plt.title(\"iZIP5 356 keV gamma, Edep Positions\")\n",
    "cax = plt.axes([0.91, 0.12, 0.025, 0.76])\n",
    "bar = plt.colorbar(cax=cax)\n",
    "bar.set_label(\"Energy deposit [keV]\")\n",
    "plt.savefig(\"iZIP5_sharing-hits.png\")"
   ]
  },
  {
   "cell_type": "code",
   "execution_count": null,
   "metadata": {},
   "outputs": [],
   "source": []
  }
 ],
 "metadata": {
  "kernelspec": {
   "display_name": "Python 3",
   "language": "python",
   "name": "python3"
  },
  "language_info": {
   "codemirror_mode": {
    "name": "ipython",
    "version": 3
   },
   "file_extension": ".py",
   "mimetype": "text/x-python",
   "name": "python",
   "nbconvert_exporter": "python",
   "pygments_lexer": "ipython3",
   "version": "3.6.6"
  }
 },
 "nbformat": 4,
 "nbformat_minor": 2
}
