{
 "cells": [
  {
   "cell_type": "code",
   "execution_count": null,
   "metadata": {},
   "outputs": [],
   "source": [
    "from rawio.IO import *\n",
    "import ROOT \n",
    "import root_numpy\n",
    "\n",
    "import matplotlib\n",
    "import matplotlib.pyplot as plt\n",
    "%matplotlib inline\n",
    "import pandas as pd\n",
    "pd.set_option(\"display.max_row\", 100)\n",
    "import numpy as np\n",
    "\n",
    "import sys\n",
    "import os, os.path \n",
    "import fnmatch\n",
    "import glob"
   ]
  },
  {
   "cell_type": "code",
   "execution_count": null,
   "metadata": {},
   "outputs": [],
   "source": [
    "DMC1752 = 'data/FastDMC/Pulses-10keV-elog1752_51230925_0000.root'\n",
    "DMCprod = 'data/FastDMC/Pulses-10keV-V09-13-00_51230925_0000.root'\n",
    "UCBC = 'data/HVeV_fits/UCB-C-1.95eV_51231212_000000.root'\n",
    "# -----------------------------------------------------------------------------------------------------------------------------\n",
    "\n",
    "# Event Number of Interest\n",
    "event = 0"
   ]
  },
  {
   "cell_type": "code",
   "execution_count": null,
   "metadata": {},
   "outputs": [],
   "source": [
    "# Will want to get binning in getTraces() to eliminate this hardcoding\n",
    "###chargeBins = np.arange(-409600.0, 1228800, 800) * 1e-3\n",
    "###phononBins = np.arange(-819200.0, 5734400, 1600) * 1e-3\n",
    "phononBins = np.arange(-819200.0, 2867200, 800) * 1e-3     # For UCB-C chip\n",
    "\n",
    "# Will want to get channel names from G4SettingsInfo/Geometry.ChanName list\n",
    "###chargeChans = ['Qo1','Qi1','Qo2','Qi2']\n",
    "###phononChans = ['PAS1','PBS1','PCS1','PDS1','PAS2','PBS2','PCS2','PDS2']\n",
    "phononChans = ['Ch1']"
   ]
  },
  {
   "cell_type": "code",
   "execution_count": null,
   "metadata": {},
   "outputs": [],
   "source": [
    "# Generic function used by getTES() and getFET() below\n",
    "# tree=\"g4dmcTES\" or \"g4dmcFET\"; function will take care of directory\n",
    "def getTraces(file, tree, chans, dtype=0):\n",
    "    traces = { chan: list() for chan in chans }      # Separate empty lists for each key\n",
    "\n",
    "    data = root_numpy.root2array(file, treename=\"G4SimDir/\"+tree, \n",
    "                                 branches = ['EventNum','Trace','ChanName'],\n",
    "                                 selection=f\"DataType=={dtype}\")\n",
    "    \n",
    "    # Copy traces for each event into new array indexed by event number\n",
    "    for i in range(len(data)):\n",
    "        for ch in traces.keys():\n",
    "            if data['ChanName'][i] == bytes(ch, \"ascii\"):\n",
    "                traces[ch].append(data['Trace'][i])\n",
    "    \n",
    "    for ch in traces.keys():\n",
    "        traces[ch] = array(traces[ch])\n",
    "\n",
    "    return traces"
   ]
  },
  {
   "cell_type": "code",
   "execution_count": null,
   "metadata": {},
   "outputs": [],
   "source": [
    "def getTES(file, dtype=0):\n",
    "    tes = getTraces(file, \"g4dmcTES\", phononChans, dtype)\n",
    "\n",
    "    # Convert TES traces from downward to upward going, remove baseline offset\n",
    "    for ch in tes.keys():\n",
    "        tes[ch] = array([max(tr)-tr for tr in tes[ch]])\n",
    "        \n",
    "    return tes"
   ]
  },
  {
   "cell_type": "code",
   "execution_count": null,
   "metadata": {},
   "outputs": [],
   "source": [
    "def getFET(file, dtype=0):\n",
    "    fet = getTraces(file, \"g4dmcFET\", chargeChans, dtype)\n",
    "    return fet"
   ]
  },
  {
   "cell_type": "code",
   "execution_count": null,
   "metadata": {},
   "outputs": [],
   "source": [
    "###TESprod = getTES(DMCprod)\n",
    "###FETprod = getFET(DMCprod)"
   ]
  },
  {
   "cell_type": "code",
   "execution_count": null,
   "metadata": {},
   "outputs": [],
   "source": [
    "###TES1752 = getTES(DMC1752)\n",
    "###FET1752 = getFET(DMC1752)"
   ]
  },
  {
   "cell_type": "code",
   "execution_count": null,
   "metadata": {},
   "outputs": [],
   "source": [
    "TES_UCBC = getTES(UCBC)"
   ]
  },
  {
   "cell_type": "code",
   "execution_count": null,
   "metadata": {},
   "outputs": [],
   "source": [
    "#### Only one channel to be plotted for UCB-C\n",
    "fig1, axes = subplots(1,1,figsize=(4,3), dpi=500)\n",
    "axes.plot(phononBins, TESprod[phononChans[0]][event])\n",
    "axes.set_xlabel(\"Time [\\u03BCs]\")\n",
    "axes.set_ylabel(\"TESSim [\\u03BCA]\")\n",
    "axes.set_title(f\"Trace for UCB-C {phononChans[0]} in Event {event}\")"
   ]
  },
  {
   "cell_type": "code",
   "execution_count": null,
   "metadata": {},
   "outputs": [],
   "source": [
    "fig1.savefig(\"UCBC_trace.eps\")\n",
    "fig1.savefig(\"UCBS_trace.png\")"
   ]
  },
  {
   "cell_type": "code",
   "execution_count": null,
   "metadata": {},
   "outputs": [],
   "source": [
    "#### All channels on one giant plot -- NOTE dimensions are Y x X\n",
    "#### NOTE:  This is only good for an iZIP5 detector\n",
    "fig1, axes = subplots(3,4,figsize=(18,9), dpi = 1000)\n",
    "fig1.set_tight_layout(True)\n",
    "\n",
    "# -----------------------------------------------------------------------------------------------------------------------------\n",
    "\n",
    "# Do the four charge channels first, across the top\n",
    "for plot in range(4):\n",
    "    currentAxis = axes.flatten()[plot]\n",
    "    currentAxis.plot(chargeBins, FETprod[chargeChans[plot]][event], \n",
    "                     lw=1, color = 'C0', label='V09-13-00')\n",
    "    currentAxis.plot(chargeBins, FET1752[chargeChans[plot]][event], \n",
    "                     lw=1, color = 'C1', label='elog/1752')\n",
    "    if plot==0: currentAxis.legend(loc=\"lower right\")\n",
    "    currentAxis.set_xlabel(\"Time [\\u03BCs]\")\n",
    "    currentAxis.set_ylabel(\"FETSim [\\u03BCV]\")\n",
    "    currentAxis.set_title('Trace for ' + chargeChans[plot] + ' in Event ' + str(event))\n",
    "\n",
    "# Do the eight phonon channels, side 1 then side 2\n",
    "for plot in range(4,12):\n",
    "    currentAxis = axes.flatten()[plot]\n",
    "    currentAxis.plot(phononBins, TESprod[phononChans[plot-4]][event], \n",
    "                     lw=1, color = 'C0', label='V09-13-00')\n",
    "    currentAxis.plot(phononBins, TES1752[phononChans[plot-4]][event], \n",
    "                     lw=1, color = 'C1', label='elog/1752')\n",
    "\n",
    "    currentAxis.set_xlabel(\"Time [\\u03BCs]\")\n",
    "    currentAxis.set_ylabel(\"TESSim [\\u03BCA]\")\n",
    "    currentAxis.set_title('Trace for ' + phononChans[plot-4] + ' in Event ' + str(event))"
   ]
  },
  {
   "cell_type": "code",
   "execution_count": null,
   "metadata": {},
   "outputs": [],
   "source": []
  },
  {
   "cell_type": "code",
   "execution_count": null,
   "metadata": {},
   "outputs": [],
   "source": []
  }
 ],
 "metadata": {
  "kernelspec": {
   "display_name": "Python 3 (ipykernel)",
   "language": "python",
   "name": "python3"
  },
  "language_info": {
   "codemirror_mode": {
    "name": "ipython",
    "version": 3
   },
   "file_extension": ".py",
   "mimetype": "text/x-python",
   "name": "python",
   "nbconvert_exporter": "python",
   "pygments_lexer": "ipython3",
   "version": "3.10.12"
  }
 },
 "nbformat": 4,
 "nbformat_minor": 4
}
