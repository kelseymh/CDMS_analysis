{
 "cells": [
  {
   "cell_type": "markdown",
   "metadata": {},
   "source": [
    "## Chi2_Optimization\n",
    "This notebook plots the trends of the chi2 for a comparison between the simulated pulse and the template as each parameter is varied one at a time. It also plots the results of the best parameter combination.\n",
    "\n",
    "- We chose to optimize on the $\\chi^2$, but stick to large time regions since it's easy to get stuck in a local minimum. Said differently: We will pick CrystalSim parameter values that optimize the fit to the tail (t > 500 $\\mu$s). Notes on the optimization method below.\n",
    "  - Start with the previously picked values.\n",
    "  - Find the $\\chi^2$ as we vary each parameter one at a time and choosing the value that minimizes their 1D $\\chi^2$ scans until a minimum was achieved.\n",
    "  - This new value is used and we do the same for the next parameter.\n",
    "  - We keep iterating until no parameter changes value.\n",
    "  - We show we are done by showing the 1D $\\chi^2$ variation as we vary each around the final optimized value.\n",
    "- After that, we use the selected CrystalSim parameters and consider the full time region and find the set of 5 TESSim parameters that minimize the $\\chi^2$.\n",
    "- As a check, we confirm that  the chosen CrystalSim parameters still minimize the $\\chi^2$ for the full time region."
   ]
  },
  {
   "cell_type": "code",
   "execution_count": null,
   "metadata": {},
   "outputs": [],
   "source": [
    "import matplotlib.pyplot as plt\n",
    "%pylab inline\n",
    "import matplotlib\n",
    "%matplotlib inline\n",
    "import pandas as pd\n",
    "from pylab import *\n",
    "import matplotlib.patches as mpatches\n",
    "import numpy\n",
    "import ROOT \n",
    "import root_numpy\n",
    "from ROOT import TH1D, TFile\n",
    "import glob\n",
    "import seaborn as sns\n",
    "\n",
    "from scipy.fft import fft, fftfreq\n",
    "from scipy.interpolate import interp1d\n",
    "import joblib"
   ]
  },
  {
   "cell_type": "code",
   "execution_count": null,
   "metadata": {},
   "outputs": [],
   "source": [
    "# define file paths to the template file, PSDfile, and DMCfile\n",
    "Templatefile = 'samples/Z14_Templates_R134.root'\n",
    "rootfile = TFile(Templatefile)\n",
    "roothist = rootfile.Get('zip14_cdmsliteI/PTslow')\n",
    "template = root_numpy.hist2array(roothist, return_edges = True)[0]"
   ]
  },
  {
   "cell_type": "code",
   "execution_count": null,
   "metadata": {},
   "outputs": [],
   "source": [
    "PSDfile = '/scratch/group/mitchcomp/CDMS/data/catalog-V1.5/psd/LibSimProdv5-4_Filter_01140301_0038.root'\n",
    "rootfile = TFile.Open(PSDfile)\n",
    "roothist = rootfile.Get('zip14/PTNoiseFFTsq')\n",
    "PSD = root_numpy.hist2array(roothist, return_edges = True)[0]"
   ]
  },
  {
   "cell_type": "code",
   "execution_count": null,
   "metadata": {},
   "outputs": [],
   "source": [
    "# time bins for TESSim traces\n",
    "phononBins = np.arange(-819200.0, -819200.0 + 1600 * 4096, 1600) * 1e-3 # ns -> us"
   ]
  },
  {
   "cell_type": "code",
   "execution_count": null,
   "metadata": {},
   "outputs": [],
   "source": [
    "# obtain and show the source macro given the root file path\n",
    "def getMacro(DMCfile):\n",
    "    f=TFile.Open(DMCfile)\n",
    "    macro=f.Get(\"G4SettingsInfoDir/SuperSim_Macro\")\n",
    "    macro.Print()"
   ]
  },
  {
   "cell_type": "code",
   "execution_count": null,
   "metadata": {},
   "outputs": [],
   "source": [
    "# obtain and show the software versions given the root file path\n",
    "def getVersions(DMCfile):\n",
    "    data = root_numpy.root2array(DMCfile, treename=\"G4SettingsInfoDir/Versions\")\n",
    "    df = pd.DataFrame(data)\n",
    "    print(df)"
   ]
  },
  {
   "cell_type": "code",
   "execution_count": null,
   "metadata": {},
   "outputs": [],
   "source": [
    "def getCrystalsim(DMCfile, branches):\n",
    "    #### Retrieve CrystalSim Data, Used to get PhononE values for this study ####\n",
    "    branches_dic = {}\n",
    "    for br in branches:\n",
    "        branches_dic.update({br: []})\n",
    "        \n",
    "    data = root_numpy.root2array(DMCfile, treename=\"G4SimDir/g4dmcEvent\", branches = branches)\n",
    "    for event in range(len(data)):\n",
    "        for br in branches:\n",
    "            branches_dic[br].append(data[br][event])\n",
    "            \n",
    "    for br in branches:\n",
    "        branches_dic[br] = np.array(branches_dic[br])\n",
    "    \n",
    "    return tuple(branches_dic.values())"
   ]
  },
  {
   "cell_type": "code",
   "execution_count": null,
   "metadata": {},
   "outputs": [],
   "source": [
    "def getTES(file):\n",
    "    tesa, tesb, tesc, tesd = [], [], [], []\n",
    "    #### Retrieving the TES traces for each channel ####\n",
    "    data = root_numpy.root2array(file, treename=\"G4SimDir/g4dmcTES\", \n",
    "                             branches = ['EventNum','Trace', 'ChanName'], selection=\"DataType == {}\".format(0))\n",
    "    for i in range(len(data)):\n",
    "        if data['ChanName'][i] == b'PAS2':\n",
    "            tesa.append(data['Trace'][i])\n",
    "        if data['ChanName'][i] == b'PBS2':\n",
    "            tesb.append(data['Trace'][i])\n",
    "        if data['ChanName'][i] == b'PCS2':\n",
    "            tesc.append(data['Trace'][i])\n",
    "        if data['ChanName'][i] == b'PDS2':\n",
    "            tesd.append(data['Trace'][i])\n",
    "        \n",
    "    tesa, tesb, tesc, tesd = np.array(tesa), np.array(tesb), np.array(tesc), np.array(tesd)\n",
    "    \n",
    "    #### TES traces are turned rightside up ####    \n",
    "    tesa = np.array([max(i) - i for i in tesa])\n",
    "    tesb = np.array([max(i) - i for i in tesb])\n",
    "    tesc = np.array([max(i) - i for i in tesc])\n",
    "    tesd = np.array([max(i) - i for i in tesd])\n",
    "    \n",
    "    return tesa, tesb, tesc, tesd"
   ]
  },
  {
   "cell_type": "code",
   "execution_count": null,
   "metadata": {},
   "outputs": [],
   "source": [
    "shift = 9.6e-6 # optimal time shift found in 1D_OF.ipynb in seconds\n",
    "\n",
    "# OF chi-square calculation for full pulse shape\n",
    "def ChiTemplate_full(tes):\n",
    "    \n",
    "    trace = tes[0] # channel 1 TESSim pulse\n",
    "    \n",
    "    N, d = 3011, 1.6e-6    # number of discrete values, time between them (s)\n",
    "    xf = fftfreq(N, d)    # produce frequencies for fft (the positive frequencies come before the negative)\n",
    "\n",
    "    S = fft(template[:3011])    # fourier transform of CH1 template\n",
    "    V = fft(trace[:3011])      # fourier transform of CH1 trace\n",
    "    J = 1 #np.concatenate([PSD[:1506], PSD[-1505:]])    # J = <n^2>\n",
    "    #J[J == 0] = np.inf    # avoid 'divide by zero' errors due to J\n",
    "    w = 2 * np.pi * xf    # Convert linear to angular frequency\n",
    "    \n",
    "    amplitude = sum(np.conj(S) * V * np.exp(1j * w * shift) / J) / sum(np.abs(S)**2 / J)\n",
    "    A_hat = np.abs(amplitude)\n",
    "    \n",
    "    chisquare = sum(np.abs(V - A_hat * np.exp(-1j * w * shift) * S) ** 2 / J)\n",
    "    \n",
    "    return chisquare, A_hat"
   ]
  },
  {
   "cell_type": "markdown",
   "metadata": {},
   "source": [
    "## Chi-square Optimization for CrystalSim Parameters (t < 4000 $\\mu$s)"
   ]
  },
  {
   "cell_type": "code",
   "execution_count": null,
   "metadata": {},
   "outputs": [],
   "source": [
    "# Range of CrystalSim parameter values for chi2 scan\n",
    "# These will probably change as you close in on a minimum\n",
    "\n",
    "SubRange = np.round((np.linspace(0.2, 1.8, 11) * 0.55), 5)\n",
    "TopRange = np.round((np.linspace(0.6, 1.4, 11) * 0.42), 5)"
   ]
  },
  {
   "cell_type": "code",
   "execution_count": null,
   "metadata": {},
   "outputs": [],
   "source": [
    "print(SubRange)"
   ]
  },
  {
   "cell_type": "code",
   "execution_count": null,
   "metadata": {},
   "outputs": [],
   "source": [
    "# This code assumes a file structure with 'chisquare' as the top level directory.\n",
    "# This should contain directories 'top', 'sub', 'gap'\n",
    "# in each of those directories, there should contain root files with the results of scanning\n",
    "# that parameter with the parameter range defined.\n",
    "\n",
    "fig, axes = plt.subplots(1, 2, figsize=(8, 4), dpi = 200)\n",
    "props = dict(boxstyle='square', facecolor='white', alpha=1)\n",
    "for plot in range(2):\n",
    "    files = {}\n",
    "    for i in [TopRange, SubRange][plot]:\n",
    "        files.update({i: f'/scratch/user/perry5334/notebooks/CDMSlite_TESCrystalSimParams/samples/chisquare/' + \n",
    "                         ['top', 'sub'][plot] + '/' + \n",
    "                         ['top', 'sub'][plot] + str(np.round(i, 5)) + '_51220719_0000.root'})\n",
    "            \n",
    "    d = {}\n",
    "    for i in [TopRange, SubRange][plot]:\n",
    "        d.update({i: {}})\n",
    "                \n",
    "    for i in [TopRange, SubRange][plot]:\n",
    "        d[i]['tesa'], d[i]['tesb'], d[i]['tesc'], d[i]['tesd'] = getTES(files[i])\n",
    "        d[i]['tes'] = sum([d[i]['tesa'], d[i]['tesb'], d[i]['tesc'], d[i]['tesd']], axis = 0)\n",
    "        d[i]['chi2'], _ = ChiTemplate_full(d[i]['tes'])\n",
    "        \n",
    "    # after the chi2 is calculated for a parameter, its chi2 trend is plotted in a subplot.\n",
    "    \n",
    "    x = [TopRange, SubRange][plot]\n",
    "    y = array([d[i]['chi2'] for i in x])\n",
    "    currentAxis = axes.flatten()[plot]\n",
    "    currentAxis.plot(x, y, 'x', ls = '-', lw = 2.5, color = 'cadetblue')\n",
    "    currentAxis.set_title(r'$\\chi^2$ vs. ' + ['PhononAbs', 'subgapAbs'][plot])\n",
    "    currentAxis.set_xlabel(['PhononAbs', 'subgapAbs'][plot])\n",
    "    currentAxis.set_ylabel(r'$\\chi^2$')\n",
    "    currentAxis.ticklabel_format(axis=\"y\", style=\"sci\", scilimits=(0,0))\n",
    "    currentAxis.axvline([0.42, 0.55][plot], 0, 1, lw = 1 , ls = '--', color = 'black')\n",
    "    currentAxis.text([0.42, 0.55][plot], [0.6e6, 2e5][plot],  \n",
    "                     [f'PhononAbs = 0.42' + '\\n' + r'$\\chi^2$ = ' + f'{d[[0.42, 0.55][plot]][\"chi2\"]:.3e}',\n",
    "                      f'subgapAbs = 0.55' + '\\n' + r'$\\chi^2$ = ' + f'{d[[0.42, 0.55][plot]][\"chi2\"]:.3e}'][plot], \n",
    "                     ha = 'center', va = 'center', bbox = props, fontsize = 10)"
   ]
  },
  {
   "cell_type": "markdown",
   "metadata": {},
   "source": [
    "## Chi-square Optimization for TESSim Parameters (Full Pulse)"
   ]
  },
  {
   "cell_type": "code",
   "execution_count": null,
   "metadata": {},
   "outputs": [],
   "source": [
    "# Range of TESSim parameter values for chi2 scan\n",
    "# These will probably change as you close in on a minimum\n",
    "\n",
    "TcRange = np.round((np.linspace(0.9, 1.1, 11) * 111), 5)\n",
    "TwRange = np.round((np.linspace(0.6, 1.4, 11) * 3), 5)\n",
    "TsubstRange = np.round((np.linspace(0.95, 1.05, 11) * 67.25), 5)\n",
    "WgammaRange = np.round((np.linspace(0.6, 1.4, 11) * 100), 5)\n",
    "LRange = np.round((np.linspace(0, 1.8, 11) * 100), 5)"
   ]
  },
  {
   "cell_type": "code",
   "execution_count": null,
   "metadata": {},
   "outputs": [],
   "source": [
    "print(TcRange)"
   ]
  },
  {
   "cell_type": "code",
   "execution_count": null,
   "metadata": {},
   "outputs": [],
   "source": [
    "# This code assumes a file structure with 'chisquare' as the top level directory.\n",
    "# This should contain directories 'Tc', 'Tw', 'L', 'Tsubst', 'Wgamma'\n",
    "# in each of those directories, there should contain root files with the results of scanning\n",
    "# that parameter with the parameter range defined.\n",
    "\n",
    "fig, axes = plt.subplots(2, 3, figsize=(15 * 1, 10 * 1), dpi = 100)\n",
    "fig.delaxes(axes[1,2])\n",
    "for plot in range(5):\n",
    "    files = {}\n",
    "    for i in [TcRange, TwRange, LRange, TsubstRange, WgammaRange][plot]:\n",
    "        files.update({i: f'/scratch/user/perry5334/notebooks/CDMSlite_TESCrystalSimParams/samples/chisquare/' + \n",
    "                         ['Tc', 'Tw', 'L', 'Tsubst', 'Wgamma'][plot] + '/' + \n",
    "                         ['Tc', 'Tw', 'L', 'Tsubst', 'Wgamma'][plot] + str(np.round(i, 5)) +\n",
    "                          '_10220719_0000.root'})\n",
    "    \n",
    "    d = {}\n",
    "    for i in [TcRange, TwRange, LRange, TsubstRange, WgammaRange][plot]:\n",
    "        d.update({i: {}})\n",
    "                \n",
    "    for i in [TcRange, TwRange, LRange, TsubstRange, WgammaRange][plot]:\n",
    "        d[i]['tesa'], d[i]['tesb'], d[i]['tesc'], d[i]['tesd'] = getTES(files[i])\n",
    "        d[i]['tes'] = sum([d[i]['tesa'], d[i]['tesb'], d[i]['tesc'], d[i]['tesd']], axis = 0)\n",
    "        d[i]['chi2'], _ = ChiTemplate_full(d[i]['tes'])\n",
    "        \n",
    "    # after the chi2 is calculated for a parameter, its chi2 trend is plotted in a subplot.\n",
    "    \n",
    "    x = [TcRange, TwRange, LRange, TsubstRange, WgammaRange][plot]\n",
    "    y = array([d[i]['chi2'] for i in x])\n",
    "    currentAxis = axes.flatten()[plot]\n",
    "    currentAxis.plot(x, y, 'x', ls = '-', lw = 2.5, color = 'cadetblue')\n",
    "    currentAxis.set_title(r'$\\chi^2$ vs. ' + ['Critical Temperature', 'Transition Width', 'Inductance', \n",
    "                           'Substrate Temperature', 'Volumetric Heat Capacity Coeff.'][plot], fontsize = 10)\n",
    "    currentAxis.set_xlabel(['Critical Temperature [mK]', 'Transition Width [mK]', 'Inductance [nH]', \n",
    "                           'Substrate Temperature [mK]', r'Volumetric Heat Capacity Coefficient $\\frac{J}{m^3K^2}$'][plot])\n",
    "    currentAxis.set_ylabel(r'$\\chi^2$')\n",
    "    currentAxis.ticklabel_format(axis=\"y\", style=\"sci\", scilimits=(0,0))"
   ]
  },
  {
   "cell_type": "markdown",
   "metadata": {},
   "source": [
    "# CrystalSim Optimization Re-Check (Full Pulse)"
   ]
  },
  {
   "cell_type": "code",
   "execution_count": null,
   "metadata": {},
   "outputs": [],
   "source": [
    "# Range of CrystalSimSim parameter values for chi2 scan\n",
    "\n",
    "SubRange = np.round((np.linspace(0.6, 1.4, 11) * 0.0365), 5)\n",
    "TopRange = np.round((np.linspace(0.6, 1.4, 11) * 0.54), 5)\n",
    "GapRange = np.round((np.linspace(0.7, 1.3, 11) * 1075), 5)"
   ]
  },
  {
   "cell_type": "code",
   "execution_count": null,
   "metadata": {},
   "outputs": [],
   "source": [
    "# This code assumes a file structure with 'chisquare' as the top level directory.\n",
    "# This should contain directories 'top', 'sub', 'gap'\n",
    "# in each of those directories, there should contain root files with the results of scanning\n",
    "# that parameter with the parameter range defined.\n",
    "\n",
    "fig, axes = plt.subplots(1, 3, figsize=(16, 4), dpi = 200)\n",
    "for plot in range(3):\n",
    "    files = {}\n",
    "    for i in [TopRange, SubRange, GapRange][plot]:\n",
    "        files.update({i: f'/scratch/user/perry5334/notebooks/HVeV_CrystalSimParams/samples/chisquare/' + \n",
    "                         ['top', 'sub', 'gap'][plot] + '/' + \n",
    "                         ['top', 'sub', 'gap'][plot] + str(np.round(i, 5)) + '_51220621_0000.root'})\n",
    "            \n",
    "    d = {}\n",
    "    for i in [TopRange, SubRange, GapRange][plot]:\n",
    "        d.update({i: {}})\n",
    "                \n",
    "    for i in [TopRange, SubRange, GapRange][plot]:\n",
    "        d[i]['PhononE'] = getCrystalsim(files[i], ['PhononE'])[0]\n",
    "        d[i]['PhononE1'] = np.array([j[0] for j in d[i]['PhononE']])\n",
    "        d[i]['PhononE2'] = np.array([j[1] for j in d[i]['PhononE']])\n",
    "        d[i]['PhononE'] = np.array([sum(j) for j in d[i]['PhononE']])\n",
    "        d[i]['tes1'] = getTES(files[i])\n",
    "        d[i]['chi1'] = ChiTemplate_full(d[i]['tes1'], d[i]['PhononE1'])\n",
    "        \n",
    "    # after the chi2 is calculated for a parameter, its chi2 trend is plotted in a subplot.\n",
    "    \n",
    "    x = [TopRange, SubRange, GapRange][plot]\n",
    "    y = array([d[i]['chi1'] for i in x])\n",
    "    currentAxis = axes.flatten()[plot]\n",
    "    currentAxis.plot(x, y, 'x', ls = '-', lw = 2.5, color = 'cadetblue')\n",
    "    currentAxis.set_title(r'$\\chi^2$ vs. ' + ['PhononAbsTop', 'TESsubgapAbsorption', 'Energy Gap'][plot])\n",
    "    currentAxis.set_xlabel(['PhononAbsTop', 'TESsubgapAbsorption', r'Energy Gap [$\\mu$eV]'][plot])\n",
    "    currentAxis.set_ylabel(r'$\\chi^2$')\n",
    "    currentAxis.ticklabel_format(axis=\"y\", style=\"sci\", scilimits=(0,0))"
   ]
  },
  {
   "cell_type": "markdown",
   "metadata": {},
   "source": [
    "## Visual Comparison of Optimized Pulse to Template"
   ]
  },
  {
   "cell_type": "code",
   "execution_count": null,
   "metadata": {},
   "outputs": [],
   "source": [
    "def f(tes):\n",
    "    f, a = [], []\n",
    "    for event in range(len(tes)):\n",
    "        p1, p2 = numpy.polyfit(phononBins[825:1762], log(tes[event][825:1762]), 1)\n",
    "        f.append(abs(1/p1))\n",
    "        a.append(np.exp(p2))\n",
    "        \n",
    "    f, a = array(f), array(a)\n",
    "    \n",
    "    return f, a"
   ]
  },
  {
   "cell_type": "code",
   "execution_count": null,
   "metadata": {},
   "outputs": [],
   "source": [
    "# after finding a parameter combination the completely minimizes the chi2 for all parameters,\n",
    "# set 'file' to the file path of the sample that is run with those parameters\n",
    "# the following code will plot the channel 1 pulse and the template scaled to its peak height.\n",
    "# it will also make an exponential fit to two time regions and return the amplitude and fall-time\n",
    "\n",
    "binshift = int(shift / 1.6e-6) # convert optimal time-shift from OF to a shift in bins.\n",
    "\n",
    "file = '/scratch/user/perry5334/notebooks/CDMSlite_TESCrystalSimParams/samples/chisquare/sub/sub0.55_51220719_0000.root' # sample to use for comparison\n",
    "tesa, tesb, tesc, tesd = getTES(file)\n",
    "tes = sum([tesa, tesb, tesc, tesd], axis = 0)\n",
    "chi2, A_hat = ChiTemplate_full(tes)\n",
    "ft, a = f(tes)\n",
    "\n",
    "cmap = plt.get_cmap('inferno')\n",
    "c = [cmap(i) for i in np.linspace(0.2, 1, 5)]\n",
    "\n",
    "\n",
    "#### Logscale plot of Optimized Pulse and Template #### ------------------------------------------------------------------------\n",
    "\n",
    "plt.figure(figsize(4, 4), dpi = 200)\n",
    "plt.plot(phononBins[:-binshift], template[:-binshift] * A_hat, color = 'black', lw = 2, ls = '--')\n",
    "plt.plot(phononBins[:-binshift], tes[0][binshift:], color = 'cadetblue')\n",
    "TES = mpatches.Patch(color='cadetblue', label='Optimized Pulse')\n",
    "Template = mpatches.Patch(color='black', label= r'Template, $\\chi^2$ = ' + f\"{chi2:.3e}\")\n",
    "\n",
    "plt.xlim(-100, None)\n",
    "plt.legend(handles=[TES, Template], fontsize = 6)\n",
    "plt.xlabel(r'Time [$\\mu s$]')\n",
    "plt.ylabel(r'Amplitude [$\\mu A$]')\n",
    "plt.title('Optimized Slow Trace')\n",
    "plt.yscale('log')\n",
    "plt.ylim(1e-3, 1e1)\n",
    "\n",
    "#### Linear Scale Plot of Optimized Pulse and Template #### --------------------------------------------------------------------\n",
    "\n",
    "plt.figure(figsize(4, 4), dpi = 200)\n",
    "plt.plot(phononBins[:-binshift], template[:-binshift] * A_hat, color = 'black', lw = 2, ls = '--')\n",
    "plt.plot(phononBins[:-binshift], tes[0][binshift:], color = 'cadetblue')\n",
    "\n",
    "TES = mpatches.Patch(color='cadetblue', label='Optimized Pulse')\n",
    "Template = mpatches.Patch(color='black', label= r'Template, $\\chi^2$ = ' + f\"{chi2:.3e}\")\n",
    "\n",
    "plt.xlim(-100, 3000)\n",
    "plt.legend(loc = 'upper right', handles=[TES, Template], fontsize = 9)\n",
    "plt.xlabel(r'Time [$\\mu s$]')\n",
    "plt.ylabel(r'Amplitude [$\\mu A$]')\n",
    "plt.title('Optimized Slow Trace')\n",
    "\n",
    "#### Plot of Difference Between Optimized Pulse and Template #### --------------------------------------------------------------\n",
    "\n",
    "plt.figure(figsize(4, 4), dpi = 200)\n",
    "plt.plot(phononBins[:-binshift], (tes[0][binshift:] - template[:-binshift] * A_hat) * 1e3, color = 'black')\n",
    "plt.axhline(0, 0, 1, lw = 0.5, color = 'red')\n",
    "plt.xlim(-100, 5000)\n",
    "plt.xlabel(r'Time [$\\mu$s]')\n",
    "plt.ylabel(r'Amplitude [nA]')\n",
    "plt.title('Optimized Slow Trace Difference to Template')\n",
    "\n",
    "#### Plot of Relative Difference Between Optimized Pulse and Template #### -----------------------------------------------------\n",
    "\n",
    "plt.figure(figsize(4, 4), dpi = 200)\n",
    "plt.plot(phononBins[:-binshift], (tes[0][binshift:] - template[:-binshift] * A_hat) / (template[:-binshift] * A_hat), color = 'black')\n",
    "plt.axhline(0, 0, 1, lw = 0.5, color = 'red')\n",
    "plt.xlim(-100, 5000)\n",
    "plt.ylim(-1.1, 1.1)\n",
    "plt.xlabel(r'Time [$\\mu$s]')\n",
    "plt.ylabel(r'Relative Difference')\n",
    "plt.title('Optimized Slow Trace Relative Difference to Template')"
   ]
  },
  {
   "cell_type": "code",
   "execution_count": null,
   "metadata": {},
   "outputs": [],
   "source": []
  },
  {
   "cell_type": "code",
   "execution_count": null,
   "metadata": {},
   "outputs": [],
   "source": []
  }
 ],
 "metadata": {
  "kernelspec": {
   "display_name": "Python 3",
   "language": "python",
   "name": "python3"
  },
  "language_info": {
   "codemirror_mode": {
    "name": "ipython",
    "version": 3
   },
   "file_extension": ".py",
   "mimetype": "text/x-python",
   "name": "python",
   "nbconvert_exporter": "python",
   "pygments_lexer": "ipython3",
   "version": "3.6.6"
  }
 },
 "nbformat": 4,
 "nbformat_minor": 2
}
