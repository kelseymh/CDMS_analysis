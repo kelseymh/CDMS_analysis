{
 "cells": [
  {
   "cell_type": "code",
   "execution_count": null,
   "id": "1720bc9a-f65a-4de9-98c8-6218d0e2ee05",
   "metadata": {},
   "outputs": [],
   "source": [
    "from imports import *\n",
    "from traceReader import *\n",
    "%matplotlib inline"
   ]
  },
  {
   "cell_type": "code",
   "execution_count": null,
   "id": "804e51a7-849c-449f-94cf-d03a7d8c47bb",
   "metadata": {},
   "outputs": [],
   "source": [
    "iZIP5 = 'data/FastDMC/TriggerShift/iZIP5-DMC_51241026_000000.root'\n",
    "\n",
    "# --------------------------------------------------------------------------\n",
    "# Event Number of Interest\n",
    "event = 0\n",
    "\n",
    "reader = traceReader(iZIP5)\n",
    "###reader.setVerbose(True)"
   ]
  },
  {
   "cell_type": "code",
   "execution_count": null,
   "id": "28b7954a-eb1e-401f-ba1d-9e11f38aad19",
   "metadata": {},
   "outputs": [],
   "source": [
    "# Make overlay of all channels, zoomed in around t=0\n",
    "\n",
    "bins = reader.timeBins(\"TES\")\n",
    "channels, traces = reader.plottableTES(event)\n",
    "\n",
    "plt.plot(bins, traces, lw=1, label=channels)\n",
    "plt.xlim([-50., 200.])\n",
    "plt.xlabel(\"Time [\\u03BCs]\")\n",
    "plt.ylabel(\"Trace [\\u03BCA]\")\n",
    "plt.title(\"DMCER TES Traces near t=0\")\n",
    "plt.legend()"
   ]
  },
  {
   "cell_type": "code",
   "execution_count": null,
   "id": "30fba85a-4e3c-4521-961b-4fd569a43433",
   "metadata": {},
   "outputs": [],
   "source": [
    "# Find starting time of each channel trace\n",
    "\n",
    "bins = reader.timeBins(\"TES\")\n",
    "traces = reader.allTES(event)\n",
    "channels = list(traces.keys())\n",
    "\n",
    "tstart = [ bins[traces[ch]>1e-3][0] for ch in channels ]\n",
    "plt.scatter(channels, tstart)\n",
    "plt.ylabel(\"Time [\\u03BCs]\")\n",
    "plt.title(\"Start time of TES Traces\")"
   ]
  },
  {
   "cell_type": "code",
   "execution_count": null,
   "id": "4e415c42-8fa9-44f8-b2e6-bff0eb8b6828",
   "metadata": {},
   "outputs": [],
   "source": [
    "# Construct a map of trace shifts vs. hit position\n",
    "\n",
    "# Get hit positions from g4dmcHits into a Numpy dictionary (RDF.AsNumpy())\n",
    "branches = [ \"EventNum\", \"Xdet\", \"Ydet\", \"Zdet\" ]\n",
    "hits = CDataFrame(\"G4SimDir/g4dmcHits\", iZIP5).AsNumpy(branches)\n",
    "hits[\"Rdet\"] = np.sqrt(hits[\"Xdet\"]**2 + hits[\"Ydet\"]**2)\n",
    "\n",
    "# Use PhononE summary use it to construct \"TraceStart\"\n",
    "evsum = CDataFrame(\"G4SimDir/g4dmcEvent\", iZIP5).AsNumpy([\"PhononE\"])\n",
    "hits[\"TraceStart\"] = np.zeros_like(evsum[\"PhononE\"])\n",
    "\n",
    "# Use method above to get a list of the trace shifts for a given event\n",
    "for event in hits[\"EventNum\"]:\n",
    "    traces = reader.allTES(int(event))\n",
    "    hits[\"TraceStart\"][hits[\"EventNum\"]==event] = [bins[traces[ch]>1e-3][0] for ch in channels]\n",
    "\n",
    "# For each channel, plot time delay vs. hit position, with a detector map\n",
    "fig, ax = plt.subplots(3,3, figsize=(4,4), dpi=300)\n",
    "fig.set_tight_layout(True)\n",
    "fig.suptitle(\"Trace start time on each channel\")\n",
    "\n",
    "for ich in range(len(channels)):\n",
    "    # FIXME: Want a detector outline here!\n",
    "    thePlot = ax.flatten()[ich]\n",
    "    thePlot.scatter(hits[\"Xdet\"],hits[\"Ydet\"],c=hits[\"TraceStart\"][ich],cmap='inferno')\n",
    "    thePlot.set_title(channels[ich])"
   ]
  },
  {
   "cell_type": "code",
   "execution_count": null,
   "id": "34657308-9d2e-4b6a-9f8e-5d1378aa094a",
   "metadata": {},
   "outputs": [],
   "source": []
  }
 ],
 "metadata": {
  "kernelspec": {
   "display_name": "Python 3 (ipykernel)",
   "language": "python",
   "name": "python3"
  },
  "language_info": {
   "codemirror_mode": {
    "name": "ipython",
    "version": 3
   },
   "file_extension": ".py",
   "mimetype": "text/x-python",
   "name": "python",
   "nbconvert_exporter": "python",
   "pygments_lexer": "ipython3",
   "version": "3.10.12"
  }
 },
 "nbformat": 4,
 "nbformat_minor": 5
}
