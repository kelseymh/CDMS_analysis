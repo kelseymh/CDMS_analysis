{
 "cells": [
  {
   "cell_type": "code",
   "execution_count": null,
   "id": "081b9365-4596-42da-9cf0-659f671a00ad",
   "metadata": {},
   "outputs": [],
   "source": [
    "from imports import *\n",
    "import phonon_eff\n",
    "%matplotlib inline"
   ]
  },
  {
   "cell_type": "code",
   "execution_count": null,
   "id": "b0455bb2-7fbd-4996-9915-d8d1f7b88b1b",
   "metadata": {},
   "outputs": [],
   "source": [
    "# DMC files generated using G4CMP-418 feature branch"
   ]
  },
  {
   "cell_type": "code",
   "execution_count": null,
   "id": "1f2a9e08-58af-4377-946a-e381c529d512",
   "metadata": {},
   "outputs": [],
   "source": [
    "snoGe71   = 'data/G4CMP276_final/G4CMP-418/Ge71-SNOLAB-G4CMP418_24240719_000000.root'\n",
    "sno10keV  = 'data/G4CMP276_final/G4CMP-418/10keV-SNOLAB-G4CMP418_24240719_000000.root'\n",
    "izipGe71  = 'data/G4CMP276_final/G4CMP-418/Ge71-iZIP7-G4CMP418_51240719_000000.root'\n",
    "izipMulti = 'data/G4CMP276_final/G4CMP-418/multihit-iZIP7-G4CMP418_51240719_000000.root'\n",
    "izipMult0 = 'data/G4CMP276_final/G4CMP-418/multiCenter-iZIP7-G4CMP418_51240719_000000.root'"
   ]
  },
  {
   "cell_type": "code",
   "execution_count": null,
   "id": "dbd4c462-9daa-49ee-9061-825636db33b1",
   "metadata": {},
   "outputs": [],
   "source": [
    "title = \"SNOLAB detectors, Ge-71 contaminant events\"\n",
    "figfile = \"SNOLAB-eff-stack_G4CMP418.png\"\n",
    "phonon_eff.stackEfficiency(snoGe71, title, figfile)"
   ]
  },
  {
   "cell_type": "code",
   "execution_count": null,
   "id": "68b0621b-f9a5-4723-8551-76d5b4b8edb5",
   "metadata": {},
   "outputs": [],
   "source": [
    "title = \"SNOLAB iZIP7 detectors, Ge-71 contaminant events\"\n",
    "figfile = \"SNOLAB-eff-iZIP7_G4CMP418.png\"\n",
    "phonon_eff.plotEfficiency(snoGe71, title, figfile, detType=700)"
   ]
  },
  {
   "cell_type": "code",
   "execution_count": null,
   "id": "eb627beb-0a2e-4082-aedd-8fad9f7d6515",
   "metadata": {},
   "outputs": [],
   "source": [
    "title   = \"SNOLAB detectors, Ge-71 SimFiducial\"\n",
    "figfile = \"SNOLAB-simfid-Ge71_G4CMP418.png\"\n",
    "phonon_eff.mapAllEfficiencies(snoGe71, title, figfile)"
   ]
  },
  {
   "cell_type": "code",
   "execution_count": null,
   "id": "644aa8a6-fb41-426d-9fa0-1bd1bb908ee0",
   "metadata": {},
   "outputs": [],
   "source": [
    "title   = \"iZIP7 detector, 0.1-10 keV multiple DMCER at (0,0,0)\"\n",
    "figfile = \"iZIP7-eff-multiCenter_G4CMP418.png\"\n",
    "phonon_eff.plotEfficiency(izipMult0, title, figfile, xlim=(0.8,1.01))"
   ]
  },
  {
   "cell_type": "code",
   "execution_count": null,
   "id": "a7d37cd6-cdf6-4c94-beb7-f64d87b8230b",
   "metadata": {},
   "outputs": [],
   "source": [
    "title   = \"iZIP7 detector, 0.1-10 keV multiple DMCER events\"\n",
    "figfile = \"iZIP7-eff-multi_G4CMP418.png\"\n",
    "phonon_eff.plotEfficiency(izipMulti, title, figfile)"
   ]
  },
  {
   "cell_type": "code",
   "execution_count": null,
   "id": "6da010f9-7e11-4285-b214-db26c942427e",
   "metadata": {},
   "outputs": [],
   "source": [
    "title   = \"iZIP7 SimFiducial, 0.1-10 keV multiple DMCER\"\n",
    "figfile = \"iZIP7-simfid_G4CMP418.png\"\n",
    "phonon_eff.mapEfficiency(izipMulti, 700, title, izipcut=0.99, hvcut=0.99)\n",
    "plt.savefig(figfile)"
   ]
  },
  {
   "cell_type": "code",
   "execution_count": null,
   "id": "974055b8-0a49-4673-9511-dac5469fca91",
   "metadata": {},
   "outputs": [],
   "source": [
    "title = \"SNOLAB detectors, 10 keV DMCER events\"\n",
    "figfile = \"SNOLAB-eff-10keV_G4CMP418.png\"\n",
    "phonon_eff.plotEfficiency(sno10keV, title, figfile)"
   ]
  },
  {
   "cell_type": "code",
   "execution_count": null,
   "id": "66817656-3df7-4fbb-9e3a-9bca6d52f7cb",
   "metadata": {},
   "outputs": [],
   "source": [
    "title = \"SNOLAB detectors, 10 keV DMCER events\"\n",
    "figfile = \"SNOLAB-stack-10keV_G4CMP418.png\"\n",
    "phonon_eff.stackEfficiency(sno10keV, title, figfile)\n",
    "plt.gca().set_xlim(0.95,1.05)"
   ]
  },
  {
   "cell_type": "code",
   "execution_count": null,
   "id": "35aff538-6bab-47b8-9e47-ce50c682be8d",
   "metadata": {},
   "outputs": [],
   "source": [
    "title   = \"SNOLAB detectors, SimFiducial\"\n",
    "figfile = \"SNOLAB-simfid_G4CMP418.png\"\n",
    "phonon_eff.mapAllEfficiencies(sno10keV, title, figfile, izipcut=.995, hvcut=0.995)"
   ]
  },
  {
   "cell_type": "code",
   "execution_count": null,
   "id": "d8172709-1041-4960-b31f-faebaf6258ab",
   "metadata": {},
   "outputs": [],
   "source": [
    "title = \"Single iZIP7 detector, Ge-71 contaminant events\"\n",
    "figfile = \"iZIP7-Ge71-eff_G4CMP418.png\"\n",
    "phonon_eff.plotEfficiency(izipGe71, figfile, figfile)"
   ]
  },
  {
   "cell_type": "code",
   "execution_count": null,
   "id": "09112ca5-2010-43f2-8055-d35b51c5d616",
   "metadata": {},
   "outputs": [],
   "source": []
  }
 ],
 "metadata": {
  "kernelspec": {
   "display_name": "Python 3 (ipykernel)",
   "language": "python",
   "name": "python3"
  },
  "language_info": {
   "codemirror_mode": {
    "name": "ipython",
    "version": 3
   },
   "file_extension": ".py",
   "mimetype": "text/x-python",
   "name": "python",
   "nbconvert_exporter": "python",
   "pygments_lexer": "ipython3",
   "version": "3.10.12"
  }
 },
 "nbformat": 4,
 "nbformat_minor": 5
}
