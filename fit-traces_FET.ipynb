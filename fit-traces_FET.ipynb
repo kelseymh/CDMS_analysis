{
 "cells": [
  {
   "cell_type": "code",
   "execution_count": null,
   "metadata": {},
   "outputs": [],
   "source": [
    "from trace_fitter import *\n",
    "%matplotlib inline"
   ]
  },
  {
   "cell_type": "code",
   "execution_count": null,
   "metadata": {},
   "outputs": [],
   "source": [
    "import ROOT"
   ]
  },
  {
   "cell_type": "code",
   "execution_count": null,
   "metadata": {},
   "outputs": [],
   "source": [
    "iZIP2   = 'data/FET_templates/iZIP2-FET-Qi1_51240103_000000.root'\n",
    "iZIP5   = 'data/FET_templates/iZIP5-FET-Qi1_51240103_0000.root'\n",
    "iZIP7   = 'data/FET_templates/iZIP7-FET-Qi1_51240103_000000.root'\n",
    "iZIP7Si = 'data/FET_templates/iZIP7Si-FET-Qi1_51240103_000000.root'"
   ]
  },
  {
   "cell_type": "code",
   "execution_count": null,
   "metadata": {},
   "outputs": [],
   "source": [
    "bins = traces_rdf.getBins(iZIP5, \"FET\", 0)\n",
    "numBins, T0, BinWidth = traces_rdf.loadBinning(iZIP5, \"FET\", 0)\n",
    "print(numBins, T0, BinWidth)"
   ]
  },
  {
   "cell_type": "code",
   "execution_count": null,
   "metadata": {},
   "outputs": [],
   "source": [
    "print(bins[500:520])"
   ]
  },
  {
   "cell_type": "code",
   "execution_count": null,
   "metadata": {},
   "outputs": [],
   "source": [
    "# Arguments: file, detname, sensor, event, channel, do plots\n",
    "traceFit(iZIP5, \"iZIP5\", \"FET\", 0, 0, True)"
   ]
  },
  {
   "cell_type": "code",
   "execution_count": null,
   "metadata": {},
   "outputs": [],
   "source": [
    "setVerbose(True)"
   ]
  },
  {
   "cell_type": "code",
   "execution_count": null,
   "metadata": {},
   "outputs": [],
   "source": [
    "bins, trace, _ = traces_rdf.getFET(iZIP7, 0, 0)\n",
    "print(trace.min(), trace.max())\n",
    "print(trace[-1])"
   ]
  },
  {
   "cell_type": "code",
   "execution_count": null,
   "metadata": {},
   "outputs": [],
   "source": [
    "guess = guessFET(bins, trace)\n",
    "guess"
   ]
  },
  {
   "cell_type": "code",
   "execution_count": null,
   "metadata": {},
   "outputs": [],
   "source": [
    "1.5/guess[1]"
   ]
  },
  {
   "cell_type": "code",
   "execution_count": null,
   "metadata": {},
   "outputs": [],
   "source": [
    "# Arguments: file, detname, event, channel, do plots\n",
    "traceFit(iZIP7Si, \"iZIP7Si\", \"FET\", 0, 0, True)"
   ]
  },
  {
   "cell_type": "code",
   "execution_count": null,
   "metadata": {},
   "outputs": [],
   "source": [
    "# Arguments: file, detname, event, channel, do plots\n",
    "traceFit(iZIP7, \"iZIP7\", \"FET\", 0, 0, True)"
   ]
  },
  {
   "cell_type": "code",
   "execution_count": null,
   "metadata": {},
   "outputs": [],
   "source": [
    "# Arguments: file, detname, event, channel, do plots\n",
    "traceFit(iZIP2, \"iZIP2\", \"FET\", 0, 0, True)"
   ]
  },
  {
   "cell_type": "code",
   "execution_count": null,
   "metadata": {},
   "outputs": [],
   "source": []
  }
 ],
 "metadata": {
  "kernelspec": {
   "display_name": "Python 3",
   "language": "python",
   "name": "python3"
  },
  "language_info": {
   "codemirror_mode": {
    "name": "ipython",
    "version": 3
   },
   "file_extension": ".py",
   "mimetype": "text/x-python",
   "name": "python",
   "nbconvert_exporter": "python",
   "pygments_lexer": "ipython3",
   "version": "3.6.6"
  }
 },
 "nbformat": 4,
 "nbformat_minor": 4
}
