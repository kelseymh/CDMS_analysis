{
 "cells": [
  {
   "cell_type": "code",
   "execution_count": null,
   "metadata": {},
   "outputs": [],
   "source": [
    "from imports import *\n",
    "import traces_rdf\n",
    "%matplotlib inline\n",
    "\n",
    "supersim = os.environ[\"CDMS_SUPERSIM\"]\n",
    "# Pull in Warren's detector-channel drawing utility from SuperSim\n",
    "sys.path.append(os.path.join(supersim,\"CDMSscripts\",\"validation\"))\n",
    "import detectorLayout"
   ]
  },
  {
   "cell_type": "code",
   "execution_count": null,
   "metadata": {},
   "outputs": [],
   "source": [
    "file2T = 'data/TES_TwoTemplate/FastDMC-2T_00240610_0000.root'\n",
    "fileODE = 'data/TES_TwoTemplate/cdmslite-ODE_51240612_0000.root'"
   ]
  },
  {
   "cell_type": "code",
   "execution_count": null,
   "metadata": {},
   "outputs": [],
   "source": [
    "chaninfo = detectorLayout.loadGeometry(file2T)"
   ]
  },
  {
   "cell_type": "code",
   "execution_count": null,
   "metadata": {},
   "outputs": [],
   "source": [
    "detectorLayout.draw(chaninfo)\n",
    "plt.plot(0,-15,'y*',markersize=20,markeredgecolor='black')\n",
    "plt.savefig(\"2T_event-pos.png\")"
   ]
  },
  {
   "cell_type": "code",
   "execution_count": null,
   "metadata": {},
   "outputs": [],
   "source": [
    "detectorLayout.draw(chaninfo)\n",
    "plt.plot(0,0,'y*',markersize=20,markeredgecolor='black')\n",
    "plt.savefig(\"2T_event-center.png\")"
   ]
  },
  {
   "cell_type": "code",
   "execution_count": null,
   "metadata": {},
   "outputs": [],
   "source": [
    "branches = [\"PhononE\", \"PhononEfast\", \"PhononEslow\"]\n",
    "phononE2T = traces_rdf.convertRDFBranches(ROOT.RDataFrame(\"G4SimDir/g4dmcEvent\", file2T, branches).AsNumpy())\n",
    "phononEODE = traces_rdf.convertRDFBranches(ROOT.RDataFrame(\"G4SimDir/g4dmcEvent\", fileODE, branches).AsNumpy())"
   ]
  },
  {
   "cell_type": "code",
   "execution_count": null,
   "metadata": {},
   "outputs": [],
   "source": [
    "phononE2T"
   ]
  },
  {
   "cell_type": "code",
   "execution_count": null,
   "metadata": {},
   "outputs": [],
   "source": [
    "phononEODE"
   ]
  },
  {
   "cell_type": "code",
   "execution_count": null,
   "metadata": {},
   "outputs": [],
   "source": []
  }
 ],
 "metadata": {
  "kernelspec": {
   "display_name": "Python 3",
   "language": "python",
   "name": "python3"
  },
  "language_info": {
   "codemirror_mode": {
    "name": "ipython",
    "version": 3
   },
   "file_extension": ".py",
   "mimetype": "text/x-python",
   "name": "python",
   "nbconvert_exporter": "python",
   "pygments_lexer": "ipython3",
   "version": "3.6.6"
  }
 },
 "nbformat": 4,
 "nbformat_minor": 4
}
