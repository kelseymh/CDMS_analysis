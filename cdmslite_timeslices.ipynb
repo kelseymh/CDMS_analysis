{
 "cells": [
  {
   "cell_type": "code",
   "execution_count": null,
   "metadata": {},
   "outputs": [],
   "source": [
    "from rawio.IO import *\n",
    "import ROOT \n",
    "import root_numpy\n",
    "\n",
    "import matplotlib\n",
    "import matplotlib.pyplot as plt\n",
    "import matplotlib.animation as animation\n",
    "%matplotlib inline\n",
    "import pandas as pd\n",
    "pd.set_option(\"display.max_row\", 100)\n",
    "import numpy as np\n",
    "\n",
    "import math\n",
    "import sys\n",
    "import os, os.path \n",
    "import fnmatch\n",
    "import glob"
   ]
  },
  {
   "cell_type": "code",
   "execution_count": null,
   "metadata": {},
   "outputs": [],
   "source": [
    "supersim = os.environ[\"CDMS_SUPERSIM\"]\n",
    "# Pull in Warren's detector-channel drawing utility from SuperSim\n",
    "sys.path.append(os.path.join(supersim,\"CDMSscripts\",\"validation\"))\n",
    "import detectorLayout"
   ]
  },
  {
   "cell_type": "code",
   "execution_count": null,
   "metadata": {},
   "outputs": [],
   "source": [
    "# Function to convert our C-style char[] strings to RDataFrame std::strings\n",
    "# Why doesn't ROOT do this automatically (or have an option to do so)?\n",
    "ROOT.gInterpreter.Declare(\"\"\"\n",
    "std::string convertToString(const ROOT::VecOps::RVec<Char_t>& vec) {\n",
    "    std::string s;\n",
    "    size_t length = vec.size();\n",
    "    for (size_t i = 0; vec[i]!='\\\\0'; ++i) {   // Takes care of arrays with extra NUL at end\n",
    "        s += vec[i];\n",
    "        }\n",
    "    return s;\n",
    "    }\n",
    " \"\"\")"
   ]
  },
  {
   "cell_type": "code",
   "execution_count": null,
   "metadata": {},
   "outputs": [],
   "source": [
    "## NOTE: This version is for ROOT 6.24 and earlier; in ROOT 6.26, use rdf.Redefine() \n",
    "def cast_columns(rdf):\n",
    "    \"\"\"Convert char[] (C-style string) TBranches to strings, with new column names\n",
    "       Usage: fixed_rdf = cast_columns(ROOT::RDataFrame(.....))\n",
    "       After calling data = fixed_rdf.AsNumpy(), the original column name can be restored with\n",
    "       data['Branch'] = data.pop('Branch_cast')\n",
    "    \"\"\"\n",
    "    for column in rdf.GetColumnNames():\n",
    "        if rdf.GetColumnType(column) == \"ROOT::VecOps::RVec<Char_t>\":\n",
    "            rdf = rdf.Define(f\"{column}_cast\", f\"convertToString({column})\")\n",
    "            # NOTE: No way to rename or delete a column before 6.26; do it later via Numpy \n",
    "    return rdf"
   ]
  },
  {
   "cell_type": "code",
   "execution_count": null,
   "metadata": {},
   "outputs": [],
   "source": [
    "def cast_array(data):\n",
    "    \"\"\"Convert RDataFrame array columns to Numpy arrays, can replace in situ\n",
    "       Usage: numpy['Branch'] = cast_array(numpy['Branch'])\n",
    "    \"\"\"\n",
    "    casted_row = []\n",
    "    for row in data:\n",
    "        casted_row.append([i for i in row])\n",
    "    return np.array(casted_row)"
   ]
  },
  {
   "cell_type": "code",
   "execution_count": null,
   "metadata": {},
   "outputs": [],
   "source": [
    "def getPhononHits(file):\n",
    "    \"\"\"Extract useful phonon hit information from specified file\n",
    "       Usage: numpyData = getSharingData('myRootFile.root')\n",
    "    \"\"\"\n",
    "    branches = ['EventNum','TrkStep','PName','Charge','X3','Y3','Z3','ChanNum','Time3','KE','Yield','Weight']\n",
    "    rdf = cast_columns(ROOT.RDataFrame(\"G4SimDir/mczip0\", file, branches))\n",
    "    data = rdf.AsNumpy(branches+['PName_cast'])\n",
    "    data['PName'] = data.pop('PName_cast')\n",
    "    data['Rsq'] = data['X3']**2+data['Y3']**2\n",
    "    data['R3'] = np.sqrt(data['Rsq'])\n",
    "    return data"
   ]
  },
  {
   "cell_type": "code",
   "execution_count": null,
   "metadata": {},
   "outputs": [],
   "source": [
    "files = { '0mm': 'data/CDMSlite_time/CDMSlite-10keV-R0mm_51231013_0000.root',\n",
    "          '5mm': 'data/CDMSlite_time/CDMSlite-10keV-R5mm_51231013_0000.root',\n",
    "          '10mm': 'data/CDMSlite_time/CDMSlite-10keV-R10mm_51231013_0000.root',\n",
    "          '15mm': 'data/CDMSlite_time/CDMSlite-10keV-R15mm_51231013_0000.root',\n",
    "          '20mm': 'data/CDMSlite_time/CDMSlite-10keV-R20mm_51231013_0000.root',\n",
    "          '25mm': 'data/CDMSlite_time/CDMSlite-10keV-R25mm_51231013_0000.root',\n",
    "          '30mm': 'data/CDMSlite_time/CDMSlite-10keV-R30mm_51231013_0000.root',\n",
    "        }"
   ]
  },
  {
   "cell_type": "code",
   "execution_count": null,
   "metadata": {},
   "outputs": [],
   "source": [
    "# Will want to get channel names from G4SettingsInfo/Geometry.ChanName list\n",
    "phChans = ['PA','PB','PC','PD']"
   ]
  },
  {
   "cell_type": "code",
   "execution_count": null,
   "metadata": {},
   "outputs": [],
   "source": [
    "def isPhonon(hits):\n",
    "    return ((hits['Charge']==0) & (hits['ChanNum']>=0))\n",
    "\n",
    "def timeSlice(hits,tmin,tmax):\n",
    "    \"\"\"Time range in us\"\"\"\n",
    "    return ((tmin*1e3<hits['Time3']) & (hits['Time3']<tmax*1e3))"
   ]
  },
  {
   "cell_type": "code",
   "execution_count": null,
   "metadata": {},
   "outputs": [],
   "source": [
    "def energyPlot(hits,label):\n",
    "    detectorLayout.draw(chaninfo)\n",
    "    plt.scatter(hits['X3'][isPhonon(hits)]*1e3, hits['Y3'][isPhonon(hits)]*1e3,\n",
    "                c=hits['Yield'][isPhonon(hits)], s=1)\n",
    "    plt.title(f\"CDMSlite 10 keV ER @ {label}, Phonon hits\")\n",
    "    plt.xlabel(\"[mm]\")\n",
    "    cax = plt.axes([0.91, 0.12, 0.025, 0.76])\n",
    "    bar = plt.colorbar(cax=cax)\n",
    "    bar.set_label(\"Energy absorbed [eV]\")\n",
    "    plt.savefig(f\"CDMSlite_R{label}-hits.png\")"
   ]
  },
  {
   "cell_type": "code",
   "execution_count": null,
   "metadata": {},
   "outputs": [],
   "source": [
    "def timePlot(hits,label,tmin,tmax):\n",
    "    detectorLayout.draw(chaninfo)\n",
    "    select = (timeSlice(hits,tmin,tmax) & isPhonon(hits))\n",
    "    x = hits['X3'][select]*1e3\n",
    "    y = hits['Y3'][select]*1e3\n",
    "    T = hits['Time3'][select]/1e3\n",
    "    plt.scatter(x,y,c=T,s=1)\n",
    "    plt.title(f\"CDMSlite 10 keV ER @ {label}, Phonon hit times\")\n",
    "    plt.xlabel(\"[mm]\")\n",
    "    cax = plt.axes([0.91, 0.12, 0.025, 0.76])\n",
    "    bar = plt.colorbar(cax=cax)\n",
    "    bar.set_label(\"Phonon Hit Time [us]\")\n",
    "    plt.savefig(f\"CDMSlite_R{label}-times.png\")"
   ]
  },
  {
   "cell_type": "code",
   "execution_count": null,
   "metadata": {},
   "outputs": [],
   "source": [
    "# Time range for slice should be in us\n",
    "def timeSlicePlot(hits,label,tmin,tmax):\n",
    "    select = (timeSlice(hits,tmin,tmax) & isPhonon(hits))\n",
    "    x = hits['X3'][select]*1e3\n",
    "    y = hits['Y3'][select]*1e3\n",
    "    E = hits['Yield'][select]*1e3\n",
    "    detectorLayout.draw(chaninfo)\n",
    "    plt.scatter(x,y,c=E,s=1,vmin=0.,vmax=10.)   # Fixed energy range in meV\n",
    "    plt.title(f\"CDMSlite 10 keV ER @ {label}, {tmax} us\")\n",
    "    plt.xlabel(\"[mm]\")\n",
    "    cax = plt.axes([0.91, 0.12, 0.025, 0.76])\n",
    "    bar = plt.colorbar(cax=cax)\n",
    "    bar.set_label(\"Energy absorbed [meV]\")\n",
    "    plotname = f\"CDMSlite_R{label}-slice{tmax}us.png\"\n",
    "    plt.savefig(plotname)\n",
    "    return plotname"
   ]
  },
  {
   "cell_type": "code",
   "execution_count": null,
   "metadata": {},
   "outputs": [],
   "source": [
    "# Scatterplot of hits vs. position in a time slice (us units)\n",
    "def timeSliceFrame(hits,label,**kwargs):\n",
    "    tmin = kwargs['tmin']\n",
    "    tmax = kwargs['tmax']\n",
    "    select = (timeSlice(hits,tmin,tmax) & isPhonon(hits))\n",
    "    x = hits['X3'][select]*1e3     # m to mm\n",
    "    y = hits['Y3'][select]*1e3     # m to mm\n",
    "    E = hits['Yield'][select]*1e3  # eV to meV\n",
    "    ### plt.scatter(x,y,c=E,s=1,vmin=0.,vmax=10.)   # Fixed energy range in meV\n",
    "    plt.title(f\"CDMSlite 10 keV ER @ {label}, {tmax} us\")\n",
    "    scat = plt.gca().collections\n",
    "    if len(scat)==0:\n",
    "        plt.scatter(x,y,c=E,s=1,vmin=0.,vmax=10.)   # Need to make first set of points\n",
    "    else:\n",
    "        scat[0].set_offsets(np.vstack([x,y]).transpose())\n",
    "    return plt.gcf()"
   ]
  },
  {
   "cell_type": "code",
   "execution_count": null,
   "metadata": {},
   "outputs": [],
   "source": [
    "# Histogram of energy vs. radius in time slice (us), for movie\n",
    "def energySliceFrame(hits,label,**kwargs):\n",
    "    tmin = kwargs['tmin']\n",
    "    tmax = kwargs['tmax']\n",
    "    select = (timeSlice(hits,tmin,tmax) & isPhonon(hits))\n",
    "    E = hits['Yield'][select]      # eV to meV\n",
    "    plt.hist(hits['R3'][select]*1e3,weights=E,bins=40,range=(0.,40.),log=False)\n",
    "    plt.title(f\"CDMSlite 10 keV ER @ (15,0,0), {tmax} us\")\n",
    "    plt.xlabel(\"Hit Radius [mm]\")\n",
    "    plt.ylabel(\"Energy Absorbed [eV]\")\n",
    "    return plt.gcf()"
   ]
  },
  {
   "cell_type": "code",
   "execution_count": null,
   "metadata": {},
   "outputs": [],
   "source": [
    "def energySliceVsR(hits,label,tmin,tmax):\n",
    "    energySliceFrame(hits,label,tmin=tmin,tmax=tmax)\n",
    "    plt.savefig(f\"CDMSlite-R{label}_Energy-{tmax}us.png\")"
   ]
  },
  {
   "cell_type": "code",
   "execution_count": null,
   "metadata": {},
   "outputs": [],
   "source": [
    "# Histogram of energy vs. radius in time slice (us), for movie\n",
    "def energyVsRsq(hits,label,**kwargs):\n",
    "    tmin = kwargs['tmin']\n",
    "    tmax = kwargs['tmax']\n",
    "    select = (timeSlice(hits,tmin,tmax) & isPhonon(hits))\n",
    "    E = hits['Yield'][select]      # eV to meV\n",
    "    plt.hist(hits['Rsq'][select]*1e6,weights=E,log=False)\n",
    "    plt.title(f\"CDMSlite 10 keV ER @ (15,0,0), {tmax} us\")\n",
    "    plt.xlabel(\"Hit Radius Squared [mm^2]\")\n",
    "    plt.ylabel(\"Energy Absorbed [eV]\")\n",
    "    plt.savefig(f\"CDMSlite-R{label}_EvsRsq-{tmax}us.png\")"
   ]
  },
  {
   "cell_type": "code",
   "execution_count": null,
   "metadata": {},
   "outputs": [],
   "source": [
    "hits = getPhononHits(files['15mm'])\n",
    "chaninfo = detectorLayout.loadGeometry(files['15mm'])"
   ]
  },
  {
   "cell_type": "code",
   "execution_count": null,
   "metadata": {},
   "outputs": [],
   "source": [
    "tzcut = ((hits['Time3']<500) & (hits['Charge']==0) & (hits['Z3']>0))\n",
    "plt.hist(hits['Time3'][tzcut]/1e3,weights=hits['Yield'][tzcut]*hits['Weight'][tzcut],bins=100,log=False)\n",
    "plt.title(\"CDMSlite 10 keV ER @ (15,0,0) Top Face\")\n",
    "plt.xlabel(\"Time [us]\")\n",
    "plt.ylabel(\"Phonon Energy / 1 us bin [eV]\")"
   ]
  },
  {
   "cell_type": "code",
   "execution_count": null,
   "metadata": {},
   "outputs": [],
   "source": [
    "tzcut = ((hits['Time3']<500) & (hits['Charge']==0) & (hits['Z3']<0))\n",
    "plt.hist(hits['Time3'][tzcut]/1e3,weights=hits['Yield'][tzcut]*hits['Weight'][tzcut],bins=100,log=False)\n",
    "plt.title(\"CDMSlite 10 keV ER @ (15,0,0) Bottom Face\")\n",
    "plt.xlabel(\"Time [us]\")\n",
    "plt.ylabel(\"Phonon Energy / 1 us bin [eV]\")"
   ]
  },
  {
   "cell_type": "code",
   "execution_count": null,
   "metadata": {},
   "outputs": [],
   "source": [
    "tzcut = ((hits['Time3']<2000) & (hits['Charge']==0) & (hits['Z3']<0))\n",
    "plt.hist(hits['Time3'][tzcut]/1e3,weights=hits['Yield'][tzcut]*hits['Weight'][tzcut],bins=100,log=True)\n",
    "plt.title(\"CDMSlite 10 keV ER @ (0,0,0) Bottom Face\")\n",
    "plt.xlabel(\"Time [us]\")\n",
    "plt.ylabel(\"Hit Times / 1 us bin [eV]\")"
   ]
  },
  {
   "cell_type": "code",
   "execution_count": null,
   "metadata": {},
   "outputs": [],
   "source": [
    "tzcut = ((hits['Time3']<2000) & (hits['Charge']==0) & (hits['Z3']<0))\n",
    "plt.scatter(hits['X3'][tzcut]*1e3,hits['Y3'][tzcut]*1e3)\n",
    "plt.title(\"CDMSlite 10 keV ER @ (0,0,0) Bottom Face\")"
   ]
  },
  {
   "cell_type": "code",
   "execution_count": null,
   "metadata": {},
   "outputs": [],
   "source": [
    "energyVsRsq(hits,'15mm',tmin=0,tmax=7000)"
   ]
  },
  {
   "cell_type": "code",
   "execution_count": null,
   "metadata": {},
   "outputs": [],
   "source": [
    "timeSlice(hits,'15mm',20,30)"
   ]
  },
  {
   "cell_type": "code",
   "execution_count": null,
   "metadata": {},
   "outputs": [],
   "source": [
    "def detonly():\n",
    "    detectorLayout.draw(chaninfo)\n",
    "    plt.xlabel(\"[mm]\")\n",
    "    cax = plt.axes([0.91, 0.12, 0.025, 0.76])\n",
    "    bar = plt.colorbar(cax=cax)\n",
    "    bar.set_label(\"Energy absorbed [meV]\")\n",
    "    return plt.gcf(),\n",
    "\n",
    "def hitFrame(i):\n",
    "    return timeSliceFrame(hits,'15mm',tmin=i*2,tmax=(i+1)*2),"
   ]
  },
  {
   "cell_type": "code",
   "execution_count": null,
   "metadata": {},
   "outputs": [],
   "source": [
    "detectorLayout.draw(chaninfo)\n",
    "nframes = 50\n",
    "###plt.subplots_adjust(top=1, bottom=0, left=0, right=1)\n",
    "anim = animation.FuncAnimation(plt.gcf(), hitFrame, frames=nframes,\n",
    "                               interval=500., repeat=True, repeat_delay=200., blit=True)\n",
    "anim.save('CDMSlite-15mm_movie.gif',writer=\"pillow\")"
   ]
  },
  {
   "cell_type": "code",
   "execution_count": null,
   "metadata": {},
   "outputs": [],
   "source": [
    "def EFrame(i):\n",
    "    return energySliceFrame(hits,'15mm',tmin=i*2,tmax=(i+1)*2),\n",
    "\n",
    "# Movie of energy absorption integrated around phi\n",
    "nframes = 20\n",
    "###plt.subplots_adjust(top=1, bottom=0, left=0, right=1)\n",
    "anim = animation.FuncAnimation(plt.gcf(), EFrame, frames=nframes,\n",
    "                               interval=500., repeat=True, repeat_delay=200., blit=True)\n",
    "anim.save('CDMSlite-15mm_EvsR.gif',writer=\"pillow\")"
   ]
  },
  {
   "cell_type": "code",
   "execution_count": null,
   "metadata": {},
   "outputs": [],
   "source": [
    "energySliceVsR(hits,'15mm',0,200)"
   ]
  },
  {
   "cell_type": "code",
   "execution_count": null,
   "metadata": {},
   "outputs": [],
   "source": []
  }
 ],
 "metadata": {
  "kernelspec": {
   "display_name": "Python 3 (ipykernel)",
   "language": "python",
   "name": "python3"
  },
  "language_info": {
   "codemirror_mode": {
    "name": "ipython",
    "version": 3
   },
   "file_extension": ".py",
   "mimetype": "text/x-python",
   "name": "python",
   "nbconvert_exporter": "python",
   "pygments_lexer": "ipython3",
   "version": "3.10.12"
  }
 },
 "nbformat": 4,
 "nbformat_minor": 4
}
