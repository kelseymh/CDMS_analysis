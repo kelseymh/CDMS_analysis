{
 "cells": [
  {
   "cell_type": "code",
   "execution_count": null,
   "id": "5c83f787-7c3b-44f1-ade5-b041165c5cbc",
   "metadata": {},
   "outputs": [],
   "source": [
    "from imports import *\n",
    "from ChannelShape import *\n",
    "import matplotlib.animation as animation\n",
    "%matplotlib inline"
   ]
  },
  {
   "cell_type": "code",
   "execution_count": null,
   "id": "c8a1f976-0724-4a7a-ae6f-04efde9639a9",
   "metadata": {},
   "outputs": [],
   "source": [
    "# Define channel shapes for CDMSlite detector\n",
    "# Done here manually rather than loading from a DMC file\n",
    "litechan = DetectorShape(\"CDMSlite1\")\n",
    "litechan.Add(ChannelShape(\"PA\",1,31.3,36.1,-pi,pi,+1.,0., 0., 29.60, 34.75))\n",
    "litechan.Add(ChannelShape(\"PB\",1,0.,31.3,radians(90.),radians(210.),+1., 0., 0., 0., 29.60))\n",
    "litechan.Add(ChannelShape(\"PC\",1,0.,31.3,radians(210.),radians(330.),+1., 0., 0., 0., 29.60))\n",
    "litechan.Add(ChannelShape(\"PD\",1,0.,31.3,radians(-30.),radians(90.),+1., 0., 0., 0., 29.60))\n",
    "litechan.Add(ChannelShape(\"Det\",None,0.,38.1,-pi,pi,+1., 0., 75.4888/2., 0., 72.1868/2.).addFlat(37.7444,radians(45.)))\n",
    "# NOTE: In CDMSZipInfo, X and Y flats are given by diameter, not radius"
   ]
  },
  {
   "cell_type": "code",
   "execution_count": null,
   "id": "fe2b0c54-097f-4a47-a2e0-08fbd9ce02c0",
   "metadata": {},
   "outputs": [],
   "source": [
    "# Draw detector outline, including flats\n",
    "def drawDet(detShape):\n",
    "    \"\"\"Use specified detector (DetectorShape class) to draw the outline of the\n",
    "       detector, for further annotation.\"\"\"\n",
    "    phi = np.arange(1000)*2.*pi/1000.\n",
    "    edge = [detShape.getPointAtPhi(f) for f in phi]\n",
    "    rlim = 1.1*detShape[\"Det\"].rmax\n",
    "    \n",
    "    plt.figure(figsize=(6,6))    # Units are inches\n",
    "    plt.plot(*zip(*edge))\n",
    "    plt.axis('square')"
   ]
  },
  {
   "cell_type": "code",
   "execution_count": null,
   "id": "3b579201-d6b2-4699-97c2-af357be1a6ff",
   "metadata": {},
   "outputs": [],
   "source": [
    "# Need some basic 2D vector operations\n",
    "def vlen(vec):\n",
    "    return sqrt(vec[0]**2+vec[1]**2)\n",
    "\n",
    "def vdot(v1,v2):\n",
    "    return (v1[0]*v2[0]+v1[1]*v2[1])\n",
    "\n",
    "def vsum(v1,v2):\n",
    "    return (v1[0]+v2[0], v1[1]+v2[1])\n",
    "\n",
    "def vdiff(v1,v2):\n",
    "    return (v1[0]-v2[0], v1[1]-v2[1])\n",
    "\n",
    "def vmult(vec, val):\n",
    "    return (val*vec[0],val*vec[1])"
   ]
  },
  {
   "cell_type": "code",
   "execution_count": null,
   "id": "01b00d15-5937-4b3e-a553-4c23631d1afc",
   "metadata": {},
   "outputs": [],
   "source": [
    "def reflectPoint(pos, center, detShape):\n",
    "    \"\"\"Use specified detector outline (DetectorShape class) to reflect a point\n",
    "       generated relative to some offset center (hit) from outside the detector\n",
    "       to inside.   NOTE: This function doesn't handle multiple reflections.\"\"\"\n",
    "    if (detShape.contains(pos)): return pos     # No action if inside\n",
    "        \n",
    "    fromPos = vdiff(center, pos)\n",
    "    edge = detShape.getPointOnEdge(center, fromPos)   # Intersection\n",
    "    norm = detShape.getOutwardNormal(edge)            # Unit vector\n",
    "    fromEdge = vdiff(pos, edge)\n",
    "    reflEdge = vsum(fromEdge, vmult(norm, -2*vdot(fromEdge,norm)))\n",
    "\n",
    "    return vsum(edge, reflEdge)"
   ]
  },
  {
   "cell_type": "code",
   "execution_count": null,
   "id": "668e93de-7bfd-4627-8c12-0c7b22a79f5f",
   "metadata": {},
   "outputs": [],
   "source": [
    "def genGauss(x, scale=1, alpha=1, beta=2, mu=0):\n",
    "    \"\"\"Generalized Gaussian function of one variable (e.g., radius)\"\"\"\n",
    "    return np.exp(-(abs(x-mu)/alpha)**beta)\n",
    "\n",
    "def foldedGauss(detShape, center, radius, **kwargs):\n",
    "    \"\"\"Pass detector outline, with center and radius of Gaussian disk.\n",
    "       Additional arguments alpha, beta are for the generalized Gaussian.\n",
    "       Returns a mesh grid of folded x,y points and the Gaussian value at\n",
    "       each point, suitable for plotting.\"\"\"\n",
    "\n",
    "    # Create a mesh in polar coordinates around center\n",
    "    r = np.linspace(0., radius, 50)\n",
    "    p = np.linspace(0., 2*np.pi, 1000)\n",
    "    R,P = np.meshgrid(r,p)\n",
    "    Z = genGauss(R, alpha=alpha, beta=beta)    # Simpler than genGauss2D \n",
    "\n",
    "    # Convert the mesh to Cartesian with offset for drawing\n",
    "    X,Y = R*np.cos(P)+center[0], R*np.sin(P)+center[1]\n",
    "\n",
    "    # Process all the Cartesian points through the folding\n",
    "    foldX,foldY = np.zeros_like(X),np.zeros_like(Y)\n",
    "    for i in np.ndindex(X.shape):\n",
    "        foldX[i],foldY[i] = reflectPoint((X[i],Y[i]),center,detShape)\n",
    "\n",
    "    return foldX,foldY,Z"
   ]
  },
  {
   "cell_type": "code",
   "execution_count": null,
   "id": "47ccaf81-34b4-42d5-b4ba-b99acc814212",
   "metadata": {},
   "outputs": [],
   "source": [
    "hit = (15,15)\n",
    "radius = 25\n",
    "\n",
    "alpha = 3.5\n",
    "beta = 0.8\n",
    "\n",
    "r = np.linspace(0., radius, 50)\n",
    "p = np.linspace(0., 2*np.pi, 1000)\n",
    "R,P = np.meshgrid(r,p)\n",
    "Z = genGauss(R, alpha=alpha, beta=beta)    # Simpler than genGauss2D \n",
    "X,Y = R*np.cos(P)+hit[0], R*np.sin(P)+hit[1]"
   ]
  },
  {
   "cell_type": "code",
   "execution_count": null,
   "id": "dcd1d6ad-6e29-4875-9b1b-c3cdaf0b57c8",
   "metadata": {},
   "outputs": [],
   "source": [
    "flatX = X.flatten()\n",
    "flatY = Y.flatten()\n",
    "flatZ = Z.flatten()"
   ]
  },
  {
   "cell_type": "code",
   "execution_count": null,
   "id": "1e22802e-96fc-44a2-a34b-10d38f1023d1",
   "metadata": {},
   "outputs": [],
   "source": [
    "drawDet(litechan)\n",
    "plt.scatter(flatX,flatY,c=flatZ, cmap=plt.cm.plasma, alpha=0.05, s=9)"
   ]
  },
  {
   "cell_type": "code",
   "execution_count": null,
   "id": "a326fccf-e5bc-4c0b-8ca2-1a8cd28e0b39",
   "metadata": {},
   "outputs": [],
   "source": [
    "def foldedGaussFrame(detShape, hit, radius):\n",
    "    \"\"\"Make plot of generalized Gaussian disk in color scale at given\n",
    "       position, radius.  Uses detector shape to reflect disk at detector\n",
    "       boundary.  Called from animation frame updater function gaussAtX(i).\"\"\"\n",
    "    alpha=3.5\n",
    "    beta=0.8\n",
    "    gx,gy,gz = foldedGauss(detShape, hit, radius, alpha=alpha, beta=beta)\n",
    "\n",
    "    # Animation code works best with 1D lists, so unroll the np.meshgrid()s\n",
    "    # generated by foldedGauss (see above)\n",
    "    flatX = gx.flatten()\n",
    "    flatY = gy.flatten()\n",
    "    flatZ = gz.flatten()\n",
    "\n",
    "    # Color map normalization to apply to Z in every frame\n",
    "    cmap = matplotlib.cm.plasma\n",
    "    norm = matplotlib.colors.Normalize(vmin=0., vmax=1.)\n",
    "\n",
    "    # Magic code to do animation.  Don't know why plt.scatter only called once\n",
    "    scat = plt.gca().collections\n",
    "    if len(scat)==0:\n",
    "        plt.scatter(flatX,flatY,c=norm(flatZ),s=9,cmap=cmap, alpha=0.05)\n",
    "    else:\n",
    "        scat[0].set_offsets(np.vstack([flatX,flatY]).transpose())\n",
    "        scat[0].set_color(cmap(norm(flatZ)))\n",
    "        \n",
    "    return plt.gcf()"
   ]
  },
  {
   "cell_type": "code",
   "execution_count": null,
   "id": "3d48cbe0-c9db-48db-8a39-e50411943fff",
   "metadata": {},
   "outputs": [],
   "source": [
    "# This animation is based on an answer from StackOverflow:\n",
    "# https://stackoverflow.com/questions/51017398/how-do-you-add-a-colormap-to-a-matplotlib-animation\n",
    "\n",
    "def gaussAtX(i):\n",
    "    \"\"\"Frame updater, called by animation() with only frame index.  Hit position\n",
    "       is computed in 2 mm steps from center along 45 degrees.\"\"\"\n",
    "    hit = (i*2.,0.)\n",
    "    radius = 25.\n",
    "    return foldedGaussFrame(litechan, hit, radius),\n",
    "    \n",
    "drawDet(litechan)\n",
    "nframes = 18       # Will do 2 mm steps of Gaussian disk along X axis\n",
    "###plt.subplots_adjust(top=1, bottom=0, left=0, right=1)\n",
    "anim = animation.FuncAnimation(plt.gcf(), gaussAtX, frames=nframes,\n",
    "                               interval=500., repeat=True, repeat_delay=200., blit=True)\n",
    "anim.save('reflectedGaussian_movie.gif',writer=\"pillow\")"
   ]
  },
  {
   "cell_type": "code",
   "execution_count": null,
   "id": "d89db727-266d-4e3c-930b-d7f4029e28a7",
   "metadata": {},
   "outputs": [],
   "source": []
  }
 ],
 "metadata": {
  "kernelspec": {
   "display_name": "Python 3 (ipykernel)",
   "language": "python",
   "name": "python3"
  },
  "language_info": {
   "codemirror_mode": {
    "name": "ipython",
    "version": 3
   },
   "file_extension": ".py",
   "mimetype": "text/x-python",
   "name": "python",
   "nbconvert_exporter": "python",
   "pygments_lexer": "ipython3",
   "version": "3.10.12"
  }
 },
 "nbformat": 4,
 "nbformat_minor": 5
}
