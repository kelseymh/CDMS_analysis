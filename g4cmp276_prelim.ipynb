{
 "cells": [
  {
   "cell_type": "code",
   "execution_count": 1,
   "id": "081b9365-4596-42da-9cf0-659f671a00ad",
   "metadata": {},
   "outputs": [
    {
     "name": "stdout",
     "output_type": "stream",
     "text": [
      "Welcome to JupyROOT 6.28/10\n"
     ]
    }
   ],
   "source": [
    "from imports import *\n",
    "import phonon_eff\n",
    "%matplotlib inline"
   ]
  },
  {
   "cell_type": "code",
   "execution_count": 2,
   "id": "b0455bb2-7fbd-4996-9915-d8d1f7b88b1b",
   "metadata": {},
   "outputs": [],
   "source": [
    "# DMC files generated using G4CMP-276 feature branch"
   ]
  },
  {
   "cell_type": "code",
   "execution_count": 6,
   "id": "1f2a9e08-58af-4377-946a-e381c529d512",
   "metadata": {},
   "outputs": [],
   "source": [
    "snoGe71   = 'data/G4CMP276_final/SNOLAB/Ge71-SNOLAB-G4CMP276_24240707_000000.root'\n",
    "sno10keV  = 'data/G4CMP276_final/SNOLAB/10keV-SNOLAB-G4CMP276_24240709_000000.root'\n",
    "izipGe71  = 'data/G4CMP276_final/SNOLAB/Ge71-iZIP7-G4CMP276_51240713_000000.root'\n",
    "izipMulti = 'data/G4CMP276_final/SNOLAB/multihit-iZIP7-G4CMP276_51240714_000000.root'\n",
    "izipMult0 = 'data/G4CMP276_final/SNOLAB/multiCenter-iZIP7-G4CMP276_51240715_000000.root'"
   ]
  },
  {
   "cell_type": "code",
   "execution_count": 8,
   "id": "eb627beb-0a2e-4082-aedd-8fad9f7d6515",
   "metadata": {},
   "outputs": [
    {
     "ename": "runtime_error",
     "evalue": "vector<string> ROOT::RDF::RInterfaceBase::GetColumnNames() =>\n    runtime_error: GetBranchNames: error in opening the tree G4SettingsInfoDir/Geometry",
     "output_type": "error",
     "traceback": [
      "\u001b[0;31m---------------------------------------------------------------------------\u001b[0m",
      "\u001b[0;31mruntime_error\u001b[0m                             Traceback (most recent call last)",
      "Cell \u001b[0;32mIn[8], line 3\u001b[0m\n\u001b[1;32m      1\u001b[0m title   \u001b[38;5;241m=\u001b[39m \u001b[38;5;124m\"\u001b[39m\u001b[38;5;124mSNOLAB detectors, Ge-71 SimFiducial\u001b[39m\u001b[38;5;124m\"\u001b[39m\n\u001b[1;32m      2\u001b[0m figfile \u001b[38;5;241m=\u001b[39m \u001b[38;5;124m\"\u001b[39m\u001b[38;5;124mSNOLAB-simfid-Ge71_G4CMP276.png\u001b[39m\u001b[38;5;124m\"\u001b[39m\n\u001b[0;32m----> 3\u001b[0m \u001b[43mphonon_eff\u001b[49m\u001b[38;5;241;43m.\u001b[39;49m\u001b[43mmapEfficiency\u001b[49m\u001b[43m(\u001b[49m\u001b[43msnoGe71\u001b[49m\u001b[43m,\u001b[49m\u001b[43m \u001b[49m\u001b[43mtitle\u001b[49m\u001b[43m,\u001b[49m\u001b[43m \u001b[49m\u001b[43mfigfile\u001b[49m\u001b[43m,\u001b[49m\u001b[43m \u001b[49m\u001b[43mizipcut\u001b[49m\u001b[38;5;241;43m=\u001b[39;49m\u001b[38;5;241;43m1.1\u001b[39;49m\u001b[43m,\u001b[49m\u001b[43mhvcut\u001b[49m\u001b[38;5;241;43m=\u001b[39;49m\u001b[38;5;241;43m1.1\u001b[39;49m\u001b[43m)\u001b[49m\n",
      "File \u001b[0;32m/scratch/user/kelsey/jupyter/phonon_eff.py:130\u001b[0m, in \u001b[0;36mmapEfficiency\u001b[0;34m(files, title, figfile, izipcut, hvcut)\u001b[0m\n\u001b[1;32m    125\u001b[0m \u001b[38;5;28;01mdef\u001b[39;00m \u001b[38;5;21mmapEfficiency\u001b[39m(files, title\u001b[38;5;241m=\u001b[39m\u001b[38;5;124m\"\u001b[39m\u001b[38;5;124mSNOLAB SimFiducial Regions\u001b[39m\u001b[38;5;124m\"\u001b[39m, figfile\u001b[38;5;241m=\u001b[39m\u001b[38;5;28;01mNone\u001b[39;00m,\n\u001b[1;32m    126\u001b[0m                   izipcut\u001b[38;5;241m=\u001b[39m\u001b[38;5;241m0.99\u001b[39m, hvcut\u001b[38;5;241m=\u001b[39m\u001b[38;5;241m0.99\u001b[39m):\n\u001b[1;32m    127\u001b[0m \u001b[38;5;250m    \u001b[39m\u001b[38;5;124;03m\"\"\"Generate set of four R-Z heatmaps showing the bad efficiency region\u001b[39;00m\n\u001b[1;32m    128\u001b[0m \u001b[38;5;124;03m       for each SNOLAB detector type.  The HV100mm's are cut below 98%,\u001b[39;00m\n\u001b[1;32m    129\u001b[0m \u001b[38;5;124;03m       while the iZIP's are cut below 88% to understand the strange loss.\"\"\"\u001b[39;00m\n\u001b[0;32m--> 130\u001b[0m     geom,events,hits \u001b[38;5;241m=\u001b[39m \u001b[43mload\u001b[49m\u001b[43m(\u001b[49m\u001b[43mfiles\u001b[49m\u001b[43m)\u001b[49m\n\u001b[1;32m    132\u001b[0m     detCode \u001b[38;5;241m=\u001b[39m {\u001b[38;5;124m\"\u001b[39m\u001b[38;5;124miZIP7\u001b[39m\u001b[38;5;124m\"\u001b[39m:\u001b[38;5;241m700\u001b[39m, \u001b[38;5;124m\"\u001b[39m\u001b[38;5;124miZIP7Si\u001b[39m\u001b[38;5;124m\"\u001b[39m:\u001b[38;5;241m701\u001b[39m, \u001b[38;5;124m\"\u001b[39m\u001b[38;5;124mHV100mm\u001b[39m\u001b[38;5;124m\"\u001b[39m:\u001b[38;5;241m710\u001b[39m, \u001b[38;5;124m\"\u001b[39m\u001b[38;5;124mHV100mmSi\u001b[39m\u001b[38;5;124m\"\u001b[39m:\u001b[38;5;241m711\u001b[39m}\n\u001b[1;32m    134\u001b[0m     fig, ax \u001b[38;5;241m=\u001b[39m plt\u001b[38;5;241m.\u001b[39msubplots(\u001b[38;5;241m2\u001b[39m,\u001b[38;5;241m2\u001b[39m,figsize\u001b[38;5;241m=\u001b[39m(\u001b[38;5;241m9\u001b[39m,\u001b[38;5;241m6\u001b[39m), dpi\u001b[38;5;241m=\u001b[39m\u001b[38;5;241m300\u001b[39m)\n",
      "File \u001b[0;32m/scratch/user/kelsey/jupyter/phonon_eff.py:20\u001b[0m, in \u001b[0;36mload\u001b[0;34m(files)\u001b[0m\n\u001b[1;32m     17\u001b[0m \u001b[38;5;250m\u001b[39m\u001b[38;5;124;03m\"\"\"Loads geometry, events, and hits from specified file or group of files.\u001b[39;00m\n\u001b[1;32m     18\u001b[0m \u001b[38;5;124;03m   Returns three Numpy dictionaries (i.e., RDF.AsNumpy()).\"\"\"\u001b[39;00m\n\u001b[1;32m     19\u001b[0m geomBranches \u001b[38;5;241m=\u001b[39m [\u001b[38;5;124m'\u001b[39m\u001b[38;5;124mDetNum\u001b[39m\u001b[38;5;124m'\u001b[39m,\u001b[38;5;124m'\u001b[39m\u001b[38;5;124mDetType\u001b[39m\u001b[38;5;124m'\u001b[39m,\u001b[38;5;124m'\u001b[39m\u001b[38;5;124mCrystal\u001b[39m\u001b[38;5;124m'\u001b[39m,\u001b[38;5;124m'\u001b[39m\u001b[38;5;124mVoltage\u001b[39m\u001b[38;5;124m'\u001b[39m]\n\u001b[0;32m---> 20\u001b[0m geom \u001b[38;5;241m=\u001b[39m \u001b[43mCDataFrame\u001b[49m\u001b[43m(\u001b[49m\u001b[38;5;124;43m\"\u001b[39;49m\u001b[38;5;124;43mG4SettingsInfoDir/Geometry\u001b[39;49m\u001b[38;5;124;43m\"\u001b[39;49m\u001b[43m,\u001b[49m\u001b[43m \u001b[49m\u001b[43mfiles\u001b[49m\u001b[43m)\u001b[49m\u001b[38;5;241m.\u001b[39mAsNumpy(geomBranches)\n\u001b[1;32m     22\u001b[0m evBranches \u001b[38;5;241m=\u001b[39m [\u001b[38;5;124m'\u001b[39m\u001b[38;5;124mEventNum\u001b[39m\u001b[38;5;124m'\u001b[39m,\u001b[38;5;124m'\u001b[39m\u001b[38;5;124mDetNum\u001b[39m\u001b[38;5;124m'\u001b[39m,\u001b[38;5;124m'\u001b[39m\u001b[38;5;124mDetType\u001b[39m\u001b[38;5;124m'\u001b[39m,\u001b[38;5;124m'\u001b[39m\u001b[38;5;124mPhononE\u001b[39m\u001b[38;5;124m'\u001b[39m]\n\u001b[1;32m     23\u001b[0m events \u001b[38;5;241m=\u001b[39m CDataFrame(\u001b[38;5;124m\"\u001b[39m\u001b[38;5;124mG4SimDir/g4dmcEvent\u001b[39m\u001b[38;5;124m\"\u001b[39m, files)\u001b[38;5;241m.\u001b[39mFilter(\u001b[38;5;124m\"\u001b[39m\u001b[38;5;124m!Empty\u001b[39m\u001b[38;5;124m\"\u001b[39m)\u001b[38;5;241m.\u001b[39mAsNumpy(evBranches)\n",
      "File \u001b[0;32m/usr/local/lib/python3.10/dist-packages/cats/cdataframe/__init__.py:176\u001b[0m, in \u001b[0;36mCDataFrame\u001b[0;34m(tree_name, tree_source, friends, *args, **kwargs)\u001b[0m\n\u001b[1;32m    173\u001b[0m     \u001b[38;5;28;01mreturn\u001b[39;00m chain\n\u001b[1;32m    175\u001b[0m friends \u001b[38;5;241m=\u001b[39m prepare_friends(friends)\n\u001b[0;32m--> 176\u001b[0m chain   \u001b[38;5;241m=\u001b[39m \u001b[43mmake_TChain\u001b[49m\u001b[43m(\u001b[49m\u001b[43mtree_name\u001b[49m\u001b[43m,\u001b[49m\u001b[43m \u001b[49m\u001b[43mtree_source\u001b[49m\u001b[43m,\u001b[49m\u001b[43m \u001b[49m\u001b[43mfriends\u001b[49m\u001b[43m)\u001b[49m\n\u001b[1;32m    177\u001b[0m \u001b[38;5;28;01mreturn\u001b[39;00m _to_CDataFrame(RDataFrame(chain, \u001b[38;5;241m*\u001b[39margs, \u001b[38;5;241m*\u001b[39m\u001b[38;5;241m*\u001b[39mkwargs), chain, friends, \u001b[38;5;28mset\u001b[39m(), \u001b[38;5;28mset\u001b[39m())\n",
      "File \u001b[0;32m/usr/local/lib/python3.10/dist-packages/cats/cdataframe/__init__.py:158\u001b[0m, in \u001b[0;36mCDataFrame.<locals>.make_TChain\u001b[0;34m(tree_name, tree_source, friends)\u001b[0m\n\u001b[1;32m    155\u001b[0m \u001b[38;5;28;01melse\u001b[39;00m:\n\u001b[1;32m    156\u001b[0m     \u001b[38;5;66;03m# Assume source is one or more filepaths\u001b[39;00m\n\u001b[1;32m    157\u001b[0m     tree_paths \u001b[38;5;241m=\u001b[39m [tree_source] \u001b[38;5;28;01mif\u001b[39;00m \u001b[38;5;28mtype\u001b[39m(tree_source) \u001b[38;5;129;01mis\u001b[39;00m \u001b[38;5;28mstr\u001b[39m \u001b[38;5;28;01melse\u001b[39;00m \u001b[38;5;28mlist\u001b[39m(tree_source)\n\u001b[0;32m--> 158\u001b[0m     cols       \u001b[38;5;241m=\u001b[39m \u001b[43mread_colnames\u001b[49m\u001b[43m(\u001b[49m\u001b[38;5;124;43mf\u001b[39;49m\u001b[38;5;124;43m\"\u001b[39;49m\u001b[38;5;132;43;01m{\u001b[39;49;00m\u001b[43mtree_paths\u001b[49m\u001b[43m[\u001b[49m\u001b[38;5;241;43m0\u001b[39;49m\u001b[43m]\u001b[49m\u001b[38;5;132;43;01m}\u001b[39;49;00m\u001b[38;5;124;43m:\u001b[39;49m\u001b[38;5;132;43;01m{\u001b[39;49;00m\u001b[43mtree_name\u001b[49m\u001b[38;5;132;43;01m}\u001b[39;49;00m\u001b[38;5;124;43m\"\u001b[39;49m\u001b[43m)\u001b[49m\n\u001b[1;32m    159\u001b[0m     warn_cols  \u001b[38;5;241m=\u001b[39m \u001b[38;5;28mset\u001b[39m() \u001b[38;5;66;03m# Columns appearing in some trees but not others\u001b[39;00m\n\u001b[1;32m    161\u001b[0m     \u001b[38;5;28;01mtry\u001b[39;00m:\n",
      "File \u001b[0;32m/usr/local/lib/python3.10/dist-packages/cats/cdataframe/__init__.py:112\u001b[0m, in \u001b[0;36mCDataFrame.<locals>.read_colnames\u001b[0;34m(treepath)\u001b[0m\n\u001b[1;32m    110\u001b[0m \u001b[38;5;28;01mdef\u001b[39;00m \u001b[38;5;21mread_colnames\u001b[39m(treepath):\n\u001b[1;32m    111\u001b[0m \u001b[38;5;250m    \u001b[39m\u001b[38;5;124;03m\"\"\"Open a TTree identified by \"path:treename\" and return a set of its column names.\"\"\"\u001b[39;00m\n\u001b[0;32m--> 112\u001b[0m     \u001b[38;5;28;01mreturn\u001b[39;00m \u001b[38;5;28mset\u001b[39m(\u001b[38;5;28mmap\u001b[39m(\u001b[38;5;28mstr\u001b[39m, \u001b[43mRDataFrame\u001b[49m\u001b[43m(\u001b[49m\u001b[38;5;241;43m*\u001b[39;49m\u001b[38;5;28;43mreversed\u001b[39;49m\u001b[43m(\u001b[49m\u001b[43mtreepath\u001b[49m\u001b[38;5;241;43m.\u001b[39;49m\u001b[43msplit\u001b[49m\u001b[43m(\u001b[49m\u001b[38;5;124;43m'\u001b[39;49m\u001b[38;5;124;43m:\u001b[39;49m\u001b[38;5;124;43m'\u001b[39;49m\u001b[43m)\u001b[49m\u001b[43m)\u001b[49m\u001b[43m)\u001b[49m\u001b[38;5;241;43m.\u001b[39;49m\u001b[43mGetColumnNames\u001b[49m\u001b[43m(\u001b[49m\u001b[43m)\u001b[49m))\n",
      "\u001b[0;31mruntime_error\u001b[0m: vector<string> ROOT::RDF::RInterfaceBase::GetColumnNames() =>\n    runtime_error: GetBranchNames: error in opening the tree G4SettingsInfoDir/Geometry"
     ]
    },
    {
     "name": "stderr",
     "output_type": "stream",
     "text": [
      "Warning in <TFile::Init>: file data/G4CMP276_final/SNOLAB/Ge71-SNOLAB-G4CMP276_24240707_000000.root probably not closed, trying to recover\n",
      "Info in <TFile::Recover>: data/G4CMP276_final/SNOLAB/Ge71-SNOLAB-G4CMP276_24240707_000000.root, recovered key TDirectoryFile:G4SimDir at address 278\n",
      "Info in <TFile::Recover>: data/G4CMP276_final/SNOLAB/Ge71-SNOLAB-G4CMP276_24240707_000000.root, recovered key TDirectoryFile:G4SettingsInfoDir at address 393\n",
      "Warning in <TFile::Init>: successfully recovered 2 keys\n",
      "Warning in <TFile::Init>: no StreamerInfo found in data/G4CMP276_final/SNOLAB/Ge71-SNOLAB-G4CMP276_24240707_000000.root therefore preventing schema evolution when reading this file. The file was produced with version 6.28/12 of ROOT.\n",
      "Error in <TChain::LoadTree>: Cannot find tree with name G4SettingsInfoDir/Geometry in file data/G4CMP276_final/SNOLAB/Ge71-SNOLAB-G4CMP276_24240707_000000.root\n"
     ]
    }
   ],
   "source": [
    "title   = \"SNOLAB detectors, Ge-71 SimFiducial\"\n",
    "figfile = \"SNOLAB-simfid-Ge71_G4CMP276.png\"\n",
    "phonon_eff.mapEfficiency(snoGe71, title, figfile, izipcut=1.1,hvcut=1.1)"
   ]
  },
  {
   "cell_type": "code",
   "execution_count": null,
   "id": "dbd4c462-9daa-49ee-9061-825636db33b1",
   "metadata": {},
   "outputs": [],
   "source": [
    "title = \"SNOLAB detectors, Ge-71 contaminant events\"\n",
    "figfile = \"SNOLAB-eff-stack_G4CMP276.png\"\n",
    "phonon_eff.stackEfficiency(snoGe71, title, figfile)\n",
    "plt.gca().set_xlim(0.8,1.1)"
   ]
  },
  {
   "cell_type": "code",
   "execution_count": null,
   "id": "644aa8a6-fb41-426d-9fa0-1bd1bb908ee0",
   "metadata": {},
   "outputs": [],
   "source": [
    "title   = \"iZIP7 detector, 0.1-10 keV multiple DMCER at (0,0,0)\"\n",
    "figfile = \"iZIP7-eff-multiCenter_G4CMP276.png\"\n",
    "phonon_eff.plotEfficiency(izipMult0, title, figfile)"
   ]
  },
  {
   "cell_type": "code",
   "execution_count": null,
   "id": "a7d37cd6-cdf6-4c94-beb7-f64d87b8230b",
   "metadata": {},
   "outputs": [],
   "source": [
    "title   = \"iZIP7 detector, 0.1-10 keV multiple DMCER events\"\n",
    "figfile = \"iZIP7-eff-multi_G4CMP276.png\"\n",
    "phonon_eff.plotEfficiency(izipMulti, title, figfile)"
   ]
  },
  {
   "cell_type": "code",
   "execution_count": null,
   "id": "6da010f9-7e11-4285-b214-db26c942427e",
   "metadata": {},
   "outputs": [],
   "source": [
    "title   = \"iZIP7 SimFiducial, 0.1-10 keV multiple DMCER\"\n",
    "figfile = \"iZIP7-simfid_G4CMP276.png\"\n",
    "phonon_eff.mapEfficiency(izipMulti, title, figfile, izipcut=1.1, hvcut=1.1)"
   ]
  },
  {
   "cell_type": "code",
   "execution_count": null,
   "id": "974055b8-0a49-4673-9511-dac5469fca91",
   "metadata": {},
   "outputs": [],
   "source": [
    "title = \"SNOLAB detectors, 10 keV DMCER events\"\n",
    "figfile = \"SNOLAB-eff-10keV_G4CMP276.png\"\n",
    "phonon_eff.plotEfficiency(sno10keV, title, figfile)"
   ]
  },
  {
   "cell_type": "code",
   "execution_count": null,
   "id": "66817656-3df7-4fbb-9e3a-9bca6d52f7cb",
   "metadata": {},
   "outputs": [],
   "source": [
    "title = \"SNOLAB detectors, 10 keV DMCER events\"\n",
    "figfile = \"SNOLAB-stack-10keV_G4CMP276.png\"\n",
    "phonon_eff.stackEfficiency(sno10keV, title, figfile)\n",
    "plt.gca().set_xlim(0.95,1.05)"
   ]
  },
  {
   "cell_type": "code",
   "execution_count": null,
   "id": "35aff538-6bab-47b8-9e47-ce50c682be8d",
   "metadata": {},
   "outputs": [],
   "source": [
    "title   = \"SNOLAB detectors, SimFiducial\"\n",
    "figfile = \"SNOLAB-simfid_G4CMP276.png\"\n",
    "phonon_eff.mapEfficiency(sno10keV, title, figfile, izipcut=1.1, hvcut=1.1)"
   ]
  },
  {
   "cell_type": "code",
   "execution_count": null,
   "id": "d8172709-1041-4960-b31f-faebaf6258ab",
   "metadata": {},
   "outputs": [],
   "source": [
    "title = \"Single iZIP7 detector, Ge-71 contaminant events\"\n",
    "figfile = \"iZIP7-Ge71-eff_G4CMP276.png\"\n",
    "phonon_eff.plotEfficiency(izipGe71, figfile, figfile)"
   ]
  },
  {
   "cell_type": "code",
   "execution_count": null,
   "id": "68b0621b-f9a5-4723-8551-76d5b4b8edb5",
   "metadata": {},
   "outputs": [],
   "source": [
    "title = \"SNOLAB iZIP7 detectors, Ge-71 contaminant events\"\n",
    "figfile = \"SNOLAB-eff-iZIP7_G4CMP276.png\"\n",
    "phonon_eff.plotEfficiency(snoGe71, title, figfile, detType=700)"
   ]
  }
 ],
 "metadata": {
  "kernelspec": {
   "display_name": "Python 3 (ipykernel)",
   "language": "python",
   "name": "python3"
  },
  "language_info": {
   "codemirror_mode": {
    "name": "ipython",
    "version": 3
   },
   "file_extension": ".py",
   "mimetype": "text/x-python",
   "name": "python",
   "nbconvert_exporter": "python",
   "pygments_lexer": "ipython3",
   "version": "3.10.12"
  }
 },
 "nbformat": 4,
 "nbformat_minor": 5
}
