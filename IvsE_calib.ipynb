{
 "cells": [
  {
   "cell_type": "code",
   "execution_count": 1,
   "id": "46189d6a-5f47-4517-a114-3180ee18f349",
   "metadata": {},
   "outputs": [
    {
     "name": "stdout",
     "output_type": "stream",
     "text": [
      "Welcome to JupyROOT 6.28/10\n"
     ]
    }
   ],
   "source": [
    "from imports import *\n",
    "import traces_rdf\n",
    "%matplotlib inline"
   ]
  },
  {
   "cell_type": "code",
   "execution_count": 2,
   "id": "4b4fc967-9e9a-4fb0-8bb1-7ad28288c2d3",
   "metadata": {},
   "outputs": [],
   "source": [
    "saveout = None\n",
    "redir = None\n",
    "def pipeout(filename=None):\n",
    "    \"\"\"Emulate '>>' redirection by changing sys.stdout to write to 'filename'.\n",
    "       If 'filename' is empty, closes the output and restores stdout.\"\"\"\n",
    "    global saveout\n",
    "    global redir\n",
    "    if (filename is None and saveout):\n",
    "        redir.close()\n",
    "        sys.stdout = saveout\n",
    "        return\n",
    "    saveout = sys.stdout\n",
    "    redir = open(filename, \"w\")\n",
    "    sys.stdout = redir"
   ]
  },
  {
   "cell_type": "code",
   "execution_count": 3,
   "id": "bec3877a-7656-419e-ac35-a448bd2b515f",
   "metadata": {},
   "outputs": [],
   "source": [
    "# Dictionaries of information for the three detectors; 1 keV phonon-only (DMCNR bulk)\n",
    "lite1 = {\"File\":'data/TES_scaling/TES-slowOnly-CDMSlite1-1keV_51240713_0000.root'}\n",
    "lite2 = {\"File\":'data/TES_scaling/TES-slowOnly-CDMSlite2-1keV_51240713_0000.root'}\n",
    "izip5 = {\"File\":'data/TES_scaling/TES-slowOnly-iZIP5-1keV_51240713_0000.root'}\n",
    "\n",
    "lite1 = {\"File\":'data/TES_scaling/TES-slowCenter-CDMSlite1-1keV_51240713_0000.root'}\n",
    "lite2 = {\"File\":'data/TES_scaling/TES-slowCenter-CDMSlite2-1keV_51240713_0000.root'}\n",
    "izip5 = {\"File\":'data/TES_scaling/TES-slowCenter-iZIP5-1keV_51240713_0000.root'}"
   ]
  },
  {
   "cell_type": "code",
   "execution_count": 4,
   "id": "d91d2c51-6cf9-415a-9a36-76ddc4be7836",
   "metadata": {},
   "outputs": [],
   "source": [
    "# Templates for each of the three Soudan runs\n",
    "batsconf = os.environ[\"CDMSBATS_CONFIG\"]\n",
    "templates = os.path.join(batsconf,\"PulseTemplates\",\"files\")\n",
    "\n",
    "lite1[\"Template\"] = {\"File\":os.path.join(templates,\"Z14_Templates_R134.root\"),\n",
    "                     \"Hist\":\"zip14_cdmsliteI_pos/PT\"}\n",
    "\n",
    "lite2[\"Template\"] = {\"File\":os.path.join(templates,\"Z4_Templates_R135.root\"),\n",
    "                     \"Hist\":\"zip4_cdmsliteI_pos/PT\"}\n",
    "\n",
    "izip5[\"Template\"] = {\"File\":os.path.join(templates,\"Z4_Templates_R133.root\"),\n",
    "                     \"Hist\":\"zip4_pos/PT\"}"
   ]
  },
  {
   "cell_type": "code",
   "execution_count": 5,
   "id": "c6cfd772-e55d-47f3-b2bf-e360a5e646cd",
   "metadata": {},
   "outputs": [],
   "source": [
    "def getTemplate(templset):\n",
    "    \"\"\"Extract template bin values from TH1D in CDMSbats file.\"\"\"\n",
    "    troot = ROOT.TFile(templset[\"File\"])\n",
    "    thist = troot.Get(templset[\"Hist\"])     # This is TH1D\n",
    "    return np.asarray([thist.GetBinContent(i) for i in range(1,thist.GetNbinsX()+1)])"
   ]
  },
  {
   "cell_type": "code",
   "execution_count": 6,
   "id": "86664ea2-a18e-43bc-a53f-fba45f87e014",
   "metadata": {},
   "outputs": [],
   "source": [
    "def getChannel(dataset, ch, event=0):\n",
    "    \"\"\"Extract single channel trace from dataset, with computed quantities.\"\"\"\n",
    "    ich = list(dataset[\"Channels\"]).index(ch)    # getTES uses channel index, not name\n",
    "    _,dataset[ch],dataset[f\"I0_{ch}\"],dataset[f\"E_{ch}\"] = traces_rdf.getTES(dataset[\"File\"],event,ich)\n",
    "    binmax = np.argmax(dataset[ch])\n",
    "    dataset[f\"Imax_{ch}\"] = np.average(dataset[ch][binmax-20:binmax+20])\n",
    "    dataset[f\"IvsE_{ch}\"] = dataset[f\"Imax_{ch}\"]/dataset[f\"E_{ch}\"]"
   ]
  },
  {
   "cell_type": "code",
   "execution_count": 7,
   "id": "d9e52f41-696e-4d41-a48c-4c52422077e0",
   "metadata": {},
   "outputs": [],
   "source": [
    "def getTraceInfo(dataset, event=0):\n",
    "    \"\"\"Populate dictionary of channel traces for given data file.\"\"\"\n",
    "    dataset[\"Bins\"] = traces_rdf.getBins(dataset[\"File\"],\"TES\",event)\n",
    "    dataset[\"Channels\"] = traces_rdf.getChannels(dataset[\"File\"],\"TES\",event)\n",
    "\n",
    "    dataset[\"Psum\"] = np.zeros_like(dataset[\"Bins\"])\n",
    "    dataset[\"Esum\"] = 0.\n",
    "    \n",
    "    chans = dataset[\"Channels\"]\n",
    "    for ch in chans:\n",
    "        getChannel(dataset, ch, event)\n",
    "        dataset[\"Psum\"] += dataset[ch]\n",
    "        dataset[\"Esum\"] += dataset[f\"E_{ch}\"]\n",
    "\n",
    "    binmax = np.argmax(dataset[\"Psum\"])\n",
    "    dataset[\"Imax\"] = np.average(dataset[\"Psum\"][binmax-20:binmax+30])\n",
    "    dataset[\"IvsE\"] = dataset[\"Imax\"]/dataset[\"Esum\"]\n",
    "\n",
    "    if \"Template\" in dataset:\n",
    "        dataset[\"Ptemplate\"] = getTemplate(dataset[\"Template\"])"
   ]
  },
  {
   "cell_type": "code",
   "execution_count": 8,
   "id": "c76bf3b6-671a-466b-a4a3-c0e946b3f3f4",
   "metadata": {},
   "outputs": [],
   "source": [
    "def reportIvsE(dataset):\n",
    "    \"\"\"Compute IvsE using peak of each channel trace in dataset. Traces have\n",
    "       already been baseline-subtracted and flipped (via traces_rdf.getTES()).\"\"\"\n",
    "    for ch in dataset[\"Channels\"]:\n",
    "        print(ch,\" Imax\",dataset[f\"Imax_{ch}\"],\"E\",dataset[f\"E_{ch}\"],\n",
    "              \" IvsE \",dataset[f\"IvsE_{ch}\"]*1e6,\" uA/MeV\")\n",
    "        \n",
    "    print(\"Sum Imax\",dataset[\"Imax\"],\"E\",dataset[\"Esum\"],\n",
    "          \" IvsE \",dataset[\"IvsE\"]*1e6,\" uA/MeV\")"
   ]
  },
  {
   "cell_type": "code",
   "execution_count": 9,
   "id": "2fc26418-8d78-4f26-a223-0f158e10c191",
   "metadata": {},
   "outputs": [],
   "source": [
    "def plotTraces(dataset,title):\n",
    "    for ch in dataset[\"Channels\"]:\n",
    "        plt.plot(dataset[\"Bins\"],dataset[ch],label=ch)\n",
    "    plt.plot(dataset[\"Bins\"],dataset[\"Psum\"],label=\"Psum\")\n",
    "    plt.plot(dataset[\"Bins\"],dataset[\"Ptemplate\"]*dataset[\"Imax\"],label=\"Template\")\n",
    "    plt.legend()\n",
    "    plt.title(title)\n",
    "    plt.xlabel(\"Time [us]\")\n",
    "    plt.ylabel(\"TES trace [uA]\")"
   ]
  },
  {
   "cell_type": "code",
   "execution_count": 10,
   "id": "58b464c6-868e-4e91-9965-b9e37079cb28",
   "metadata": {},
   "outputs": [],
   "source": [
    "def IvsEatTime(dataset, time):\n",
    "    \"\"\"Compute IvsE by comparing trace value at a given time to the template.\"\"\"\n",
    "    tbin = np.where(dataset[\"Bins\"]>=time)[0][0]\n",
    "    IatT = np.average(dataset[\"Psum\"][tbin-20:tbin+20])\n",
    "    TmpAtT = dataset[\"Ptemplate\"][tbin]\n",
    "    ImaxAtT = IatT/TmpAtT\n",
    "    IvsEatT = ImaxAtT/dataset[\"Esum\"]\n",
    "    print(\"Psum at\",time,\"us (bin\",tbin,\") I\",IatT,\" Imax \",ImaxAtT,\" IvsE \",IvsEatT*1e6,\"uA/MeV\")"
   ]
  },
  {
   "cell_type": "code",
   "execution_count": 11,
   "id": "922dce81-7de2-4b50-aaca-058f296380c8",
   "metadata": {},
   "outputs": [],
   "source": [
    "def getNtuple(dataset):\n",
    "    \"\"\"Pull g4dmcEvents information from input file to get sample averages.\"\"\"\n",
    "    from cats.cdataframe import CDataFrame\n",
    "    branches = [\"EventNum\",\"DetNum\",\"PhononE\"]\n",
    "    dataset[\"Events\"] = CDataFrame(\"G4SimDir/g4dmcEvent\", dataset[\"File\"]).Filter(\"!Empty\").AsNumpy(branches)"
   ]
  },
  {
   "cell_type": "code",
   "execution_count": 12,
   "id": "206fde7c-503c-45f4-9170-785441506c53",
   "metadata": {},
   "outputs": [],
   "source": [
    "def fillEventIvsE(dataset):\n",
    "    \"\"\"Process dataset traces and copy summed IvsE value into Numpy event data.\"\"\"\n",
    "    if \"Events\" not in dataset: getNtuple(dataset)\n",
    "    if \"IvsE\" in dataset[\"Events\"]: return     # Already done for this sample\n",
    "\n",
    "    dataset[\"Events\"][\"Imax\"] = np.zeros_like(dataset[\"Events\"][\"EventNum\"])\n",
    "    dataset[\"Events\"][\"IvsE\"] = np.zeros_like(dataset[\"Events\"][\"EventNum\"])\n",
    "    for ev in dataset[\"Events\"][\"EventNum\"]:\n",
    "        select = np.where(dataset[\"Events\"][\"EventNum\"]==ev)\n",
    "        getTraceInfo(dataset, event=ev)\n",
    "        dataset[\"Events\"][\"Imax\"][select] = dataset[\"Imax\"]\n",
    "        dataset[\"Events\"][\"IvsE\"][select] = dataset[\"IvsE\"]"
   ]
  },
  {
   "cell_type": "code",
   "execution_count": 13,
   "id": "0a4fe392-e527-45e3-b0fd-10f5eac2cc49",
   "metadata": {},
   "outputs": [
    {
     "name": "stdout",
     "output_type": "stream",
     "text": [
      "50.517536750638776  +-  0.8133392724276263 uA/MeV\n"
     ]
    }
   ],
   "source": [
    "fillEventIvsE(lite1)\n",
    "print(np.average(lite1[\"Events\"][\"IvsE\"])*1e6,\" +- \",np.std(lite1[\"Events\"][\"IvsE\"])*1e6,\"uA/MeV\")"
   ]
  },
  {
   "cell_type": "code",
   "execution_count": 14,
   "id": "ea1b69db-8e14-435c-ae84-2a959a3ed37b",
   "metadata": {},
   "outputs": [
    {
     "name": "stdout",
     "output_type": "stream",
     "text": [
      "50.517536750638776  +-  0.8133392724276263 uA/MeV\n"
     ]
    }
   ],
   "source": [
    "fillEventIvsE(lite2)\n",
    "print(np.average(lite2[\"Events\"][\"IvsE\"])*1e6,\" +- \",np.std(lite2[\"Events\"][\"IvsE\"])*1e6,\"uA/MeV\")"
   ]
  },
  {
   "cell_type": "code",
   "execution_count": null,
   "id": "8f2733e8-4bb5-4f60-aae7-c4b32db3f12e",
   "metadata": {},
   "outputs": [],
   "source": [
    "fillEventIvsE(izip5)\n",
    "print(np.average(izip5[\"Events\"][\"IvsE\"])*1e6,\" +- \",np.std(izip5[\"Events\"][\"IvsE\"])*1e6,\"uA/MeV\")"
   ]
  },
  {
   "cell_type": "code",
   "execution_count": null,
   "id": "dd744309-9452-4772-9d83-4f9aacf957df",
   "metadata": {},
   "outputs": [],
   "source": [
    "traces_rdf.verbose=False\n",
    "getTraceInfo(lite1)\n",
    "getTraceInfo(lite2)\n",
    "getTraceInfo(izip5)"
   ]
  },
  {
   "cell_type": "code",
   "execution_count": null,
   "id": "409863b8-53cd-47de-8aa8-1dd0469e90aa",
   "metadata": {},
   "outputs": [],
   "source": [
    "pipeout(\"IvsE_CDMSlite1.txt\")\n",
    "reportIvsE(lite1)\n",
    "IvsEatTime(lite1,2000.)\n",
    "pipeout()\n",
    "\n",
    "plotTraces(lite1, \"CDMSlite1 1 keV phonon-only at center\")\n",
    "plt.savefig(\"traces_CDMSlite1.png\")"
   ]
  },
  {
   "cell_type": "code",
   "execution_count": null,
   "id": "bfe3a7f2-9de4-427f-b8d9-efd28883dc8b",
   "metadata": {},
   "outputs": [],
   "source": [
    "pipeout(\"IvsE_CDMSlite2.txt\")\n",
    "reportIvsE(lite2)\n",
    "IvsEatTime(lite2,2000.)\n",
    "pipeout()\n",
    "\n",
    "plotTraces(lite2, \"CDMSlite2 1 keV phonon-only at center\")\n",
    "plt.savefig(\"traces_CDMSlite2.png\")"
   ]
  },
  {
   "cell_type": "code",
   "execution_count": null,
   "id": "b370e81a-c675-4da2-b620-5ca5126c5a9e",
   "metadata": {},
   "outputs": [],
   "source": [
    "pipeout(\"IvsE_iZIP5.txt\")\n",
    "reportIvsE(izip5)\n",
    "IvsEatTime(izip5,2000.)\n",
    "pipeout()\n",
    "\n",
    "plotTraces(izip5,\"iZIP5 1 keV phonon-only at center\")\n",
    "plt.savefig(\"traces_iZIP5.png\")"
   ]
  },
  {
   "cell_type": "code",
   "execution_count": null,
   "id": "4e0846a6-e8d8-4924-a646-4535774ddab3",
   "metadata": {},
   "outputs": [],
   "source": []
  }
 ],
 "metadata": {
  "kernelspec": {
   "display_name": "Python 3 (ipykernel)",
   "language": "python",
   "name": "python3"
  },
  "language_info": {
   "codemirror_mode": {
    "name": "ipython",
    "version": 3
   },
   "file_extension": ".py",
   "mimetype": "text/x-python",
   "name": "python",
   "nbconvert_exporter": "python",
   "pygments_lexer": "ipython3",
   "version": "3.10.12"
  }
 },
 "nbformat": 4,
 "nbformat_minor": 5
}
