{
 "cells": [
  {
   "cell_type": "code",
   "execution_count": null,
   "metadata": {},
   "outputs": [],
   "source": [
    "%pylab inline\n",
    "import matplotlib\n",
    "import matplotlib.pyplot as plt\n",
    "%matplotlib inline\n",
    "import pandas as pd\n",
    "from pylab import *\n",
    "import matplotlib.patches as mpatches\n",
    "import numpy as np"
   ]
  },
  {
   "cell_type": "code",
   "execution_count": null,
   "metadata": {},
   "outputs": [],
   "source": [
    "gapEnergy = 173.7e-6 # eV\n",
    "def QPEnergyPDF(E, x):\n",
    "    if x <= gapEnergy or (E-x) <= gapEnergy: return 0.\n",
    "    gapsq = gapEnergy*gapEnergy\n",
    "    return ( (x*(E-x) + gapsq) / sqrt((x*x-gapsq) * ((E-x)*(E-x)-gapsq)) )"
   ]
  },
  {
   "cell_type": "code",
   "execution_count": null,
   "metadata": {},
   "outputs": [],
   "source": [
    "def PhononEnergyPDF(E, x):\n",
    "    if x <= gapEnergy: return 0.\n",
    "    gapsq = gapEnergy*gapEnergy\n",
    "    return ( E - ((E-x)*(E-x) * (x-gapsq/E)/sqrt(x*x - gapsq)) )"
   ]
  },
  {
   "cell_type": "code",
   "execution_count": null,
   "metadata": {},
   "outputs": [],
   "source": [
    "plt.figure(figsize(5.5,4), dpi = 200)\n",
    "E = 20*gapEnergy\n",
    "x = np.linspace(1, 20-1, 500)\n",
    "y = np.array([QPEnergyPDF(E,i*gapEnergy) for i in x])\n",
    "plt.plot(x, y, color = '#c61a09')\n",
    "plt.fill_between(x, y, y2=0, color = '#c61a09', alpha = 0.5)\n",
    "plt.xlabel('x [*gapEnergy]')\n",
    "plt.ylabel('Quasiparticle Energy PDF(x|E)')\n",
    "plt.title('Quasiparticle Energy PDF(x|E) vs. QP energy x\\nfor Phonon E = 20*gapEnergy')"
   ]
  },
  {
   "cell_type": "code",
   "execution_count": null,
   "metadata": {},
   "outputs": [],
   "source": [
    "plt.figure(figsize(5.5,4), dpi = 200)\n",
    "E = 20*gapEnergy\n",
    "x = np.linspace(1, 20 - 1, 2000)\n",
    "y = np.array([PhononEnergyPDF(E,i*gapEnergy) for i in x])\n",
    "plt.plot(x, y, color = '#c61a09')\n",
    "plt.fill_between(x, y, y2=0, color = '#c61a09', alpha = 0.5)\n",
    "plt.xlabel('x [*gapEnergy]')\n",
    "plt.ylabel('Phonon Energy PDF(x|E)')\n",
    "plt.title('Phonon Energy PDF(x|E) vs. Phonon energy x\\nfor QP E = 20*gapEnergy')"
   ]
  },
  {
   "cell_type": "code",
   "execution_count": null,
   "metadata": {},
   "outputs": [],
   "source": []
  }
 ],
 "metadata": {
  "kernelspec": {
   "display_name": "Python 3",
   "language": "python",
   "name": "python3"
  },
  "language_info": {
   "codemirror_mode": {
    "name": "ipython",
    "version": 3
   },
   "file_extension": ".py",
   "mimetype": "text/x-python",
   "name": "python",
   "nbconvert_exporter": "python",
   "pygments_lexer": "ipython3",
   "version": "3.6.6"
  }
 },
 "nbformat": 4,
 "nbformat_minor": 2
}
