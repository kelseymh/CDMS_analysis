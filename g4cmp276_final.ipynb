{
 "cells": [
  {
   "cell_type": "code",
   "execution_count": null,
   "id": "081b9365-4596-42da-9cf0-659f671a00ad",
   "metadata": {},
   "outputs": [],
   "source": [
    "from imports import *\n",
    "import phonon_eff\n",
    "%matplotlib inline"
   ]
  },
  {
   "cell_type": "code",
   "execution_count": null,
   "id": "b0455bb2-7fbd-4996-9915-d8d1f7b88b1b",
   "metadata": {},
   "outputs": [],
   "source": [
    "# DMC files generated using G4CMP-276 feature branch\n",
    "#snoGe71 = 'data/G4CMP276_final/276+418/Ge71-SNOLAB-276+418_24240723_000000.root'\n",
    "#sno10keV = 'data/G4CMP276_final/276+418/10keV-SNOLAB-276+418_24240722_000000.root'\n",
    "\n",
    "# DMC files generated using G4CMP-276 module\n",
    "modGe71  = 'data/G4CMP276_final/Module/Ge71-SNOLAB-276-mod_24240724_000000.root'\n",
    "mod10keV = 'data/G4CMP276_final/Module/10keV-SNOLAB-276-mod_24240725_000000.root'\n",
    "\n",
    "# DMC file generated using G4CMP-276 module, with EPot file instead of Uniform Field\n",
    "epotGe71 = 'data/G4CMP276_final/SWFT_final/DMCER_zip_iZIP7-Kelsey-GGSim_51240727_000000.root'"
   ]
  },
  {
   "cell_type": "code",
   "execution_count": null,
   "id": "91883ebd-9c3b-4c8e-bd58-2a9c0d7d0cda",
   "metadata": {},
   "outputs": [],
   "source": [
    "title = \"SNOLAB detectors, Ge-71 contaminant events\"\n",
    "figfile = \"SNOLAB-eff-stack_G4CMP276.png\"\n",
    "phonon_eff.stackEfficiency(modGe71, title, figfile)"
   ]
  },
  {
   "cell_type": "code",
   "execution_count": null,
   "id": "a250e216",
   "metadata": {},
   "outputs": [],
   "source": [
    "title = \"SNOLAB with EPot, Ge-71 contaminant events\"\n",
    "figfile = \"SNOLAB-eff-stack_G4CMP276-EPot.png\"\n",
    "phonon_eff.stackEfficiency(epotGe71, title, figfile)"
   ]
  },
  {
   "cell_type": "code",
   "execution_count": null,
   "id": "f6f24f0c-3d95-4f5e-8eb1-d4c80ac60fc2",
   "metadata": {},
   "outputs": [],
   "source": [
    "title = \"SNOLAB detectors, Ge-71 contaminant events\"\n",
    "figfile = \"SNOLAB-eff-stack_G4CMP276-SWFT.png\"\n",
    "phonon_eff.stackEfficiency(swftGe71, title, figfile)"
   ]
  },
  {
   "cell_type": "code",
   "execution_count": null,
   "id": "84093586-5ab3-4fc6-9fe7-e1908db97ad5",
   "metadata": {},
   "outputs": [],
   "source": [
    "# Single DMC file generated using SimWorkFlowTools with G4CMP-276 module\n",
    "swftGe71_0 = 'data/G4CMP276_final/SWFT_final/Ge71/Ge71_snolab_Zip_24240725_000000.root'\n",
    "title = \"SNOLAB detectors, Ge-71 contaminant events\"\n",
    "figfile = \"SNOLAB-eff-stack_G4CMP276-SWFT0.png\"\n",
    "phonon_eff.stackEfficiency(swftGe71_0, title, figfile)"
   ]
  },
  {
   "cell_type": "code",
   "execution_count": null,
   "id": "eb627beb-0a2e-4082-aedd-8fad9f7d6515",
   "metadata": {},
   "outputs": [],
   "source": [
    "title   = \"SNOLAB detectors, Ge-71 SimFiducial\"\n",
    "figfile = \"SNOLAB-simfid-Ge71_G4CMP276-SWFT.png\"\n",
    "phonon_eff.mapAllEfficiencies(swftGe71, title, figfile, izipcut=0.93)"
   ]
  },
  {
   "cell_type": "code",
   "execution_count": null,
   "id": "974055b8-0a49-4673-9511-dac5469fca91",
   "metadata": {},
   "outputs": [],
   "source": [
    "title = \"SNOLAB detectors, 10 keV DMCER events\"\n",
    "figfile = \"SNOLAB-eff-10keV_G4CMP276-SWFT.png\"\n",
    "phonon_eff.stackEfficiencySets(swft10keV, title, figfile)"
   ]
  },
  {
   "cell_type": "code",
   "execution_count": null,
   "id": "35aff538-6bab-47b8-9e47-ce50c682be8d",
   "metadata": {},
   "outputs": [],
   "source": [
    "title   = \"SNOLAB detectors, SimFiducial\"\n",
    "figfile = \"SNOLAB-simfid-10keV_G4CMP276-SWFT.png\"\n",
    "phonon_eff.mapEfficiencySets(swft10keV, title, figfile, izipcut=0.93)"
   ]
  },
  {
   "cell_type": "code",
   "execution_count": null,
   "id": "3a6c2292-dcdd-4814-a927-476c8cfed070",
   "metadata": {},
   "outputs": [],
   "source": []
  }
 ],
 "metadata": {
  "kernelspec": {
   "display_name": "Python 3 (ipykernel)",
   "language": "python",
   "name": "python3"
  },
  "language_info": {
   "codemirror_mode": {
    "name": "ipython",
    "version": 3
   },
   "file_extension": ".py",
   "mimetype": "text/x-python",
   "name": "python",
   "nbconvert_exporter": "python",
   "pygments_lexer": "ipython3",
   "version": "3.10.12"
  }
 },
 "nbformat": 4,
 "nbformat_minor": 5
}
