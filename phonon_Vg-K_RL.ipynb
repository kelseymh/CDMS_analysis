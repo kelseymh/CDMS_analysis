{
  "nbformat": 4,
  "nbformat_minor": 0,
  "metadata": {
    "colab": {
      "provenance": []
    },
    "kernelspec": {
      "name": "python3",
      "display_name": "Python 3"
    },
    "language_info": {
      "name": "python"
    }
  },
  "cells": [
    {
      "cell_type": "code",
      "source": [
        "!pip install tex"
      ],
      "metadata": {
        "id": "2KMNgbasYG2o"
      },
      "execution_count": null,
      "outputs": []
    },
    {
      "cell_type": "code",
      "execution_count": null,
      "metadata": {
        "id": "hWfeImpHUbOD"
      },
      "outputs": [],
      "source": [
        "import numpy as np\n",
        "import matplotlib\n",
        "from matplotlib import pyplot as plt\n",
        "from matplotlib import rc\n",
        "from mpl_toolkits.mplot3d import Axes3D\n",
        "\n",
        "matplotlib.rcParams.update({'font.size': 14})\n",
        "#rc('font',**{'family':'serif','serif':['Computer Modern Roman']})\n",
        "#rc('text', usetex=True)"
      ]
    },
    {
      "cell_type": "code",
      "source": [
        "def do_plot(data, s, c, filename):\n",
        "    fig = plt.figure()\n",
        "    ax = Axes3D(fig)\n",
        "    ax.view_init(30, -20)\n",
        "    ax.scatter(data[:,0], data[:,1], data[:,2], s=s, c=c)\n",
        "    ax.set_xlabel('$v_x$ [km/s]')\n",
        "    ax.set_ylabel('    $v_y$ [km/s]')\n",
        "    ax.yaxis.labelpad=10\n",
        "    ax.set_zlabel('$v_z$ [km/s]')\n",
        "    #ax.set_xlim([0, 5]\n",
        "    #ax.set_ylim([0, 5])\n",
        "    #ax.set_zlim([0, 5])\n",
        "    #[t.set_rotation(10) for t in ax.get_yticklabels()]\n",
        "    #[t.set_rotation(-30) for t in ax.get_xticklabels()]\n",
        "    #plt.tight_layout()\n",
        "    plt.savefig(filename, format='png', bbox_inches='tight')\n",
        "    plt.clf()\n",
        "\n"
      ],
      "metadata": {
        "id": "59OTE7Y7Um-D"
      },
      "execution_count": null,
      "outputs": []
    },
    {
      "cell_type": "code",
      "source": [
        "def show_plot(data, s, c):\n",
        "    #fig = plt.figure()\n",
        "    #ax = Axes3D(fig)\n",
        "    #ax.view_init(30, -20)\n",
        "    fig, ax = plt.subplots(figsize=(6,6))\n",
        "    mask=abs(data[:,2])<99 #1e-4\n",
        "    ax.scatter(data[mask,0], data[mask,1], s=s, c=c)\n",
        "    ax.set_xlabel('$v_x$ [km/s]')\n",
        "    ax.set_ylabel('$v_y$ [km/s]')\n",
        "    ax.set_aspect('equal', 'box')\n",
        "    #ax.set_zlabel('$v_z$ [km/s]')"
      ],
      "metadata": {
        "id": "_LoXZTo0YUHy"
      },
      "execution_count": null,
      "outputs": []
    },
    {
      "cell_type": "code",
      "source": [
        "def do_plot2(data, s, c, filename):\n",
        "    #fig = plt.figure()\n",
        "    #ax = Axes3D(fig)\n",
        "    #ax.view_init(30, -20)\n",
        "    fig, ax = plt.subplots()\n",
        "    mask=abs(data[:,2])<1e-4\n",
        "    ax.scatter(data[mask,0], data[mask,1], s=s, c=c)\n",
        "    ax.set_xlabel('$v_x$ [km/s]')\n",
        "    ax.set_ylabel('$v_y$ [km/s]')\n",
        "    ax.set_aspect('equal', 'box')\n",
        "    #ax.set_zlabel('$v_z$ [km/s]')\n",
        "    plt.tight_layout()\n",
        "    plt.savefig(filename, format='png')\n",
        "    plt.clf()"
      ],
      "metadata": {
        "id": "P4PsN7msaEKn"
      },
      "execution_count": null,
      "outputs": []
    },
    {
      "cell_type": "code",
      "source": [
        "gdrive_prefix='/content/drive/MyDrive/Dissertation/phonon data/'\n",
        "st = np.genfromtxt(gdrive_prefix+'Si_phonon_slowness_long', delimiter=',')\n",
        "s = 1\n",
        "st=st/(st**2).sum(axis=1).reshape(-1,1)*1e9\n",
        "show_plot(st/1000, s, 'r')\n"
      ],
      "metadata": {
        "colab": {
          "base_uri": "https://localhost:8080/",
          "height": 413
        },
        "id": "nusZvjsLYj4W",
        "outputId": "0d90f723-e4ed-4f2c-9466-2431ff1de4aa"
      },
      "execution_count": null,
      "outputs": [
        {
          "output_type": "display_data",
          "data": {
            "text/plain": [
              "<Figure size 432x432 with 1 Axes>"
            ],
            "image/png": "[encoded data removed]"
          },
          "metadata": {
            "needs_background": "light"
          }
        }
      ]
    },
    {
      "cell_type": "code",
      "source": [],
      "metadata": {
        "id": "o0Ki-FzuASUw"
      },
      "execution_count": null,
      "outputs": []
    },
    {
      "cell_type": "code",
      "source": [
        "# Load up the data\n",
        "# commented lines remove any negative values, so we can just\n",
        "# plot octant 1\n",
        "gdrive_prefix='/content/drive/MyDrive/Dissertation/phonon data/'\n",
        "long = np.genfromtxt(gdrive_prefix+'Si_phonon_group_vel_long', delimiter=',')\n",
        "ft = np.genfromtxt(gdrive_prefix+'Si_phonon_group_vel_trans_fast', delimiter=',')\n",
        "st = np.genfromtxt(gdrive_prefix+'Si_phonon_group_vel_trans_slow', delimiter=',')\n",
        "\n",
        "s = 1 # marker size\n",
        "do_plot(long/1000, s, 'b', gdrive_prefix+'phonon_group_vel_long.png')\n",
        "do_plot(ft/1000, s, 'g', gdrive_prefix+'phonon_group_vel_fast_trans.png')\n",
        "do_plot(st/1000, s, 'r', gdrive_prefix+'phonon_group_vel_slow_trans.png')\n",
        "\n",
        "# Do the same for slowness surfaces\n",
        "long = np.genfromtxt(gdrive_prefix+'Si_phonon_phase_vel_long', delimiter=',')\n",
        "ft = np.genfromtxt(gdrive_prefix+'Si_phonon_phase_vel_trans_fast', delimiter=',')\n",
        "st = np.genfromtxt(gdrive_prefix+'Si_phonon_phase_vel_trans_slow', delimiter=',')\n",
        "\n",
        "do_plot(long, s, 'b', gdrive_prefix+'phonon_phase_vel_long.png')\n",
        "do_plot(ft, s, 'g', gdrive_prefix+'phonon_phase_vel_fast_trans.png')\n",
        "do_plot(st, s, 'r', gdrive_prefix+'phonon_phase_vel_slow_trans.png')"
      ],
      "metadata": {
        "colab": {
          "base_uri": "https://localhost:8080/",
          "height": 125
        },
        "id": "kK6MysVRUo64",
        "outputId": "018fdf27-44a3-44f1-dd0e-0e6886e915ca"
      },
      "execution_count": null,
      "outputs": [
        {
          "output_type": "display_data",
          "data": {
            "text/plain": [
              "<Figure size 432x288 with 0 Axes>"
            ]
          },
          "metadata": {}
        },
        {
          "output_type": "display_data",
          "data": {
            "text/plain": [
              "<Figure size 432x288 with 0 Axes>"
            ]
          },
          "metadata": {}
        },
        {
          "output_type": "display_data",
          "data": {
            "text/plain": [
              "<Figure size 432x288 with 0 Axes>"
            ]
          },
          "metadata": {}
        },
        {
          "output_type": "display_data",
          "data": {
            "text/plain": [
              "<Figure size 432x288 with 0 Axes>"
            ]
          },
          "metadata": {}
        },
        {
          "output_type": "display_data",
          "data": {
            "text/plain": [
              "<Figure size 432x288 with 0 Axes>"
            ]
          },
          "metadata": {}
        },
        {
          "output_type": "display_data",
          "data": {
            "text/plain": [
              "<Figure size 432x288 with 0 Axes>"
            ]
          },
          "metadata": {}
        }
      ]
    },
    {
      "cell_type": "code",
      "source": [
        "# Load up the data\n",
        "# commented lines remove any negative values, so we can just\n",
        "# plot octant 1\n",
        "gdrive_prefix='/content/drive/MyDrive/Dissertation/phonon data/'\n",
        "long = np.genfromtxt(gdrive_prefix+'Si_phonon_group_vel_long', delimiter=',')\n",
        "ft = np.genfromtxt(gdrive_prefix+'Si_phonon_group_vel_trans_fast', delimiter=',')\n",
        "st = np.genfromtxt(gdrive_prefix+'Si_phonon_group_vel_trans_slow', delimiter=',')\n",
        "\n",
        "s = 1 # marker size\n",
        "do_plot2(long/1000, s, 'b', gdrive_prefix+'phonon_group_vel_long_2d.png')\n",
        "do_plot2(ft/1000, s, 'g', gdrive_prefix+'phonon_group_vel_fast_trans_2d.png')\n",
        "do_plot2(st/1000, s, 'r', gdrive_prefix+'phonon_group_vel_slow_trans_2d.png')\n",
        "\n",
        "# Do the same for slowness surfaces\n",
        "long = np.genfromtxt(gdrive_prefix+'Si_phonon_phase_vel_long', delimiter=',')\n",
        "ft = np.genfromtxt(gdrive_prefix+'Si_phonon_phase_vel_trans_fast', delimiter=',')\n",
        "st = np.genfromtxt(gdrive_prefix+'Si_phonon_phase_vel_trans_slow', delimiter=',')\n",
        "data=long/(long**2).sum(axis=1).reshape(-1,1)*1e9\n",
        "do_plot2(data, s, 'b', gdrive_prefix+'phonon_slowness_long_2d.png')\n",
        "data=ft/(ft**2).sum(axis=1).reshape(-1,1)*1e9\n",
        "do_plot2(data, s, 'g', gdrive_prefix+'phonon_slowness_fast_trans_2d.png')\n",
        "data=st/(st**2).sum(axis=1).reshape(-1,1)*1e9\n",
        "do_plot2(data, s, 'r', gdrive_prefix+'phonon_slowness_slow_trans_2d.png')"
      ],
      "metadata": {
        "colab": {
          "base_uri": "https://localhost:8080/",
          "height": 125
        },
        "id": "Q4iVJfWsaPDF",
        "outputId": "9a7c7247-6ef5-4c6e-a635-dbf366c5df38"
      },
      "execution_count": null,
      "outputs": [
        {
          "output_type": "display_data",
          "data": {
            "text/plain": [
              "<Figure size 432x288 with 0 Axes>"
            ]
          },
          "metadata": {}
        },
        {
          "output_type": "display_data",
          "data": {
            "text/plain": [
              "<Figure size 432x288 with 0 Axes>"
            ]
          },
          "metadata": {}
        },
        {
          "output_type": "display_data",
          "data": {
            "text/plain": [
              "<Figure size 432x288 with 0 Axes>"
            ]
          },
          "metadata": {}
        },
        {
          "output_type": "display_data",
          "data": {
            "text/plain": [
              "<Figure size 432x288 with 0 Axes>"
            ]
          },
          "metadata": {}
        },
        {
          "output_type": "display_data",
          "data": {
            "text/plain": [
              "<Figure size 432x288 with 0 Axes>"
            ]
          },
          "metadata": {}
        },
        {
          "output_type": "display_data",
          "data": {
            "text/plain": [
              "<Figure size 432x288 with 0 Axes>"
            ]
          },
          "metadata": {}
        }
      ]
    },
    {
      "cell_type": "code",
      "source": [
        "\n",
        "gdrive_prefix='/content/drive/MyDrive/Dissertation/phonon data/'\n",
        "long = np.genfromtxt(gdrive_prefix+'Si_phonon_group_vel_long', delimiter=',')\n",
        "ft = np.genfromtxt(gdrive_prefix+'Si_phonon_group_vel_trans_fast', delimiter=',')\n",
        "st = np.genfromtxt(gdrive_prefix+'Si_phonon_group_vel_trans_slow', delimiter=',')\n",
        "\n",
        "s = 0.25 # marker size\n",
        "\n",
        "fig, ax = plt.subplots(figsize=(3,3))\n",
        "data=long/1000\n",
        "mask=abs(data[:,2])<1e-4\n",
        "ax.scatter(data[mask,0], data[mask,1], s=s, c='b')\n",
        "data=ft/1000\n",
        "mask=abs(data[:,2])<1e-4\n",
        "ax.scatter(data[mask,0], data[mask,1], s=s, c='g')\n",
        "data=st/1000\n",
        "mask=abs(data[:,2])<1e-4\n",
        "ax.scatter(data[mask,0], data[mask,1], s=s, c='r')\n",
        "\n",
        "ax.set_xlabel('$v_x$ [km/s]')\n",
        "ax.set_ylabel('$v_y$ [km/s]')\n",
        "ax.set_xticks([0,2,4,6,8])\n",
        "ax.set_yticks([0,2,4,6,8])\n",
        "ax.set_xlim(-0.421524, 8.852003999999999)\n",
        "ax.set_ylim(-0.421524, 8.852003999999999)\n",
        "ax.set_aspect('equal', 'box')\n",
        "#ax.set_zlabel('$v_z$ [km/s]')\n",
        "plt.tight_layout()\n",
        "plt.savefig(gdrive_prefix+'phonon_group_vel_2d.png', format='png')\n",
        "plt.clf()\n",
        "\n",
        "# Do the same for slowness surfaces\n",
        "long = np.genfromtxt(gdrive_prefix+'Si_phonon_slowness_long', delimiter=',')\n",
        "ft = np.genfromtxt(gdrive_prefix+'Si_phonon_slowness_trans_fast', delimiter=',')\n",
        "st = np.genfromtxt(gdrive_prefix+'Si_phonon_slowness_trans_slow', delimiter=',')\n",
        "\n",
        "fig, ax = plt.subplots(figsize=(3,3))\n",
        "data=long/(long**2).sum(axis=1).reshape(-1,1)*1e9\n",
        "mask=abs(data[:,2])<1e-4\n",
        "ax.scatter(data[mask,0], data[mask,1], s=s, c='b')\n",
        "data=ft/(ft**2).sum(axis=1).reshape(-1,1)*1e9\n",
        "mask=abs(data[:,2])<1e-4\n",
        "ax.scatter(data[mask,0], data[mask,1], s=s, c='g')\n",
        "data=st/(st**2).sum(axis=1).reshape(-1,1)*1e9\n",
        "mask=abs(data[:,2])<1e-4\n",
        "ax.scatter(data[mask,0], data[mask,1], s=s, c='r')\n",
        "\n",
        "ax.set_xlabel('$v_x$ [km/s]')\n",
        "ax.set_ylabel('$v_y$ [km/s]')\n",
        "ax.set_aspect('equal', 'box')\n",
        "ax.set_xticks([0,2,4,6,8])\n",
        "ax.set_yticks([0,2,4,6,8])\n",
        "ax.set_xlim(-0.421524, 8.852003999999999)\n",
        "ax.set_ylim(-0.421524, 8.852003999999999)\n",
        "#ax.set_zlabel('$v_z$ [km/s]')\n",
        "plt.tight_layout()\n",
        "plt.savefig(gdrive_prefix+'phonon_slowness_vel_2d.png', format='png')\n",
        "plt.clf()\n",
        "\n",
        "long = np.genfromtxt(gdrive_prefix+'Si_phonon_phase_vel_long', delimiter=',')\n",
        "ft = np.genfromtxt(gdrive_prefix+'Si_phonon_phase_vel_trans_fast', delimiter=',')\n",
        "st = np.genfromtxt(gdrive_prefix+'Si_phonon_phase_vel_trans_slow', delimiter=',')\n",
        "\n",
        "s = 0.25 # marker size\n",
        "\n",
        "fig, ax = plt.subplots(figsize=(3,3))\n",
        "data=long/1000\n",
        "mask=abs(data[:,2])<1e-4\n",
        "ax.scatter(data[mask,0], data[mask,1], s=s, c='b')\n",
        "data=ft/1000\n",
        "mask=abs(data[:,2])<1e-4\n",
        "ax.scatter(data[mask,0], data[mask,1], s=s, c='g')\n",
        "data=st/1000\n",
        "mask=abs(data[:,2])<1e-4\n",
        "ax.scatter(data[mask,0], data[mask,1], s=s, c='r')\n",
        "\n",
        "ax.set_xlabel('$v_x$ [km/s]')\n",
        "ax.set_ylabel('$v_y$ [km/s]')\n",
        "ax.set_xticks([0,2,4,6,8])\n",
        "ax.set_yticks([0,2,4,6,8])\n",
        "ax.set_xlim(-0.421524, 8.852003999999999)\n",
        "ax.set_ylim(-0.421524, 8.852003999999999)\n",
        "ax.set_aspect('equal', 'box')\n",
        "#ax.set_zlabel('$v_z$ [km/s]')\n",
        "plt.tight_layout()\n",
        "plt.savefig(gdrive_prefix+'phonon_phase_vel_2d.png', format='png')\n",
        "plt.clf()"
      ],
      "metadata": {
        "colab": {
          "base_uri": "https://localhost:8080/",
          "height": 70
        },
        "id": "hiZ3DTFGatCh",
        "outputId": "3401d53b-caf2-47f3-8404-68699ffbd4f6"
      },
      "execution_count": null,
      "outputs": [
        {
          "output_type": "display_data",
          "data": {
            "text/plain": [
              "<Figure size 300x300 with 0 Axes>"
            ]
          },
          "metadata": {}
        },
        {
          "output_type": "display_data",
          "data": {
            "text/plain": [
              "<Figure size 300x300 with 0 Axes>"
            ]
          },
          "metadata": {}
        },
        {
          "output_type": "display_data",
          "data": {
            "text/plain": [
              "<Figure size 300x300 with 0 Axes>"
            ]
          },
          "metadata": {}
        }
      ]
    },
    {
      "cell_type": "code",
      "source": [
        "\n",
        "gdrive_prefix='/content/drive/MyDrive/Dissertation/phonon data/'\n",
        "long = np.genfromtxt(gdrive_prefix+'phonon_group_vel_long', delimiter=',')\n",
        "ft = np.genfromtxt(gdrive_prefix+'phonon_group_vel_trans_fast', delimiter=',')\n",
        "st = np.genfromtxt(gdrive_prefix+'phonon_group_vel_trans_slow', delimiter=',')\n",
        "\n",
        "s = 1 # marker size\n",
        "\n",
        "fig = plt.figure()\n",
        "ax = Axes3D(fig)\n",
        "ax.view_init(30, -20)\n",
        "data=long/1000\n",
        "ax.scatter(data[:,0], data[:,1], data[:,2], s=s, c='b')\n",
        "data=ft/1000\n",
        "ax.scatter(data[:,0], data[:,1], data[:,2], s=s, c='g')\n",
        "data=st/1000\n",
        "ax.scatter(data[:,0], data[:,1], data[:,2], s=s, c='r')\n",
        "\n",
        "ax.set_xlabel('$v_x$ [km/s]')\n",
        "ax.set_ylabel('    $v_y$ [km/s]')\n",
        "ax.yaxis.labelpad=10\n",
        "ax.set_zlabel('$v_z$ [km/s]')\n",
        "#ax.set_aspect('equal', 'box')\n",
        "#ax.set_zlabel('$v_z$ [km/s]')\n",
        "#plt.tight_layout()\n",
        "plt.savefig(gdrive_prefix+'phonon_group_vel_3d', format='png')\n",
        "plt.clf()\n",
        "\n",
        "# Do the same for slowness surfaces\n",
        "long = np.genfromtxt(gdrive_prefix+'phonon_slowness_longi', delimiter=',')\n",
        "ft = np.genfromtxt(gdrive_prefix+'phonon_slowness_trans_fast', delimiter=',')\n",
        "st = np.genfromtxt(gdrive_prefix+'phonon_slowness_trans_slow', delimiter=',')\n",
        "\n",
        "fig = plt.figure()\n",
        "ax = Axes3D(fig)\n",
        "ax.view_init(30, -20)\n",
        "data=long/(long**2).sum(axis=1).reshape(-1,1)*1e9\n",
        "ax.scatter(data[:,0], data[:,1], data[:,2], s=s, c='b')\n",
        "data=ft/(ft**2).sum(axis=1).reshape(-1,1)*1e9\n",
        "ax.scatter(data[:,0], data[:,1], data[:,2], s=s, c='g')\n",
        "data=st/(st**2).sum(axis=1).reshape(-1,1)*1e9\n",
        "ax.scatter(data[:,0], data[:,1], data[:,2], s=s, c='r')\n",
        "\n",
        "ax.set_xlabel('$v_x$ [km/s]')\n",
        "ax.set_ylabel('    $v_y$ [km/s]')\n",
        "ax.yaxis.labelpad=10\n",
        "ax.set_zlabel('$v_z$ [km/s]')\n",
        "#ax.set_aspect('equal', 'box')\n",
        "#ax.set_zlabel('$v_z$ [km/s]')\n",
        "#plt.tight_layout()\n",
        "plt.savefig(gdrive_prefix+'phonon_slowness_vel_3d', format='png')\n",
        "plt.clf()"
      ],
      "metadata": {
        "colab": {
          "base_uri": "https://localhost:8080/",
          "height": 53
        },
        "outputId": "78a09ea3-b4f2-447f-ed1a-9df31f0e51fe",
        "id": "JFRSHwJ4mmCM"
      },
      "execution_count": null,
      "outputs": [
        {
          "output_type": "display_data",
          "data": {
            "text/plain": [
              "<Figure size 432x288 with 0 Axes>"
            ]
          },
          "metadata": {}
        },
        {
          "output_type": "display_data",
          "data": {
            "text/plain": [
              "<Figure size 432x288 with 0 Axes>"
            ]
          },
          "metadata": {}
        }
      ]
    }
  ]
}