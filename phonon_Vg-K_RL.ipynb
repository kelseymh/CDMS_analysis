{
 "cells": [
  {
   "cell_type": "code",
   "execution_count": null,
   "metadata": {
    "id": "2KMNgbasYG2o"
   },
   "outputs": [],
   "source": [
    "### !pip install tex"
   ]
  },
  {
   "cell_type": "code",
   "execution_count": null,
   "metadata": {
    "id": "hWfeImpHUbOD"
   },
   "outputs": [],
   "source": [
    "import numpy as np\n",
    "import matplotlib\n",
    "from matplotlib import pyplot as plt\n",
    "from matplotlib import rc\n",
    "from mpl_toolkits.mplot3d import Axes3D\n",
    "import os\n",
    "\n",
    "matplotlib.rcParams.update({'font.size': 14})\n",
    "### rc('font',**{'family':'serif','serif':['Computer Modern Roman']})\n",
    "### rc('text', usetex=True)"
   ]
  },
  {
   "cell_type": "code",
   "execution_count": null,
   "metadata": {},
   "outputs": [],
   "source": [
    "# Set path to CSV files here (default is same directory as notebook)\n",
    "phonon_data = './phonon_Vg-K_data/'\n",
    "phonon_plots = './phonon_Vg-K_plots/'\n",
    "if not os.path.isdir(phonon_plots):\n",
    "    os.makedirs(phonon_plots)"
   ]
  },
  {
   "cell_type": "code",
   "execution_count": null,
   "metadata": {
    "id": "59OTE7Y7Um-D"
   },
   "outputs": [],
   "source": [
    "def do_plot(data, s, c, filename):\n",
    "    fig = plt.figure()\n",
    "    ax = Axes3D(fig)\n",
    "    ax.view_init(30, -20)\n",
    "    ax.scatter(data[:,0], data[:,1], data[:,2], s=s, c=c)\n",
    "    ax.set_xlabel('$v_x$ [km/s]')\n",
    "    ax.set_ylabel('    $v_y$ [km/s]')\n",
    "    ax.yaxis.labelpad=10\n",
    "    ax.set_zlabel('$v_z$ [km/s]')\n",
    "    #ax.set_xlim([0, 5]\n",
    "    #ax.set_ylim([0, 5])\n",
    "    #ax.set_zlim([0, 5])\n",
    "    #[t.set_rotation(10) for t in ax.get_yticklabels()]\n",
    "    #[t.set_rotation(-30) for t in ax.get_xticklabels()]\n",
    "    #plt.tight_layout()\n",
    "    plt.savefig(filename, format='png', bbox_inches='tight')\n",
    "    plt.clf()"
   ]
  },
  {
   "cell_type": "code",
   "execution_count": null,
   "metadata": {
    "id": "_LoXZTo0YUHy"
   },
   "outputs": [],
   "source": [
    "def show_plot(data, s, c):\n",
    "    #fig = plt.figure()\n",
    "    #ax = Axes3D(fig)\n",
    "    #ax.view_init(30, -20)\n",
    "    fig, ax = plt.subplots(figsize=(6,6))\n",
    "    mask=abs(data[:,2])<99 #1e-4\n",
    "    ax.scatter(data[mask,0], data[mask,1], s=s, c=c)\n",
    "    ax.set_xlabel('$v_x$ [km/s]')\n",
    "    ax.set_ylabel('$v_y$ [km/s]')\n",
    "    ax.set_aspect('equal', 'box')\n",
    "    #ax.set_zlabel('$v_z$ [km/s]')"
   ]
  },
  {
   "cell_type": "code",
   "execution_count": null,
   "metadata": {
    "id": "P4PsN7msaEKn"
   },
   "outputs": [],
   "source": [
    "def do_plot2(data, s, c, filename):\n",
    "    #fig = plt.figure()\n",
    "    #ax = Axes3D(fig)\n",
    "    #ax.view_init(30, -20)\n",
    "    fig, ax = plt.subplots()\n",
    "    mask=abs(data[:,2])<1e-4\n",
    "    ax.scatter(data[mask,0], data[mask,1], s=s, c=c)\n",
    "    ax.set_xlabel('$v_x$ [km/s]')\n",
    "    ax.set_ylabel('$v_y$ [km/s]')\n",
    "    ax.set_aspect('equal', 'box')\n",
    "    #ax.set_zlabel('$v_z$ [km/s]')\n",
    "    plt.tight_layout()\n",
    "    plt.savefig(filename, format='png')\n",
    "    plt.clf()"
   ]
  },
  {
   "cell_type": "code",
   "execution_count": null,
   "metadata": {
    "colab": {
     "base_uri": "https://localhost:8080/",
     "height": 413
    },
    "id": "nusZvjsLYj4W",
    "outputId": "0d90f723-e4ed-4f2c-9466-2431ff1de4aa"
   },
   "outputs": [],
   "source": [
    "st = np.genfromtxt(phonon_data+'Si_phonon_slowness_long', delimiter=',')\n",
    "s = 1\n",
    "st=st/(st**2).sum(axis=1).reshape(-1,1)*1e9\n",
    "show_plot(st/1000, s, 'r')"
   ]
  },
  {
   "cell_type": "code",
   "execution_count": null,
   "metadata": {
    "id": "o0Ki-FzuASUw"
   },
   "outputs": [],
   "source": []
  },
  {
   "cell_type": "code",
   "execution_count": null,
   "metadata": {
    "colab": {
     "base_uri": "https://localhost:8080/",
     "height": 125
    },
    "id": "kK6MysVRUo64",
    "outputId": "018fdf27-44a3-44f1-dd0e-0e6886e915ca"
   },
   "outputs": [],
   "source": [
    "# Load up the data\n",
    "# commented lines remove any negative values, so we can just\n",
    "# plot octant 1\n",
    "long = np.genfromtxt(phonon_data+'Si_phonon_group_vel_long', delimiter=',')\n",
    "ft = np.genfromtxt(phonon_data+'Si_phonon_group_vel_trans_fast', delimiter=',')\n",
    "st = np.genfromtxt(phonon_data+'Si_phonon_group_vel_trans_slow', delimiter=',')\n",
    "\n",
    "s = 1 # marker size\n",
    "do_plot(long/1000, s, 'b', phonon_plots+'phonon_group_vel_long.png')\n",
    "do_plot(ft/1000, s, 'g', phonon_plots+'phonon_group_vel_fast_trans.png')\n",
    "do_plot(st/1000, s, 'r', phonon_plots+'phonon_group_vel_slow_trans.png')\n",
    "\n",
    "# Do the same for slowness surfaces\n",
    "long = np.genfromtxt(phonon_data+'Si_phonon_phase_vel_long', delimiter=',')\n",
    "ft = np.genfromtxt(phonon_data+'Si_phonon_phase_vel_trans_fast', delimiter=',')\n",
    "st = np.genfromtxt(phonon_data+'Si_phonon_phase_vel_trans_slow', delimiter=',')\n",
    "\n",
    "do_plot(long, s, 'b', phonon_plots+'phonon_phase_vel_long.png')\n",
    "do_plot(ft, s, 'g', phonon_plots+'phonon_phase_vel_fast_trans.png')\n",
    "do_plot(st, s, 'r', phonon_plots+'phonon_phase_vel_slow_trans.png')"
   ]
  },
  {
   "cell_type": "code",
   "execution_count": null,
   "metadata": {
    "colab": {
     "base_uri": "https://localhost:8080/",
     "height": 125
    },
    "id": "Q4iVJfWsaPDF",
    "outputId": "9a7c7247-6ef5-4c6e-a635-dbf366c5df38"
   },
   "outputs": [],
   "source": [
    "# Load up the data\n",
    "# commented lines remove any negative values, so we can just\n",
    "# plot octant 1\n",
    "long = np.genfromtxt(phonon_data+'Si_phonon_group_vel_long', delimiter=',')\n",
    "ft = np.genfromtxt(phonon_data+'Si_phonon_group_vel_trans_fast', delimiter=',')\n",
    "st = np.genfromtxt(phonon_data+'Si_phonon_group_vel_trans_slow', delimiter=',')\n",
    "\n",
    "s = 1 # marker size\n",
    "do_plot2(long/1000, s, 'b', phonon_plots+'phonon_group_vel_long_2d.png')\n",
    "do_plot2(ft/1000, s, 'g', phonon_plots+'phonon_group_vel_fast_trans_2d.png')\n",
    "do_plot2(st/1000, s, 'r', phonon_plots+'phonon_group_vel_slow_trans_2d.png')\n",
    "\n",
    "# Do the same for slowness surfaces\n",
    "long = np.genfromtxt(phonon_data+'Si_phonon_phase_vel_long', delimiter=',')\n",
    "ft = np.genfromtxt(phonon_data+'Si_phonon_phase_vel_trans_fast', delimiter=',')\n",
    "st = np.genfromtxt(phonon_data+'Si_phonon_phase_vel_trans_slow', delimiter=',')\n",
    "\n",
    "data=long/(long**2).sum(axis=1).reshape(-1,1)*1e9\n",
    "do_plot2(data, s, 'b', phonon_plots+'phonon_slowness_long_2d.png')\n",
    "\n",
    "data=ft/(ft**2).sum(axis=1).reshape(-1,1)*1e9\n",
    "do_plot2(data, s, 'g', phonon_plots+'phonon_slowness_fast_trans_2d.png')\n",
    "\n",
    "data=st/(st**2).sum(axis=1).reshape(-1,1)*1e9\n",
    "do_plot2(data, s, 'r', phonon_plots+'phonon_slowness_slow_trans_2d.png')"
   ]
  },
  {
   "cell_type": "code",
   "execution_count": null,
   "metadata": {
    "colab": {
     "base_uri": "https://localhost:8080/",
     "height": 70
    },
    "id": "hiZ3DTFGatCh",
    "outputId": "3401d53b-caf2-47f3-8404-68699ffbd4f6"
   },
   "outputs": [],
   "source": [
    "long = np.genfromtxt(phonon_data+'Si_phonon_group_vel_long', delimiter=',')\n",
    "ft = np.genfromtxt(phonon_data+'Si_phonon_group_vel_trans_fast', delimiter=',')\n",
    "st = np.genfromtxt(phonon_data+'Si_phonon_group_vel_trans_slow', delimiter=',')\n",
    "\n",
    "s = 0.25 # marker size\n",
    "\n",
    "fig, ax = plt.subplots(figsize=(3,3))\n",
    "data=long/1000\n",
    "mask=abs(data[:,2])<1e-4\n",
    "ax.scatter(data[mask,0], data[mask,1], s=s, c='b')\n",
    "data=ft/1000\n",
    "mask=abs(data[:,2])<1e-4\n",
    "ax.scatter(data[mask,0], data[mask,1], s=s, c='g')\n",
    "data=st/1000\n",
    "mask=abs(data[:,2])<1e-4\n",
    "ax.scatter(data[mask,0], data[mask,1], s=s, c='r')\n",
    "\n",
    "ax.set_xlabel('$v_x$ [km/s]')\n",
    "ax.set_ylabel('$v_y$ [km/s]')\n",
    "ax.set_xticks([0,2,4,6,8])\n",
    "ax.set_yticks([0,2,4,6,8])\n",
    "ax.set_xlim(-0.421524, 8.852003999999999)\n",
    "ax.set_ylim(-0.421524, 8.852003999999999)\n",
    "ax.set_aspect('equal', 'box')\n",
    "#ax.set_zlabel('$v_z$ [km/s]')\n",
    "plt.tight_layout()\n",
    "plt.savefig(phonon_plots+'phonon_group_vel_2d.png', format='png')\n",
    "plt.clf()\n",
    "\n",
    "# Do the same for slowness surfaces\n",
    "long = np.genfromtxt(phonon_data+'Si_phonon_slowness_long', delimiter=',')\n",
    "ft = np.genfromtxt(phonon_data+'Si_phonon_slowness_trans_fast', delimiter=',')\n",
    "st = np.genfromtxt(phonon_data+'Si_phonon_slowness_trans_slow', delimiter=',')\n",
    "\n",
    "fig, ax = plt.subplots(figsize=(3,3))\n",
    "data=long/(long**2).sum(axis=1).reshape(-1,1)*1e9\n",
    "mask=abs(data[:,2])<1e-4\n",
    "ax.scatter(data[mask,0], data[mask,1], s=s, c='b')\n",
    "data=ft/(ft**2).sum(axis=1).reshape(-1,1)*1e9\n",
    "mask=abs(data[:,2])<1e-4\n",
    "ax.scatter(data[mask,0], data[mask,1], s=s, c='g')\n",
    "data=st/(st**2).sum(axis=1).reshape(-1,1)*1e9\n",
    "mask=abs(data[:,2])<1e-4\n",
    "ax.scatter(data[mask,0], data[mask,1], s=s, c='r')\n",
    "\n",
    "ax.set_xlabel('$v_x$ [km/s]')\n",
    "ax.set_ylabel('$v_y$ [km/s]')\n",
    "ax.set_aspect('equal', 'box')\n",
    "ax.set_xticks([0,2,4,6,8])\n",
    "ax.set_yticks([0,2,4,6,8])\n",
    "ax.set_xlim(-0.421524, 8.852003999999999)\n",
    "ax.set_ylim(-0.421524, 8.852003999999999)\n",
    "#ax.set_zlabel('$v_z$ [km/s]')\n",
    "plt.tight_layout()\n",
    "plt.savefig(phonon_plots+'phonon_slowness_vel_2d.png', format='png')\n",
    "plt.clf()\n",
    "\n",
    "long = np.genfromtxt(phonon_data+'Si_phonon_phase_vel_long', delimiter=',')\n",
    "ft = np.genfromtxt(phonon_data+'Si_phonon_phase_vel_trans_fast', delimiter=',')\n",
    "st = np.genfromtxt(phonon_data+'Si_phonon_phase_vel_trans_slow', delimiter=',')\n",
    "\n",
    "s = 0.25 # marker size\n",
    "\n",
    "fig, ax = plt.subplots(figsize=(3,3))\n",
    "data=long/1000\n",
    "mask=abs(data[:,2])<1e-4\n",
    "ax.scatter(data[mask,0], data[mask,1], s=s, c='b')\n",
    "data=ft/1000\n",
    "mask=abs(data[:,2])<1e-4\n",
    "ax.scatter(data[mask,0], data[mask,1], s=s, c='g')\n",
    "data=st/1000\n",
    "mask=abs(data[:,2])<1e-4\n",
    "ax.scatter(data[mask,0], data[mask,1], s=s, c='r')\n",
    "\n",
    "ax.set_xlabel('$v_x$ [km/s]')\n",
    "ax.set_ylabel('$v_y$ [km/s]')\n",
    "ax.set_xticks([0,2,4,6,8])\n",
    "ax.set_yticks([0,2,4,6,8])\n",
    "ax.set_xlim(-0.421524, 8.852003999999999)\n",
    "ax.set_ylim(-0.421524, 8.852003999999999)\n",
    "ax.set_aspect('equal', 'box')\n",
    "#ax.set_zlabel('$v_z$ [km/s]')\n",
    "plt.tight_layout()\n",
    "plt.savefig(phonon_plots+'phonon_phase_vel_2d.png', format='png')\n",
    "plt.clf()"
   ]
  },
  {
   "cell_type": "code",
   "execution_count": null,
   "metadata": {
    "colab": {
     "base_uri": "https://localhost:8080/",
     "height": 53
    },
    "id": "JFRSHwJ4mmCM",
    "outputId": "78a09ea3-b4f2-447f-ed1a-9df31f0e51fe"
   },
   "outputs": [],
   "source": [
    "long = np.genfromtxt(phonon_data+'Si_phonon_group_vel_long', delimiter=',')\n",
    "ft = np.genfromtxt(phonon_data+'Si_phonon_group_vel_trans_fast', delimiter=',')\n",
    "st = np.genfromtxt(phonon_data+'Si_phonon_group_vel_trans_slow', delimiter=',')\n",
    "\n",
    "s = 1 # marker size\n",
    "\n",
    "fig = plt.figure()\n",
    "ax = Axes3D(fig)\n",
    "ax.view_init(30, -20)\n",
    "data=long/1000\n",
    "ax.scatter(data[:,0], data[:,1], data[:,2], s=s, c='b')\n",
    "data=ft/1000\n",
    "ax.scatter(data[:,0], data[:,1], data[:,2], s=s, c='g')\n",
    "data=st/1000\n",
    "ax.scatter(data[:,0], data[:,1], data[:,2], s=s, c='r')\n",
    "\n",
    "ax.set_xlabel('$v_x$ [km/s]')\n",
    "ax.set_ylabel('    $v_y$ [km/s]')\n",
    "ax.yaxis.labelpad=10\n",
    "ax.set_zlabel('$v_z$ [km/s]')\n",
    "#ax.set_aspect('equal', 'box')\n",
    "#ax.set_zlabel('$v_z$ [km/s]')\n",
    "#plt.tight_layout()\n",
    "plt.savefig(phonon_plots+'phonon_group_vel_3d.png', format='png')\n",
    "plt.clf()\n",
    "\n",
    "# Do the same for slowness surfaces\n",
    "long = np.genfromtxt(phonon_data+'Si_phonon_slowness_long', delimiter=',')\n",
    "ft = np.genfromtxt(phonon_data+'Si_phonon_slowness_trans_fast', delimiter=',')\n",
    "st = np.genfromtxt(phonon_data+'Si_phonon_slowness_trans_slow', delimiter=',')\n",
    "\n",
    "fig = plt.figure()\n",
    "ax = Axes3D(fig)\n",
    "ax.view_init(30, -20)\n",
    "data=long/(long**2).sum(axis=1).reshape(-1,1)*1e9\n",
    "ax.scatter(data[:,0], data[:,1], data[:,2], s=s, c='b')\n",
    "data=ft/(ft**2).sum(axis=1).reshape(-1,1)*1e9\n",
    "ax.scatter(data[:,0], data[:,1], data[:,2], s=s, c='g')\n",
    "data=st/(st**2).sum(axis=1).reshape(-1,1)*1e9\n",
    "ax.scatter(data[:,0], data[:,1], data[:,2], s=s, c='r')\n",
    "\n",
    "ax.set_xlabel('$v_x$ [km/s]')\n",
    "ax.set_ylabel('    $v_y$ [km/s]')\n",
    "ax.yaxis.labelpad=10\n",
    "ax.set_zlabel('$v_z$ [km/s]')\n",
    "#ax.set_aspect('equal', 'box')\n",
    "#ax.set_zlabel('$v_z$ [km/s]')\n",
    "#plt.tight_layout()\n",
    "plt.savefig(phonon_plots+'phonon_slowness_vel_3d.png', format='png')\n",
    "plt.clf()"
   ]
  }
 ],
 "metadata": {
  "colab": {
   "provenance": []
  },
  "kernelspec": {
   "display_name": "Python 3 (ipykernel)",
   "language": "python",
   "name": "python3"
  },
  "language_info": {
   "codemirror_mode": {
    "name": "ipython",
    "version": 3
   },
   "file_extension": ".py",
   "mimetype": "text/x-python",
   "name": "python",
   "nbconvert_exporter": "python",
   "pygments_lexer": "ipython3",
   "version": "3.10.12"
  }
 },
 "nbformat": 4,
 "nbformat_minor": 4
}
