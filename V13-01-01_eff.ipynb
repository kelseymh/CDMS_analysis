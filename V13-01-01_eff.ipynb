{
 "cells": [
  {
   "cell_type": "code",
   "execution_count": null,
   "id": "081b9365-4596-42da-9cf0-659f671a00ad",
   "metadata": {},
   "outputs": [],
   "source": [
    "from imports import *\n",
    "import phonon_eff\n",
    "%matplotlib inline"
   ]
  },
  {
   "cell_type": "code",
   "execution_count": null,
   "id": "cb6e9730-f30e-4768-9d56-0faa6d94b80f",
   "metadata": {},
   "outputs": [],
   "source": [
    "# DMC files generated using production SuperSim V13-01-01/G4CMP V08-10-00"
   ]
  },
  {
   "cell_type": "code",
   "execution_count": null,
   "id": "2de81108-e221-434e-bcfe-0d0586cad691",
   "metadata": {},
   "outputs": [],
   "source": [
    "snoGe71   = 'data/G4CMP276_final/Production/Ge71-SNOLAB-V13-01-01_24240716_000000.root'\n",
    "sno10keV  = 'data/G4CMP276_final/Production/10keV-SNOLAB-V13-01-01_24240716_000000.root'\n",
    "#izipGe71  = 'data/G4CMP276_final/Production/Ge71-iZIP7-V13-01-01_51240717_000000.root'\n",
    "izipMulti = 'data/G4CMP276_final/Production/multihit-iZIP7-V13-01-01_51240716_000000.root'\n",
    "izipMult0 = 'data/G4CMP276_final/Production/multiCenter-iZIP7-V13-01-01_51240716_000000.root'"
   ]
  },
  {
   "cell_type": "code",
   "execution_count": null,
   "id": "23536406-4a49-4d61-a74c-87778893df9c",
   "metadata": {},
   "outputs": [],
   "source": [
    "title = \"SNOLAB V13-01-01, Ge-71 contaminant events\"\n",
    "figfile = \"SNOLAB-eff-stack_V13-01-01.png\"\n",
    "phonon_eff.stackEfficiency(snoGe71, title, figfile)"
   ]
  },
  {
   "cell_type": "code",
   "execution_count": null,
   "id": "bec52e57-289d-412f-b15a-ef58f6d7e8d9",
   "metadata": {},
   "outputs": [],
   "source": [
    "title = \"SNOLAB V13-01-01, 10 keV DMCER events\"\n",
    "figfile = \"SNOLAB-stack-10keV_V13-01-01.png\"\n",
    "phonon_eff.stackEfficiency(sno10keV, title, figfile)"
   ]
  },
  {
   "cell_type": "code",
   "execution_count": null,
   "id": "63a7c5b8-8ea5-4d00-a8b3-321cad0748d0",
   "metadata": {},
   "outputs": [],
   "source": [
    "title   = \"iZIP7 detector, 0.1-10 keV multiple DMCER events\"\n",
    "figfile = \"iZIP7-eff-multi_V13-01-01.png\"\n",
    "phonon_eff.plotEfficiency(izipMulti, title, figfile)"
   ]
  },
  {
   "cell_type": "code",
   "execution_count": null,
   "id": "25c2d854-4b2e-4925-ae2d-0551fc99d412",
   "metadata": {},
   "outputs": [],
   "source": [
    "title   = \"iZIP7 detector, 0.1-10 keV multiple DMCER \\ at (0,0,0)\"\n",
    "figfile = \"iZIP7-eff-multiCenter_V13-01-01.png\"\n",
    "phonon_eff.plotEfficiency(izipMult0, title, figfile)"
   ]
  },
  {
   "cell_type": "code",
   "execution_count": null,
   "id": "9b243f57-2918-4284-bcf6-c3d414ce8c14",
   "metadata": {},
   "outputs": [],
   "source": []
  }
 ],
 "metadata": {
  "kernelspec": {
   "display_name": "Python 3 (ipykernel)",
   "language": "python",
   "name": "python3"
  },
  "language_info": {
   "codemirror_mode": {
    "name": "ipython",
    "version": 3
   },
   "file_extension": ".py",
   "mimetype": "text/x-python",
   "name": "python",
   "nbconvert_exporter": "python",
   "pygments_lexer": "ipython3",
   "version": "3.10.12"
  }
 },
 "nbformat": 4,
 "nbformat_minor": 5
}
