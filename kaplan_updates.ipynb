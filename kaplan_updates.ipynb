{
 "cells": [
  {
   "cell_type": "code",
   "execution_count": null,
   "metadata": {},
   "outputs": [],
   "source": [
    "from imports import *\n",
    "import traces_rdf\n",
    "%matplotlib inline"
   ]
  },
  {
   "cell_type": "code",
   "execution_count": null,
   "metadata": {},
   "outputs": [],
   "source": [
    "# Data files to look at -- 100 eV phonons in NF-C\n",
    "hvevProd = \"data/KaplanQP-updates/Kaplan-V08-09-00-100eV_51240503_000000.root\"\n",
    "hvev344  = \"data/KaplanQP-updates/Kaplan-G4CMP-344b-100eV_51240504_000000.root\"\n",
    "hvev378  = \"data/KaplanQP-updates/Kaplan-G4CMP-378-100eV_51240503_000000.root\"\n",
    "hvev50mK = \"data/KaplanQP-updates/Kaplan-G4CMP-378-50mK-100eV_51240503_000000.root\"\n",
    "hvev379  = \"data/KaplanQP-updates/Kaplan-G4CMP-379-100eV_51240503_000000.root\""
   ]
  },
  {
   "cell_type": "code",
   "execution_count": null,
   "metadata": {},
   "outputs": [],
   "source": [
    "def loaddata(file):\n",
    "    branches = ['KE','Yield','Weight','Time3']\n",
    "    # NOTE: Apply 10 ms time cut to keep only phonons within readout window\n",
    "    qethits = ROOT.RDataFrame(f\"G4SimDir/mczip0\", file, branches)\\\n",
    ".Filter(\"PType==0 & Charge==0 & Time3<10e6\")\\\n",
    ".AsNumpy(branches)\n",
    "    \n",
    "    qethits['Efficiency'] = qethits['Yield']/qethits['KE']\n",
    "    return qethits"
   ]
  },
  {
   "cell_type": "code",
   "execution_count": null,
   "metadata": {},
   "outputs": [],
   "source": [
    "# Individual plots within page -- pass in data and which space to fill\n",
    "\n",
    "def energy(qethits, subplot):\n",
    "    subplot.hist(qethits['KE']*1e3,weights=qethits['Weight'],bins=500,log=True)\n",
    "    subplot.set_xlabel(\"Phonon Energy [meV]\")\n",
    "    \n",
    "def qetyield(qethits, subplot):\n",
    "    subplot.hist(qethits['Yield']*1e3,weights=qethits['Weight'],bins=500,log=True)\n",
    "    subplot.set_xlabel(\"QET Hit Energy [meV]\")\n",
    "    \n",
    "def efficiency(qethits, subplot):\n",
    "    subplot.hist(qethits['Efficiency'],weights=qethits['Weight'],bins=500,log=True)\n",
    "    subplot.set_xlabel(\"QET Efficiency [meV]\")\n",
    "    \n",
    "def power(qethits, subplot):\n",
    "    subplot.hist(qethits['Time3']/1e9,weights=qethits['Weight']*qethits['Yield']*1e3,\n",
    "                 bins=500,log=True)\n",
    "    subplot.set_ylim([1e-2,1e5])\n",
    "    subplot.set_xlabel(\"QET Hit Time [s]\")\n",
    "    subplot.set_ylabel(\"Energy/Bin [meV]\")"
   ]
  },
  {
   "cell_type": "code",
   "execution_count": null,
   "metadata": {},
   "outputs": [],
   "source": [
    "# Generate full page of plots from specified data file\n",
    "\n",
    "def qetplots(file, name):\n",
    "    fig, axes = subplots(2,2,figsize=(18,9), dpi = 1000)\n",
    "    fig.set_tight_layout(True)\n",
    "    fig.suptitle(f\"100 eV Phonon-only HV-C, QET Hits (G4CMP {name})\",fontsize=14)\n",
    "\n",
    "    qethits = loaddata(file)\n",
    "    energy(qethits, axes[0][0])\n",
    "    qetyield(qethits, axes[0][1])\n",
    "    efficiency(qethits, axes[1][0])\n",
    "    power(qethits, axes[1][1])\n",
    "    \n",
    "    fig.savefig(f\"KaplanQP-G4CMP-{name}.eps\")\n",
    "    fig.savefig(f\"KaplanQP-G4CMP-{name}.png\")"
   ]
  },
  {
   "cell_type": "code",
   "execution_count": null,
   "metadata": {},
   "outputs": [],
   "source": [
    "qetplots(hvevProd, \"V08-09-00\")"
   ]
  },
  {
   "cell_type": "code",
   "execution_count": null,
   "metadata": {},
   "outputs": [],
   "source": [
    "qetplots(hvev344, \"344\")"
   ]
  },
  {
   "cell_type": "code",
   "execution_count": null,
   "metadata": {},
   "outputs": [],
   "source": [
    "qetplots(hvev378, \"378\")"
   ]
  },
  {
   "cell_type": "code",
   "execution_count": null,
   "metadata": {},
   "outputs": [],
   "source": [
    "qetplots(hvev379, \"379\")"
   ]
  },
  {
   "cell_type": "code",
   "execution_count": null,
   "metadata": {},
   "outputs": [],
   "source": [
    "qetplots(hvev50mK, \"50mK\")"
   ]
  },
  {
   "cell_type": "code",
   "execution_count": null,
   "metadata": {},
   "outputs": [],
   "source": []
  }
 ],
 "metadata": {
  "kernelspec": {
   "display_name": "Python 3",
   "language": "python",
   "name": "python3"
  },
  "language_info": {
   "codemirror_mode": {
    "name": "ipython",
    "version": 3
   },
   "file_extension": ".py",
   "mimetype": "text/x-python",
   "name": "python",
   "nbconvert_exporter": "python",
   "pygments_lexer": "ipython3",
   "version": "3.6.6"
  }
 },
 "nbformat": 4,
 "nbformat_minor": 2
}
